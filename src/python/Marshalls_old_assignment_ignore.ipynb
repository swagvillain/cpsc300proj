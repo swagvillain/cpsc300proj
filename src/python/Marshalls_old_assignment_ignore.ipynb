{
 "cells": [
  {
   "cell_type": "markdown",
   "metadata": {
    "id": "w1k4NmzAWTKy"
   },
   "source": [
    "# Assignment 3\n",
    "CPSC 499 Applied Machine Learning\n",
    "Marshall Brown, 230158096\n",
    "March 11, 2024"
   ]
  },
  {
   "cell_type": "code",
   "execution_count": 3,
   "metadata": {
    "id": "XEYL8MqtVw1y"
   },
   "outputs": [],
   "source": [
    "import io\n",
    "import sklearn\n",
    "import numpy as np\n",
    "import pandas as pd\n",
    "import seaborn as sns\n",
    "import matplotlib.pyplot as plt\n",
    "\n",
    "from sklearn.model_selection import train_test_split\n",
    "from sklearn.metrics import accuracy_score, classification_report, confusion_matrix, f1_score, recall_score"
   ]
  },
  {
   "cell_type": "markdown",
   "metadata": {
    "id": "sRFi6QvybKuJ"
   },
   "source": [
    "## Data Set Exploration"
   ]
  },
  {
   "cell_type": "code",
   "execution_count": 4,
   "metadata": {
    "colab": {
     "base_uri": "https://localhost:8080/"
    },
    "id": "ehy1PX88ZvKT",
    "outputId": "2c23fa67-a037-4ade-f2ec-e2da71c3d507"
   },
   "outputs": [
    {
     "ename": "FileNotFoundError",
     "evalue": "[Errno 2] No such file or directory: 'Churn_Modelling.csv'",
     "output_type": "error",
     "traceback": [
      "\u001b[1;31m---------------------------------------------------------------------------\u001b[0m",
      "\u001b[1;31mFileNotFoundError\u001b[0m                         Traceback (most recent call last)",
      "Cell \u001b[1;32mIn[4], line 1\u001b[0m\n\u001b[1;32m----> 1\u001b[0m data \u001b[38;5;241m=\u001b[39m \u001b[43mpd\u001b[49m\u001b[38;5;241;43m.\u001b[39;49m\u001b[43mread_csv\u001b[49m\u001b[43m(\u001b[49m\u001b[38;5;124;43m\"\u001b[39;49m\u001b[38;5;124;43mChurn_Modelling.csv\u001b[39;49m\u001b[38;5;124;43m\"\u001b[39;49m\u001b[43m)\u001b[49m\n\u001b[0;32m      3\u001b[0m \u001b[38;5;66;03m# Displaying the first few rows of the data\u001b[39;00m\n\u001b[0;32m      4\u001b[0m \u001b[38;5;28mprint\u001b[39m(data\u001b[38;5;241m.\u001b[39mhead())\n",
      "File \u001b[1;32mc:\\Python312\\Lib\\site-packages\\pandas\\io\\parsers\\readers.py:1026\u001b[0m, in \u001b[0;36mread_csv\u001b[1;34m(filepath_or_buffer, sep, delimiter, header, names, index_col, usecols, dtype, engine, converters, true_values, false_values, skipinitialspace, skiprows, skipfooter, nrows, na_values, keep_default_na, na_filter, verbose, skip_blank_lines, parse_dates, infer_datetime_format, keep_date_col, date_parser, date_format, dayfirst, cache_dates, iterator, chunksize, compression, thousands, decimal, lineterminator, quotechar, quoting, doublequote, escapechar, comment, encoding, encoding_errors, dialect, on_bad_lines, delim_whitespace, low_memory, memory_map, float_precision, storage_options, dtype_backend)\u001b[0m\n\u001b[0;32m   1013\u001b[0m kwds_defaults \u001b[38;5;241m=\u001b[39m _refine_defaults_read(\n\u001b[0;32m   1014\u001b[0m     dialect,\n\u001b[0;32m   1015\u001b[0m     delimiter,\n\u001b[1;32m   (...)\u001b[0m\n\u001b[0;32m   1022\u001b[0m     dtype_backend\u001b[38;5;241m=\u001b[39mdtype_backend,\n\u001b[0;32m   1023\u001b[0m )\n\u001b[0;32m   1024\u001b[0m kwds\u001b[38;5;241m.\u001b[39mupdate(kwds_defaults)\n\u001b[1;32m-> 1026\u001b[0m \u001b[38;5;28;01mreturn\u001b[39;00m \u001b[43m_read\u001b[49m\u001b[43m(\u001b[49m\u001b[43mfilepath_or_buffer\u001b[49m\u001b[43m,\u001b[49m\u001b[43m \u001b[49m\u001b[43mkwds\u001b[49m\u001b[43m)\u001b[49m\n",
      "File \u001b[1;32mc:\\Python312\\Lib\\site-packages\\pandas\\io\\parsers\\readers.py:620\u001b[0m, in \u001b[0;36m_read\u001b[1;34m(filepath_or_buffer, kwds)\u001b[0m\n\u001b[0;32m    617\u001b[0m _validate_names(kwds\u001b[38;5;241m.\u001b[39mget(\u001b[38;5;124m\"\u001b[39m\u001b[38;5;124mnames\u001b[39m\u001b[38;5;124m\"\u001b[39m, \u001b[38;5;28;01mNone\u001b[39;00m))\n\u001b[0;32m    619\u001b[0m \u001b[38;5;66;03m# Create the parser.\u001b[39;00m\n\u001b[1;32m--> 620\u001b[0m parser \u001b[38;5;241m=\u001b[39m \u001b[43mTextFileReader\u001b[49m\u001b[43m(\u001b[49m\u001b[43mfilepath_or_buffer\u001b[49m\u001b[43m,\u001b[49m\u001b[43m \u001b[49m\u001b[38;5;241;43m*\u001b[39;49m\u001b[38;5;241;43m*\u001b[39;49m\u001b[43mkwds\u001b[49m\u001b[43m)\u001b[49m\n\u001b[0;32m    622\u001b[0m \u001b[38;5;28;01mif\u001b[39;00m chunksize \u001b[38;5;129;01mor\u001b[39;00m iterator:\n\u001b[0;32m    623\u001b[0m     \u001b[38;5;28;01mreturn\u001b[39;00m parser\n",
      "File \u001b[1;32mc:\\Python312\\Lib\\site-packages\\pandas\\io\\parsers\\readers.py:1620\u001b[0m, in \u001b[0;36mTextFileReader.__init__\u001b[1;34m(self, f, engine, **kwds)\u001b[0m\n\u001b[0;32m   1617\u001b[0m     \u001b[38;5;28mself\u001b[39m\u001b[38;5;241m.\u001b[39moptions[\u001b[38;5;124m\"\u001b[39m\u001b[38;5;124mhas_index_names\u001b[39m\u001b[38;5;124m\"\u001b[39m] \u001b[38;5;241m=\u001b[39m kwds[\u001b[38;5;124m\"\u001b[39m\u001b[38;5;124mhas_index_names\u001b[39m\u001b[38;5;124m\"\u001b[39m]\n\u001b[0;32m   1619\u001b[0m \u001b[38;5;28mself\u001b[39m\u001b[38;5;241m.\u001b[39mhandles: IOHandles \u001b[38;5;241m|\u001b[39m \u001b[38;5;28;01mNone\u001b[39;00m \u001b[38;5;241m=\u001b[39m \u001b[38;5;28;01mNone\u001b[39;00m\n\u001b[1;32m-> 1620\u001b[0m \u001b[38;5;28mself\u001b[39m\u001b[38;5;241m.\u001b[39m_engine \u001b[38;5;241m=\u001b[39m \u001b[38;5;28;43mself\u001b[39;49m\u001b[38;5;241;43m.\u001b[39;49m\u001b[43m_make_engine\u001b[49m\u001b[43m(\u001b[49m\u001b[43mf\u001b[49m\u001b[43m,\u001b[49m\u001b[43m \u001b[49m\u001b[38;5;28;43mself\u001b[39;49m\u001b[38;5;241;43m.\u001b[39;49m\u001b[43mengine\u001b[49m\u001b[43m)\u001b[49m\n",
      "File \u001b[1;32mc:\\Python312\\Lib\\site-packages\\pandas\\io\\parsers\\readers.py:1880\u001b[0m, in \u001b[0;36mTextFileReader._make_engine\u001b[1;34m(self, f, engine)\u001b[0m\n\u001b[0;32m   1878\u001b[0m     \u001b[38;5;28;01mif\u001b[39;00m \u001b[38;5;124m\"\u001b[39m\u001b[38;5;124mb\u001b[39m\u001b[38;5;124m\"\u001b[39m \u001b[38;5;129;01mnot\u001b[39;00m \u001b[38;5;129;01min\u001b[39;00m mode:\n\u001b[0;32m   1879\u001b[0m         mode \u001b[38;5;241m+\u001b[39m\u001b[38;5;241m=\u001b[39m \u001b[38;5;124m\"\u001b[39m\u001b[38;5;124mb\u001b[39m\u001b[38;5;124m\"\u001b[39m\n\u001b[1;32m-> 1880\u001b[0m \u001b[38;5;28mself\u001b[39m\u001b[38;5;241m.\u001b[39mhandles \u001b[38;5;241m=\u001b[39m \u001b[43mget_handle\u001b[49m\u001b[43m(\u001b[49m\n\u001b[0;32m   1881\u001b[0m \u001b[43m    \u001b[49m\u001b[43mf\u001b[49m\u001b[43m,\u001b[49m\n\u001b[0;32m   1882\u001b[0m \u001b[43m    \u001b[49m\u001b[43mmode\u001b[49m\u001b[43m,\u001b[49m\n\u001b[0;32m   1883\u001b[0m \u001b[43m    \u001b[49m\u001b[43mencoding\u001b[49m\u001b[38;5;241;43m=\u001b[39;49m\u001b[38;5;28;43mself\u001b[39;49m\u001b[38;5;241;43m.\u001b[39;49m\u001b[43moptions\u001b[49m\u001b[38;5;241;43m.\u001b[39;49m\u001b[43mget\u001b[49m\u001b[43m(\u001b[49m\u001b[38;5;124;43m\"\u001b[39;49m\u001b[38;5;124;43mencoding\u001b[39;49m\u001b[38;5;124;43m\"\u001b[39;49m\u001b[43m,\u001b[49m\u001b[43m \u001b[49m\u001b[38;5;28;43;01mNone\u001b[39;49;00m\u001b[43m)\u001b[49m\u001b[43m,\u001b[49m\n\u001b[0;32m   1884\u001b[0m \u001b[43m    \u001b[49m\u001b[43mcompression\u001b[49m\u001b[38;5;241;43m=\u001b[39;49m\u001b[38;5;28;43mself\u001b[39;49m\u001b[38;5;241;43m.\u001b[39;49m\u001b[43moptions\u001b[49m\u001b[38;5;241;43m.\u001b[39;49m\u001b[43mget\u001b[49m\u001b[43m(\u001b[49m\u001b[38;5;124;43m\"\u001b[39;49m\u001b[38;5;124;43mcompression\u001b[39;49m\u001b[38;5;124;43m\"\u001b[39;49m\u001b[43m,\u001b[49m\u001b[43m \u001b[49m\u001b[38;5;28;43;01mNone\u001b[39;49;00m\u001b[43m)\u001b[49m\u001b[43m,\u001b[49m\n\u001b[0;32m   1885\u001b[0m \u001b[43m    \u001b[49m\u001b[43mmemory_map\u001b[49m\u001b[38;5;241;43m=\u001b[39;49m\u001b[38;5;28;43mself\u001b[39;49m\u001b[38;5;241;43m.\u001b[39;49m\u001b[43moptions\u001b[49m\u001b[38;5;241;43m.\u001b[39;49m\u001b[43mget\u001b[49m\u001b[43m(\u001b[49m\u001b[38;5;124;43m\"\u001b[39;49m\u001b[38;5;124;43mmemory_map\u001b[39;49m\u001b[38;5;124;43m\"\u001b[39;49m\u001b[43m,\u001b[49m\u001b[43m \u001b[49m\u001b[38;5;28;43;01mFalse\u001b[39;49;00m\u001b[43m)\u001b[49m\u001b[43m,\u001b[49m\n\u001b[0;32m   1886\u001b[0m \u001b[43m    \u001b[49m\u001b[43mis_text\u001b[49m\u001b[38;5;241;43m=\u001b[39;49m\u001b[43mis_text\u001b[49m\u001b[43m,\u001b[49m\n\u001b[0;32m   1887\u001b[0m \u001b[43m    \u001b[49m\u001b[43merrors\u001b[49m\u001b[38;5;241;43m=\u001b[39;49m\u001b[38;5;28;43mself\u001b[39;49m\u001b[38;5;241;43m.\u001b[39;49m\u001b[43moptions\u001b[49m\u001b[38;5;241;43m.\u001b[39;49m\u001b[43mget\u001b[49m\u001b[43m(\u001b[49m\u001b[38;5;124;43m\"\u001b[39;49m\u001b[38;5;124;43mencoding_errors\u001b[39;49m\u001b[38;5;124;43m\"\u001b[39;49m\u001b[43m,\u001b[49m\u001b[43m \u001b[49m\u001b[38;5;124;43m\"\u001b[39;49m\u001b[38;5;124;43mstrict\u001b[39;49m\u001b[38;5;124;43m\"\u001b[39;49m\u001b[43m)\u001b[49m\u001b[43m,\u001b[49m\n\u001b[0;32m   1888\u001b[0m \u001b[43m    \u001b[49m\u001b[43mstorage_options\u001b[49m\u001b[38;5;241;43m=\u001b[39;49m\u001b[38;5;28;43mself\u001b[39;49m\u001b[38;5;241;43m.\u001b[39;49m\u001b[43moptions\u001b[49m\u001b[38;5;241;43m.\u001b[39;49m\u001b[43mget\u001b[49m\u001b[43m(\u001b[49m\u001b[38;5;124;43m\"\u001b[39;49m\u001b[38;5;124;43mstorage_options\u001b[39;49m\u001b[38;5;124;43m\"\u001b[39;49m\u001b[43m,\u001b[49m\u001b[43m \u001b[49m\u001b[38;5;28;43;01mNone\u001b[39;49;00m\u001b[43m)\u001b[49m\u001b[43m,\u001b[49m\n\u001b[0;32m   1889\u001b[0m \u001b[43m\u001b[49m\u001b[43m)\u001b[49m\n\u001b[0;32m   1890\u001b[0m \u001b[38;5;28;01massert\u001b[39;00m \u001b[38;5;28mself\u001b[39m\u001b[38;5;241m.\u001b[39mhandles \u001b[38;5;129;01mis\u001b[39;00m \u001b[38;5;129;01mnot\u001b[39;00m \u001b[38;5;28;01mNone\u001b[39;00m\n\u001b[0;32m   1891\u001b[0m f \u001b[38;5;241m=\u001b[39m \u001b[38;5;28mself\u001b[39m\u001b[38;5;241m.\u001b[39mhandles\u001b[38;5;241m.\u001b[39mhandle\n",
      "File \u001b[1;32mc:\\Python312\\Lib\\site-packages\\pandas\\io\\common.py:873\u001b[0m, in \u001b[0;36mget_handle\u001b[1;34m(path_or_buf, mode, encoding, compression, memory_map, is_text, errors, storage_options)\u001b[0m\n\u001b[0;32m    868\u001b[0m \u001b[38;5;28;01melif\u001b[39;00m \u001b[38;5;28misinstance\u001b[39m(handle, \u001b[38;5;28mstr\u001b[39m):\n\u001b[0;32m    869\u001b[0m     \u001b[38;5;66;03m# Check whether the filename is to be opened in binary mode.\u001b[39;00m\n\u001b[0;32m    870\u001b[0m     \u001b[38;5;66;03m# Binary mode does not support 'encoding' and 'newline'.\u001b[39;00m\n\u001b[0;32m    871\u001b[0m     \u001b[38;5;28;01mif\u001b[39;00m ioargs\u001b[38;5;241m.\u001b[39mencoding \u001b[38;5;129;01mand\u001b[39;00m \u001b[38;5;124m\"\u001b[39m\u001b[38;5;124mb\u001b[39m\u001b[38;5;124m\"\u001b[39m \u001b[38;5;129;01mnot\u001b[39;00m \u001b[38;5;129;01min\u001b[39;00m ioargs\u001b[38;5;241m.\u001b[39mmode:\n\u001b[0;32m    872\u001b[0m         \u001b[38;5;66;03m# Encoding\u001b[39;00m\n\u001b[1;32m--> 873\u001b[0m         handle \u001b[38;5;241m=\u001b[39m \u001b[38;5;28;43mopen\u001b[39;49m\u001b[43m(\u001b[49m\n\u001b[0;32m    874\u001b[0m \u001b[43m            \u001b[49m\u001b[43mhandle\u001b[49m\u001b[43m,\u001b[49m\n\u001b[0;32m    875\u001b[0m \u001b[43m            \u001b[49m\u001b[43mioargs\u001b[49m\u001b[38;5;241;43m.\u001b[39;49m\u001b[43mmode\u001b[49m\u001b[43m,\u001b[49m\n\u001b[0;32m    876\u001b[0m \u001b[43m            \u001b[49m\u001b[43mencoding\u001b[49m\u001b[38;5;241;43m=\u001b[39;49m\u001b[43mioargs\u001b[49m\u001b[38;5;241;43m.\u001b[39;49m\u001b[43mencoding\u001b[49m\u001b[43m,\u001b[49m\n\u001b[0;32m    877\u001b[0m \u001b[43m            \u001b[49m\u001b[43merrors\u001b[49m\u001b[38;5;241;43m=\u001b[39;49m\u001b[43merrors\u001b[49m\u001b[43m,\u001b[49m\n\u001b[0;32m    878\u001b[0m \u001b[43m            \u001b[49m\u001b[43mnewline\u001b[49m\u001b[38;5;241;43m=\u001b[39;49m\u001b[38;5;124;43m\"\u001b[39;49m\u001b[38;5;124;43m\"\u001b[39;49m\u001b[43m,\u001b[49m\n\u001b[0;32m    879\u001b[0m \u001b[43m        \u001b[49m\u001b[43m)\u001b[49m\n\u001b[0;32m    880\u001b[0m     \u001b[38;5;28;01melse\u001b[39;00m:\n\u001b[0;32m    881\u001b[0m         \u001b[38;5;66;03m# Binary mode\u001b[39;00m\n\u001b[0;32m    882\u001b[0m         handle \u001b[38;5;241m=\u001b[39m \u001b[38;5;28mopen\u001b[39m(handle, ioargs\u001b[38;5;241m.\u001b[39mmode)\n",
      "\u001b[1;31mFileNotFoundError\u001b[0m: [Errno 2] No such file or directory: 'Churn_Modelling.csv'"
     ]
    }
   ],
   "source": [
    "data = pd.read_csv(\"Churn_Modelling.csv\")\n",
    "\n",
    "# Displaying the first few rows of the data\n",
    "print(data.head())"
   ]
  },
  {
   "cell_type": "code",
   "execution_count": null,
   "metadata": {
    "colab": {
     "base_uri": "https://localhost:8080/"
    },
    "id": "s0N3OWajymzI",
    "outputId": "cc355070-c49d-454f-e2f9-b191ea820ab9"
   },
   "outputs": [
    {
     "name": "stdout",
     "output_type": "stream",
     "text": [
      "<class 'pandas.core.frame.DataFrame'>\n",
      "RangeIndex: 10002 entries, 0 to 10001\n",
      "Data columns (total 14 columns):\n",
      " #   Column           Non-Null Count  Dtype  \n",
      "---  ------           --------------  -----  \n",
      " 0   RowNumber        10002 non-null  int64  \n",
      " 1   CustomerId       10002 non-null  int64  \n",
      " 2   Surname          10002 non-null  object \n",
      " 3   CreditScore      10002 non-null  int64  \n",
      " 4   Geography        10001 non-null  object \n",
      " 5   Gender           10002 non-null  object \n",
      " 6   Age              10001 non-null  float64\n",
      " 7   Tenure           10002 non-null  int64  \n",
      " 8   Balance          10002 non-null  float64\n",
      " 9   NumOfProducts    10002 non-null  int64  \n",
      " 10  HasCrCard        10001 non-null  float64\n",
      " 11  IsActiveMember   10001 non-null  float64\n",
      " 12  EstimatedSalary  10002 non-null  float64\n",
      " 13  Exited           10002 non-null  int64  \n",
      "dtypes: float64(5), int64(6), object(3)\n",
      "memory usage: 1.1+ MB\n",
      "None\n"
     ]
    }
   ],
   "source": [
    "# Summary of data\n",
    "print(data.info())"
   ]
  },
  {
   "cell_type": "code",
   "execution_count": null,
   "metadata": {
    "colab": {
     "base_uri": "https://localhost:8080/",
     "height": 414
    },
    "id": "8-h4DpuKyonX",
    "outputId": "16ce1876-3a7d-452d-be72-0deee8383435"
   },
   "outputs": [
    {
     "data": {
      "application/vnd.google.colaboratory.intrinsic+json": {
       "summary": "{\n  \"name\": \"data\",\n  \"rows\": 11,\n  \"fields\": [\n    {\n      \"column\": \"RowNumber\",\n      \"properties\": {\n        \"dtype\": \"number\",\n        \"std\": 3604.0967470921937,\n        \"min\": 1.0,\n        \"max\": 10002.0,\n        \"num_unique_values\": 8,\n        \"samples\": [\n          5001.499600079984,\n          5001.5,\n          10002.0\n        ],\n        \"semantic_type\": \"\",\n        \"description\": \"\"\n      }\n    },\n    {\n      \"column\": \"CustomerId\",\n      \"properties\": {\n        \"dtype\": \"number\",\n        \"std\": 7244869.192613069,\n        \"min\": 10002.0,\n        \"max\": 15815690.0,\n        \"num_unique_values\": 8,\n        \"samples\": [\n          15690933.450109977,\n          15690732.0,\n          10002.0\n        ],\n        \"semantic_type\": \"\",\n        \"description\": \"\"\n      }\n    },\n    {\n      \"column\": \"Surname\",\n      \"properties\": {\n        \"dtype\": \"category\",\n        \"num_unique_values\": 4,\n        \"samples\": [\n          2932,\n          \"32\",\n          \"10002\"\n        ],\n        \"semantic_type\": \"\",\n        \"description\": \"\"\n      }\n    },\n    {\n      \"column\": \"CreditScore\",\n      \"properties\": {\n        \"dtype\": \"number\",\n        \"std\": 3347.4259631409773,\n        \"min\": 96.66161527623206,\n        \"max\": 10002.0,\n        \"num_unique_values\": 8,\n        \"samples\": [\n          650.5550889822035,\n          652.0,\n          10002.0\n        ],\n        \"semantic_type\": \"\",\n        \"description\": \"\"\n      }\n    },\n    {\n      \"column\": \"Geography\",\n      \"properties\": {\n        \"dtype\": \"category\",\n        \"num_unique_values\": 4,\n        \"samples\": [\n          3,\n          \"5014\",\n          \"10001\"\n        ],\n        \"semantic_type\": \"\",\n        \"description\": \"\"\n      }\n    },\n    {\n      \"column\": \"Gender\",\n      \"properties\": {\n        \"dtype\": \"category\",\n        \"num_unique_values\": 4,\n        \"samples\": [\n          2,\n          \"5458\",\n          \"10002\"\n        ],\n        \"semantic_type\": \"\",\n        \"description\": \"\"\n      }\n    },\n    {\n      \"column\": \"Age\",\n      \"properties\": {\n        \"dtype\": \"number\",\n        \"std\": 3522.212678254472,\n        \"min\": 10.487199862204067,\n        \"max\": 10001.0,\n        \"num_unique_values\": 8,\n        \"samples\": [\n          38.92231076892311,\n          37.0,\n          10001.0\n        ],\n        \"semantic_type\": \"\",\n        \"description\": \"\"\n      }\n    },\n    {\n      \"column\": \"Tenure\",\n      \"properties\": {\n        \"dtype\": \"number\",\n        \"std\": 3534.5803352086173,\n        \"min\": 0.0,\n        \"max\": 10002.0,\n        \"num_unique_values\": 8,\n        \"samples\": [\n          5.0124975004999,\n          5.0,\n          10002.0\n        ],\n        \"semantic_type\": \"\",\n        \"description\": \"\"\n      }\n    },\n    {\n      \"column\": \"Balance\",\n      \"properties\": {\n        \"dtype\": \"number\",\n        \"std\": 84316.37706956967,\n        \"min\": 0.0,\n        \"max\": 250898.09,\n        \"num_unique_values\": 7,\n        \"samples\": [\n          10002.0,\n          76491.11287542492,\n          127647.84\n        ],\n        \"semantic_type\": \"\",\n        \"description\": \"\"\n      }\n    },\n    {\n      \"column\": \"NumOfProducts\",\n      \"properties\": {\n        \"dtype\": \"number\",\n        \"std\": 3535.6799428225677,\n        \"min\": 0.5816393314936084,\n        \"max\": 10002.0,\n        \"num_unique_values\": 6,\n        \"samples\": [\n          10002.0,\n          1.5301939612077584,\n          4.0\n        ],\n        \"semantic_type\": \"\",\n        \"description\": \"\"\n      }\n    },\n    {\n      \"column\": \"HasCrCard\",\n      \"properties\": {\n        \"dtype\": \"number\",\n        \"std\": 3535.6773039570908,\n        \"min\": 0.0,\n        \"max\": 10001.0,\n        \"num_unique_values\": 5,\n        \"samples\": [\n          0.7055294470552945,\n          1.0,\n          0.45582718453135745\n        ],\n        \"semantic_type\": \"\",\n        \"description\": \"\"\n      }\n    },\n    {\n      \"column\": \"IsActiveMember\",\n      \"properties\": {\n        \"dtype\": \"number\",\n        \"std\": 3535.684708320195,\n        \"min\": 0.0,\n        \"max\": 10001.0,\n        \"num_unique_values\": 5,\n        \"samples\": [\n          0.5149485051494851,\n          1.0,\n          0.49980148043799877\n        ],\n        \"semantic_type\": \"\",\n        \"description\": \"\"\n      }\n    },\n    {\n      \"column\": \"EstimatedSalary\",\n      \"properties\": {\n        \"dtype\": \"number\",\n        \"std\": 68211.55283713211,\n        \"min\": 11.58,\n        \"max\": 199992.48,\n        \"num_unique_values\": 8,\n        \"samples\": [\n          100083.33114477104,\n          100185.23999999999,\n          10002.0\n        ],\n        \"semantic_type\": \"\",\n        \"description\": \"\"\n      }\n    },\n    {\n      \"column\": \"Exited\",\n      \"properties\": {\n        \"dtype\": \"number\",\n        \"std\": 3536.159885471515,\n        \"min\": 0.0,\n        \"max\": 10002.0,\n        \"num_unique_values\": 5,\n        \"samples\": [\n          0.20375924815036991,\n          1.0,\n          0.4028121639958361\n        ],\n        \"semantic_type\": \"\",\n        \"description\": \"\"\n      }\n    }\n  ]\n}",
       "type": "dataframe"
      },
      "text/html": [
       "\n",
       "  <div id=\"df-0871188b-2b85-4f1a-b783-0ecf8fe9847e\" class=\"colab-df-container\">\n",
       "    <div>\n",
       "<style scoped>\n",
       "    .dataframe tbody tr th:only-of-type {\n",
       "        vertical-align: middle;\n",
       "    }\n",
       "\n",
       "    .dataframe tbody tr th {\n",
       "        vertical-align: top;\n",
       "    }\n",
       "\n",
       "    .dataframe thead th {\n",
       "        text-align: right;\n",
       "    }\n",
       "</style>\n",
       "<table border=\"1\" class=\"dataframe\">\n",
       "  <thead>\n",
       "    <tr style=\"text-align: right;\">\n",
       "      <th></th>\n",
       "      <th>RowNumber</th>\n",
       "      <th>CustomerId</th>\n",
       "      <th>Surname</th>\n",
       "      <th>CreditScore</th>\n",
       "      <th>Geography</th>\n",
       "      <th>Gender</th>\n",
       "      <th>Age</th>\n",
       "      <th>Tenure</th>\n",
       "      <th>Balance</th>\n",
       "      <th>NumOfProducts</th>\n",
       "      <th>HasCrCard</th>\n",
       "      <th>IsActiveMember</th>\n",
       "      <th>EstimatedSalary</th>\n",
       "      <th>Exited</th>\n",
       "    </tr>\n",
       "  </thead>\n",
       "  <tbody>\n",
       "    <tr>\n",
       "      <th>count</th>\n",
       "      <td>10002.000000</td>\n",
       "      <td>1.000200e+04</td>\n",
       "      <td>10002</td>\n",
       "      <td>10002.000000</td>\n",
       "      <td>10001</td>\n",
       "      <td>10002</td>\n",
       "      <td>10001.000000</td>\n",
       "      <td>10002.000000</td>\n",
       "      <td>10002.000000</td>\n",
       "      <td>10002.000000</td>\n",
       "      <td>10001.000000</td>\n",
       "      <td>10001.000000</td>\n",
       "      <td>10002.000000</td>\n",
       "      <td>10002.000000</td>\n",
       "    </tr>\n",
       "    <tr>\n",
       "      <th>unique</th>\n",
       "      <td>NaN</td>\n",
       "      <td>NaN</td>\n",
       "      <td>2932</td>\n",
       "      <td>NaN</td>\n",
       "      <td>3</td>\n",
       "      <td>2</td>\n",
       "      <td>NaN</td>\n",
       "      <td>NaN</td>\n",
       "      <td>NaN</td>\n",
       "      <td>NaN</td>\n",
       "      <td>NaN</td>\n",
       "      <td>NaN</td>\n",
       "      <td>NaN</td>\n",
       "      <td>NaN</td>\n",
       "    </tr>\n",
       "    <tr>\n",
       "      <th>top</th>\n",
       "      <td>NaN</td>\n",
       "      <td>NaN</td>\n",
       "      <td>Smith</td>\n",
       "      <td>NaN</td>\n",
       "      <td>France</td>\n",
       "      <td>Male</td>\n",
       "      <td>NaN</td>\n",
       "      <td>NaN</td>\n",
       "      <td>NaN</td>\n",
       "      <td>NaN</td>\n",
       "      <td>NaN</td>\n",
       "      <td>NaN</td>\n",
       "      <td>NaN</td>\n",
       "      <td>NaN</td>\n",
       "    </tr>\n",
       "    <tr>\n",
       "      <th>freq</th>\n",
       "      <td>NaN</td>\n",
       "      <td>NaN</td>\n",
       "      <td>32</td>\n",
       "      <td>NaN</td>\n",
       "      <td>5014</td>\n",
       "      <td>5458</td>\n",
       "      <td>NaN</td>\n",
       "      <td>NaN</td>\n",
       "      <td>NaN</td>\n",
       "      <td>NaN</td>\n",
       "      <td>NaN</td>\n",
       "      <td>NaN</td>\n",
       "      <td>NaN</td>\n",
       "      <td>NaN</td>\n",
       "    </tr>\n",
       "    <tr>\n",
       "      <th>mean</th>\n",
       "      <td>5001.499600</td>\n",
       "      <td>1.569093e+07</td>\n",
       "      <td>NaN</td>\n",
       "      <td>650.555089</td>\n",
       "      <td>NaN</td>\n",
       "      <td>NaN</td>\n",
       "      <td>38.922311</td>\n",
       "      <td>5.012498</td>\n",
       "      <td>76491.112875</td>\n",
       "      <td>1.530194</td>\n",
       "      <td>0.705529</td>\n",
       "      <td>0.514949</td>\n",
       "      <td>100083.331145</td>\n",
       "      <td>0.203759</td>\n",
       "    </tr>\n",
       "    <tr>\n",
       "      <th>std</th>\n",
       "      <td>2887.472338</td>\n",
       "      <td>7.193177e+04</td>\n",
       "      <td>NaN</td>\n",
       "      <td>96.661615</td>\n",
       "      <td>NaN</td>\n",
       "      <td>NaN</td>\n",
       "      <td>10.487200</td>\n",
       "      <td>2.891973</td>\n",
       "      <td>62393.474144</td>\n",
       "      <td>0.581639</td>\n",
       "      <td>0.455827</td>\n",
       "      <td>0.499801</td>\n",
       "      <td>57508.117802</td>\n",
       "      <td>0.402812</td>\n",
       "    </tr>\n",
       "    <tr>\n",
       "      <th>min</th>\n",
       "      <td>1.000000</td>\n",
       "      <td>1.556570e+07</td>\n",
       "      <td>NaN</td>\n",
       "      <td>350.000000</td>\n",
       "      <td>NaN</td>\n",
       "      <td>NaN</td>\n",
       "      <td>18.000000</td>\n",
       "      <td>0.000000</td>\n",
       "      <td>0.000000</td>\n",
       "      <td>1.000000</td>\n",
       "      <td>0.000000</td>\n",
       "      <td>0.000000</td>\n",
       "      <td>11.580000</td>\n",
       "      <td>0.000000</td>\n",
       "    </tr>\n",
       "    <tr>\n",
       "      <th>25%</th>\n",
       "      <td>2501.250000</td>\n",
       "      <td>1.562852e+07</td>\n",
       "      <td>NaN</td>\n",
       "      <td>584.000000</td>\n",
       "      <td>NaN</td>\n",
       "      <td>NaN</td>\n",
       "      <td>32.000000</td>\n",
       "      <td>3.000000</td>\n",
       "      <td>0.000000</td>\n",
       "      <td>1.000000</td>\n",
       "      <td>0.000000</td>\n",
       "      <td>0.000000</td>\n",
       "      <td>50983.750000</td>\n",
       "      <td>0.000000</td>\n",
       "    </tr>\n",
       "    <tr>\n",
       "      <th>50%</th>\n",
       "      <td>5001.500000</td>\n",
       "      <td>1.569073e+07</td>\n",
       "      <td>NaN</td>\n",
       "      <td>652.000000</td>\n",
       "      <td>NaN</td>\n",
       "      <td>NaN</td>\n",
       "      <td>37.000000</td>\n",
       "      <td>5.000000</td>\n",
       "      <td>97198.540000</td>\n",
       "      <td>1.000000</td>\n",
       "      <td>1.000000</td>\n",
       "      <td>1.000000</td>\n",
       "      <td>100185.240000</td>\n",
       "      <td>0.000000</td>\n",
       "    </tr>\n",
       "    <tr>\n",
       "      <th>75%</th>\n",
       "      <td>7501.750000</td>\n",
       "      <td>1.575323e+07</td>\n",
       "      <td>NaN</td>\n",
       "      <td>718.000000</td>\n",
       "      <td>NaN</td>\n",
       "      <td>NaN</td>\n",
       "      <td>44.000000</td>\n",
       "      <td>7.000000</td>\n",
       "      <td>127647.840000</td>\n",
       "      <td>2.000000</td>\n",
       "      <td>1.000000</td>\n",
       "      <td>1.000000</td>\n",
       "      <td>149383.652500</td>\n",
       "      <td>0.000000</td>\n",
       "    </tr>\n",
       "    <tr>\n",
       "      <th>max</th>\n",
       "      <td>10000.000000</td>\n",
       "      <td>1.581569e+07</td>\n",
       "      <td>NaN</td>\n",
       "      <td>850.000000</td>\n",
       "      <td>NaN</td>\n",
       "      <td>NaN</td>\n",
       "      <td>92.000000</td>\n",
       "      <td>10.000000</td>\n",
       "      <td>250898.090000</td>\n",
       "      <td>4.000000</td>\n",
       "      <td>1.000000</td>\n",
       "      <td>1.000000</td>\n",
       "      <td>199992.480000</td>\n",
       "      <td>1.000000</td>\n",
       "    </tr>\n",
       "  </tbody>\n",
       "</table>\n",
       "</div>\n",
       "    <div class=\"colab-df-buttons\">\n",
       "\n",
       "  <div class=\"colab-df-container\">\n",
       "    <button class=\"colab-df-convert\" onclick=\"convertToInteractive('df-0871188b-2b85-4f1a-b783-0ecf8fe9847e')\"\n",
       "            title=\"Convert this dataframe to an interactive table.\"\n",
       "            style=\"display:none;\">\n",
       "\n",
       "  <svg xmlns=\"http://www.w3.org/2000/svg\" height=\"24px\" viewBox=\"0 -960 960 960\">\n",
       "    <path d=\"M120-120v-720h720v720H120Zm60-500h600v-160H180v160Zm220 220h160v-160H400v160Zm0 220h160v-160H400v160ZM180-400h160v-160H180v160Zm440 0h160v-160H620v160ZM180-180h160v-160H180v160Zm440 0h160v-160H620v160Z\"/>\n",
       "  </svg>\n",
       "    </button>\n",
       "\n",
       "  <style>\n",
       "    .colab-df-container {\n",
       "      display:flex;\n",
       "      gap: 12px;\n",
       "    }\n",
       "\n",
       "    .colab-df-convert {\n",
       "      background-color: #E8F0FE;\n",
       "      border: none;\n",
       "      border-radius: 50%;\n",
       "      cursor: pointer;\n",
       "      display: none;\n",
       "      fill: #1967D2;\n",
       "      height: 32px;\n",
       "      padding: 0 0 0 0;\n",
       "      width: 32px;\n",
       "    }\n",
       "\n",
       "    .colab-df-convert:hover {\n",
       "      background-color: #E2EBFA;\n",
       "      box-shadow: 0px 1px 2px rgba(60, 64, 67, 0.3), 0px 1px 3px 1px rgba(60, 64, 67, 0.15);\n",
       "      fill: #174EA6;\n",
       "    }\n",
       "\n",
       "    .colab-df-buttons div {\n",
       "      margin-bottom: 4px;\n",
       "    }\n",
       "\n",
       "    [theme=dark] .colab-df-convert {\n",
       "      background-color: #3B4455;\n",
       "      fill: #D2E3FC;\n",
       "    }\n",
       "\n",
       "    [theme=dark] .colab-df-convert:hover {\n",
       "      background-color: #434B5C;\n",
       "      box-shadow: 0px 1px 3px 1px rgba(0, 0, 0, 0.15);\n",
       "      filter: drop-shadow(0px 1px 2px rgba(0, 0, 0, 0.3));\n",
       "      fill: #FFFFFF;\n",
       "    }\n",
       "  </style>\n",
       "\n",
       "    <script>\n",
       "      const buttonEl =\n",
       "        document.querySelector('#df-0871188b-2b85-4f1a-b783-0ecf8fe9847e button.colab-df-convert');\n",
       "      buttonEl.style.display =\n",
       "        google.colab.kernel.accessAllowed ? 'block' : 'none';\n",
       "\n",
       "      async function convertToInteractive(key) {\n",
       "        const element = document.querySelector('#df-0871188b-2b85-4f1a-b783-0ecf8fe9847e');\n",
       "        const dataTable =\n",
       "          await google.colab.kernel.invokeFunction('convertToInteractive',\n",
       "                                                    [key], {});\n",
       "        if (!dataTable) return;\n",
       "\n",
       "        const docLinkHtml = 'Like what you see? Visit the ' +\n",
       "          '<a target=\"_blank\" href=https://colab.research.google.com/notebooks/data_table.ipynb>data table notebook</a>'\n",
       "          + ' to learn more about interactive tables.';\n",
       "        element.innerHTML = '';\n",
       "        dataTable['output_type'] = 'display_data';\n",
       "        await google.colab.output.renderOutput(dataTable, element);\n",
       "        const docLink = document.createElement('div');\n",
       "        docLink.innerHTML = docLinkHtml;\n",
       "        element.appendChild(docLink);\n",
       "      }\n",
       "    </script>\n",
       "  </div>\n",
       "\n",
       "\n",
       "<div id=\"df-cf37957b-aefb-42b8-ac40-e6d33fc6e2d5\">\n",
       "  <button class=\"colab-df-quickchart\" onclick=\"quickchart('df-cf37957b-aefb-42b8-ac40-e6d33fc6e2d5')\"\n",
       "            title=\"Suggest charts\"\n",
       "            style=\"display:none;\">\n",
       "\n",
       "<svg xmlns=\"http://www.w3.org/2000/svg\" height=\"24px\"viewBox=\"0 0 24 24\"\n",
       "     width=\"24px\">\n",
       "    <g>\n",
       "        <path d=\"M19 3H5c-1.1 0-2 .9-2 2v14c0 1.1.9 2 2 2h14c1.1 0 2-.9 2-2V5c0-1.1-.9-2-2-2zM9 17H7v-7h2v7zm4 0h-2V7h2v10zm4 0h-2v-4h2v4z\"/>\n",
       "    </g>\n",
       "</svg>\n",
       "  </button>\n",
       "\n",
       "<style>\n",
       "  .colab-df-quickchart {\n",
       "      --bg-color: #E8F0FE;\n",
       "      --fill-color: #1967D2;\n",
       "      --hover-bg-color: #E2EBFA;\n",
       "      --hover-fill-color: #174EA6;\n",
       "      --disabled-fill-color: #AAA;\n",
       "      --disabled-bg-color: #DDD;\n",
       "  }\n",
       "\n",
       "  [theme=dark] .colab-df-quickchart {\n",
       "      --bg-color: #3B4455;\n",
       "      --fill-color: #D2E3FC;\n",
       "      --hover-bg-color: #434B5C;\n",
       "      --hover-fill-color: #FFFFFF;\n",
       "      --disabled-bg-color: #3B4455;\n",
       "      --disabled-fill-color: #666;\n",
       "  }\n",
       "\n",
       "  .colab-df-quickchart {\n",
       "    background-color: var(--bg-color);\n",
       "    border: none;\n",
       "    border-radius: 50%;\n",
       "    cursor: pointer;\n",
       "    display: none;\n",
       "    fill: var(--fill-color);\n",
       "    height: 32px;\n",
       "    padding: 0;\n",
       "    width: 32px;\n",
       "  }\n",
       "\n",
       "  .colab-df-quickchart:hover {\n",
       "    background-color: var(--hover-bg-color);\n",
       "    box-shadow: 0 1px 2px rgba(60, 64, 67, 0.3), 0 1px 3px 1px rgba(60, 64, 67, 0.15);\n",
       "    fill: var(--button-hover-fill-color);\n",
       "  }\n",
       "\n",
       "  .colab-df-quickchart-complete:disabled,\n",
       "  .colab-df-quickchart-complete:disabled:hover {\n",
       "    background-color: var(--disabled-bg-color);\n",
       "    fill: var(--disabled-fill-color);\n",
       "    box-shadow: none;\n",
       "  }\n",
       "\n",
       "  .colab-df-spinner {\n",
       "    border: 2px solid var(--fill-color);\n",
       "    border-color: transparent;\n",
       "    border-bottom-color: var(--fill-color);\n",
       "    animation:\n",
       "      spin 1s steps(1) infinite;\n",
       "  }\n",
       "\n",
       "  @keyframes spin {\n",
       "    0% {\n",
       "      border-color: transparent;\n",
       "      border-bottom-color: var(--fill-color);\n",
       "      border-left-color: var(--fill-color);\n",
       "    }\n",
       "    20% {\n",
       "      border-color: transparent;\n",
       "      border-left-color: var(--fill-color);\n",
       "      border-top-color: var(--fill-color);\n",
       "    }\n",
       "    30% {\n",
       "      border-color: transparent;\n",
       "      border-left-color: var(--fill-color);\n",
       "      border-top-color: var(--fill-color);\n",
       "      border-right-color: var(--fill-color);\n",
       "    }\n",
       "    40% {\n",
       "      border-color: transparent;\n",
       "      border-right-color: var(--fill-color);\n",
       "      border-top-color: var(--fill-color);\n",
       "    }\n",
       "    60% {\n",
       "      border-color: transparent;\n",
       "      border-right-color: var(--fill-color);\n",
       "    }\n",
       "    80% {\n",
       "      border-color: transparent;\n",
       "      border-right-color: var(--fill-color);\n",
       "      border-bottom-color: var(--fill-color);\n",
       "    }\n",
       "    90% {\n",
       "      border-color: transparent;\n",
       "      border-bottom-color: var(--fill-color);\n",
       "    }\n",
       "  }\n",
       "</style>\n",
       "\n",
       "  <script>\n",
       "    async function quickchart(key) {\n",
       "      const quickchartButtonEl =\n",
       "        document.querySelector('#' + key + ' button');\n",
       "      quickchartButtonEl.disabled = true;  // To prevent multiple clicks.\n",
       "      quickchartButtonEl.classList.add('colab-df-spinner');\n",
       "      try {\n",
       "        const charts = await google.colab.kernel.invokeFunction(\n",
       "            'suggestCharts', [key], {});\n",
       "      } catch (error) {\n",
       "        console.error('Error during call to suggestCharts:', error);\n",
       "      }\n",
       "      quickchartButtonEl.classList.remove('colab-df-spinner');\n",
       "      quickchartButtonEl.classList.add('colab-df-quickchart-complete');\n",
       "    }\n",
       "    (() => {\n",
       "      let quickchartButtonEl =\n",
       "        document.querySelector('#df-cf37957b-aefb-42b8-ac40-e6d33fc6e2d5 button');\n",
       "      quickchartButtonEl.style.display =\n",
       "        google.colab.kernel.accessAllowed ? 'block' : 'none';\n",
       "    })();\n",
       "  </script>\n",
       "</div>\n",
       "\n",
       "    </div>\n",
       "  </div>\n"
      ],
      "text/plain": [
       "           RowNumber    CustomerId Surname   CreditScore Geography Gender  \\\n",
       "count   10002.000000  1.000200e+04   10002  10002.000000     10001  10002   \n",
       "unique           NaN           NaN    2932           NaN         3      2   \n",
       "top              NaN           NaN   Smith           NaN    France   Male   \n",
       "freq             NaN           NaN      32           NaN      5014   5458   \n",
       "mean     5001.499600  1.569093e+07     NaN    650.555089       NaN    NaN   \n",
       "std      2887.472338  7.193177e+04     NaN     96.661615       NaN    NaN   \n",
       "min         1.000000  1.556570e+07     NaN    350.000000       NaN    NaN   \n",
       "25%      2501.250000  1.562852e+07     NaN    584.000000       NaN    NaN   \n",
       "50%      5001.500000  1.569073e+07     NaN    652.000000       NaN    NaN   \n",
       "75%      7501.750000  1.575323e+07     NaN    718.000000       NaN    NaN   \n",
       "max     10000.000000  1.581569e+07     NaN    850.000000       NaN    NaN   \n",
       "\n",
       "                 Age        Tenure        Balance  NumOfProducts  \\\n",
       "count   10001.000000  10002.000000   10002.000000   10002.000000   \n",
       "unique           NaN           NaN            NaN            NaN   \n",
       "top              NaN           NaN            NaN            NaN   \n",
       "freq             NaN           NaN            NaN            NaN   \n",
       "mean       38.922311      5.012498   76491.112875       1.530194   \n",
       "std        10.487200      2.891973   62393.474144       0.581639   \n",
       "min        18.000000      0.000000       0.000000       1.000000   \n",
       "25%        32.000000      3.000000       0.000000       1.000000   \n",
       "50%        37.000000      5.000000   97198.540000       1.000000   \n",
       "75%        44.000000      7.000000  127647.840000       2.000000   \n",
       "max        92.000000     10.000000  250898.090000       4.000000   \n",
       "\n",
       "           HasCrCard  IsActiveMember  EstimatedSalary        Exited  \n",
       "count   10001.000000    10001.000000     10002.000000  10002.000000  \n",
       "unique           NaN             NaN              NaN           NaN  \n",
       "top              NaN             NaN              NaN           NaN  \n",
       "freq             NaN             NaN              NaN           NaN  \n",
       "mean        0.705529        0.514949    100083.331145      0.203759  \n",
       "std         0.455827        0.499801     57508.117802      0.402812  \n",
       "min         0.000000        0.000000        11.580000      0.000000  \n",
       "25%         0.000000        0.000000     50983.750000      0.000000  \n",
       "50%         1.000000        1.000000    100185.240000      0.000000  \n",
       "75%         1.000000        1.000000    149383.652500      0.000000  \n",
       "max         1.000000        1.000000    199992.480000      1.000000  "
      ]
     },
     "execution_count": 4,
     "metadata": {},
     "output_type": "execute_result"
    }
   ],
   "source": [
    "# Description of data\n",
    "data.describe(include=\"all\")"
   ]
  },
  {
   "cell_type": "markdown",
   "metadata": {
    "id": "cCeMUmTpb0zR"
   },
   "source": [
    "### Data Preprocessing\n",
    "\n",
    "Let's drop some columns that are not needed"
   ]
  },
  {
   "cell_type": "code",
   "execution_count": null,
   "metadata": {
    "colab": {
     "base_uri": "https://localhost:8080/"
    },
    "id": "-VZHjxxMsmnm",
    "outputId": "74137620-e1cc-469a-b425-f50312cb4776"
   },
   "outputs": [
    {
     "data": {
      "text/plain": [
       "CustomerId         0\n",
       "Surname            0\n",
       "CreditScore        0\n",
       "Geography          1\n",
       "Gender             0\n",
       "Age                1\n",
       "Tenure             0\n",
       "Balance            0\n",
       "NumOfProducts      0\n",
       "HasCrCard          1\n",
       "IsActiveMember     1\n",
       "EstimatedSalary    0\n",
       "Exited             0\n",
       "dtype: int64"
      ]
     },
     "execution_count": 5,
     "metadata": {},
     "output_type": "execute_result"
    }
   ],
   "source": [
    "# dropping column that is not helpful. RowNumber does not provide any useful info to the model.\n",
    "data = data.drop(\"RowNumber\", axis=1)\n",
    "\n",
    "#checking to see if we have rows with nulls\n",
    "data.isna().sum()\n",
    "\n"
   ]
  },
  {
   "cell_type": "markdown",
   "metadata": {
    "id": "0oFQHLvmtzDF"
   },
   "source": [
    "We see that there are some null values. becuase there are so few, we can just drop them."
   ]
  },
  {
   "cell_type": "code",
   "execution_count": null,
   "metadata": {
    "colab": {
     "base_uri": "https://localhost:8080/"
    },
    "id": "ZgJiOpPFuDs2",
    "outputId": "5dccc0cd-80a0-4440-d1bb-f888da460e32"
   },
   "outputs": [
    {
     "data": {
      "text/plain": [
       "CustomerId         0\n",
       "Surname            0\n",
       "CreditScore        0\n",
       "Geography          0\n",
       "Gender             0\n",
       "Age                0\n",
       "Tenure             0\n",
       "Balance            0\n",
       "NumOfProducts      0\n",
       "HasCrCard          0\n",
       "IsActiveMember     0\n",
       "EstimatedSalary    0\n",
       "Exited             0\n",
       "dtype: int64"
      ]
     },
     "execution_count": 6,
     "metadata": {},
     "output_type": "execute_result"
    }
   ],
   "source": [
    "# dropping rows with nulls\n",
    "data = data.dropna()\n",
    "\n",
    "# checking\n",
    "data.isna().sum()"
   ]
  },
  {
   "cell_type": "code",
   "execution_count": null,
   "metadata": {
    "colab": {
     "base_uri": "https://localhost:8080/"
    },
    "id": "O1pD4NG3xSLL",
    "outputId": "ae691eac-ebf6-4289-8a96-c9558792bd26"
   },
   "outputs": [
    {
     "data": {
      "text/plain": [
       "2"
      ]
     },
     "execution_count": 7,
     "metadata": {},
     "output_type": "execute_result"
    }
   ],
   "source": [
    "# finding how many duplicate rows we have\n",
    "data.duplicated().sum()"
   ]
  },
  {
   "cell_type": "markdown",
   "metadata": {
    "id": "CI2-2dlawK1g"
   },
   "source": []
  },
  {
   "cell_type": "code",
   "execution_count": null,
   "metadata": {
    "colab": {
     "base_uri": "https://localhost:8080/"
    },
    "id": "Cwiof_FRwLbR",
    "outputId": "e45877ae-4b93-43b8-893f-ed1e1bc141ab"
   },
   "outputs": [
    {
     "data": {
      "text/plain": [
       "0"
      ]
     },
     "execution_count": 8,
     "metadata": {},
     "output_type": "execute_result"
    }
   ],
   "source": [
    "# dropping duplicate rows\n",
    "data = data.drop_duplicates()\n",
    "\n",
    "# checking\n",
    "data.duplicated().sum()"
   ]
  },
  {
   "cell_type": "markdown",
   "metadata": {
    "id": "J1XMwUmHx5Tt"
   },
   "source": [
    "The surname column is not expected to be helpful in prediction. Maybe there is a correlation between the length of the name and exiting. Let's replace the name with the length of the name"
   ]
  },
  {
   "cell_type": "code",
   "execution_count": null,
   "metadata": {
    "id": "syTUH2gCyFq5"
   },
   "outputs": [],
   "source": [
    "# replacing the surname with its length\n",
    "data[data.columns[data.columns.get_loc('Surname')]] = data['Surname'].apply(lambda x: len(str(x)))"
   ]
  },
  {
   "cell_type": "code",
   "execution_count": null,
   "metadata": {
    "colab": {
     "base_uri": "https://localhost:8080/"
    },
    "id": "GMtKGUjry4_0",
    "outputId": "cdcb7f9a-55a8-4662-9c35-4c64a25d5230"
   },
   "outputs": [
    {
     "name": "stdout",
     "output_type": "stream",
     "text": [
      "   CustomerId  Surname  CreditScore Geography  Gender   Age  Tenure  \\\n",
      "0    15634602        8          619    France  Female  42.0       2   \n",
      "1    15647311        4          608     Spain  Female  41.0       1   \n",
      "2    15619304        4          502    France  Female  42.0       8   \n",
      "3    15701354        4          699    France  Female  39.0       1   \n",
      "5    15574012        3          645     Spain    Male  44.0       8   \n",
      "\n",
      "     Balance  NumOfProducts  HasCrCard  IsActiveMember  EstimatedSalary  \\\n",
      "0       0.00              1        1.0             1.0        101348.88   \n",
      "1   83807.86              1        0.0             1.0        112542.58   \n",
      "2  159660.80              3        1.0             0.0        113931.57   \n",
      "3       0.00              2        0.0             0.0         93826.63   \n",
      "5  113755.78              2        1.0             0.0        149756.71   \n",
      "\n",
      "   Exited  \n",
      "0       1  \n",
      "1       0  \n",
      "2       1  \n",
      "3       0  \n",
      "5       1  \n"
     ]
    }
   ],
   "source": [
    "print(data.head())"
   ]
  },
  {
   "cell_type": "markdown",
   "metadata": {
    "id": "Y6bBWHjL0oP-"
   },
   "source": [
    "### Correlations and visualization\n",
    "\n",
    "Let's look at the data correlations. first we split the data into numeric and categorical, then we will look at correlations."
   ]
  },
  {
   "cell_type": "code",
   "execution_count": null,
   "metadata": {
    "id": "U1IN2XzM0sm-"
   },
   "outputs": [],
   "source": [
    "numeric_data = data.select_dtypes(include=[np.number])\n",
    "categorical_data = data.select_dtypes(exclude=[np.number])\n",
    "\n"
   ]
  },
  {
   "cell_type": "code",
   "execution_count": null,
   "metadata": {
    "colab": {
     "base_uri": "https://localhost:8080/",
     "height": 414
    },
    "id": "RWj0m6vg1fEx",
    "outputId": "d516a25e-121e-4bb5-f737-e8e752e318cd"
   },
   "outputs": [
    {
     "data": {
      "text/html": [
       "<style type=\"text/css\">\n",
       "#T_b3b8d_row0_col0, #T_b3b8d_row1_col1, #T_b3b8d_row2_col2, #T_b3b8d_row3_col3, #T_b3b8d_row4_col4, #T_b3b8d_row5_col5, #T_b3b8d_row6_col6, #T_b3b8d_row7_col7, #T_b3b8d_row8_col8, #T_b3b8d_row9_col9, #T_b3b8d_row10_col10 {\n",
       "  background-color: #b40426;\n",
       "  color: #f1f1f1;\n",
       "}\n",
       "#T_b3b8d_row0_col1, #T_b3b8d_row0_col7, #T_b3b8d_row1_col0, #T_b3b8d_row3_col7, #T_b3b8d_row4_col0, #T_b3b8d_row5_col0, #T_b3b8d_row5_col6, #T_b3b8d_row5_col7, #T_b3b8d_row6_col3, #T_b3b8d_row6_col5, #T_b3b8d_row7_col0, #T_b3b8d_row7_col9, #T_b3b8d_row8_col4, #T_b3b8d_row8_col7, #T_b3b8d_row8_col9, #T_b3b8d_row8_col10, #T_b3b8d_row10_col2, #T_b3b8d_row10_col8 {\n",
       "  background-color: #3b4cc0;\n",
       "  color: #f1f1f1;\n",
       "}\n",
       "#T_b3b8d_row0_col2, #T_b3b8d_row3_col1, #T_b3b8d_row5_col2, #T_b3b8d_row6_col0, #T_b3b8d_row9_col4 {\n",
       "  background-color: #445acc;\n",
       "  color: #f1f1f1;\n",
       "}\n",
       "#T_b3b8d_row0_col3, #T_b3b8d_row6_col4 {\n",
       "  background-color: #465ecf;\n",
       "  color: #f1f1f1;\n",
       "}\n",
       "#T_b3b8d_row0_col4, #T_b3b8d_row4_col1, #T_b3b8d_row10_col4 {\n",
       "  background-color: #3e51c5;\n",
       "  color: #f1f1f1;\n",
       "}\n",
       "#T_b3b8d_row0_col5, #T_b3b8d_row4_col5, #T_b3b8d_row8_col5 {\n",
       "  background-color: #84a7fc;\n",
       "  color: #f1f1f1;\n",
       "}\n",
       "#T_b3b8d_row0_col6 {\n",
       "  background-color: #8caffe;\n",
       "  color: #000000;\n",
       "}\n",
       "#T_b3b8d_row0_col8, #T_b3b8d_row1_col8 {\n",
       "  background-color: #6485ec;\n",
       "  color: #f1f1f1;\n",
       "}\n",
       "#T_b3b8d_row0_col9, #T_b3b8d_row1_col4, #T_b3b8d_row2_col3, #T_b3b8d_row3_col0, #T_b3b8d_row4_col2, #T_b3b8d_row5_col9, #T_b3b8d_row6_col9, #T_b3b8d_row9_col2 {\n",
       "  background-color: #4257c9;\n",
       "  color: #f1f1f1;\n",
       "}\n",
       "#T_b3b8d_row0_col10 {\n",
       "  background-color: #6384eb;\n",
       "  color: #f1f1f1;\n",
       "}\n",
       "#T_b3b8d_row1_col2, #T_b3b8d_row2_col0, #T_b3b8d_row3_col2, #T_b3b8d_row4_col3, #T_b3b8d_row7_col2, #T_b3b8d_row9_col3, #T_b3b8d_row10_col9 {\n",
       "  background-color: #4055c8;\n",
       "  color: #f1f1f1;\n",
       "}\n",
       "#T_b3b8d_row1_col3, #T_b3b8d_row7_col4 {\n",
       "  background-color: #4961d2;\n",
       "  color: #f1f1f1;\n",
       "}\n",
       "#T_b3b8d_row1_col5, #T_b3b8d_row2_col6, #T_b3b8d_row4_col6, #T_b3b8d_row9_col5, #T_b3b8d_row9_col6 {\n",
       "  background-color: #8badfd;\n",
       "  color: #000000;\n",
       "}\n",
       "#T_b3b8d_row1_col6, #T_b3b8d_row2_col5, #T_b3b8d_row5_col10, #T_b3b8d_row7_col6 {\n",
       "  background-color: #88abfd;\n",
       "  color: #000000;\n",
       "}\n",
       "#T_b3b8d_row1_col7, #T_b3b8d_row3_col4, #T_b3b8d_row4_col9, #T_b3b8d_row5_col4, #T_b3b8d_row6_col1, #T_b3b8d_row6_col7, #T_b3b8d_row7_col1, #T_b3b8d_row7_col3, #T_b3b8d_row8_col0, #T_b3b8d_row8_col1 {\n",
       "  background-color: #3f53c6;\n",
       "  color: #f1f1f1;\n",
       "}\n",
       "#T_b3b8d_row1_col9, #T_b3b8d_row3_col9, #T_b3b8d_row9_col7, #T_b3b8d_row10_col7 {\n",
       "  background-color: #3c4ec2;\n",
       "  color: #f1f1f1;\n",
       "}\n",
       "#T_b3b8d_row1_col10, #T_b3b8d_row9_col10 {\n",
       "  background-color: #688aef;\n",
       "  color: #f1f1f1;\n",
       "}\n",
       "#T_b3b8d_row2_col1, #T_b3b8d_row2_col7, #T_b3b8d_row2_col9, #T_b3b8d_row9_col1, #T_b3b8d_row10_col0 {\n",
       "  background-color: #3d50c3;\n",
       "  color: #f1f1f1;\n",
       "}\n",
       "#T_b3b8d_row2_col4, #T_b3b8d_row5_col1, #T_b3b8d_row9_col0, #T_b3b8d_row10_col1 {\n",
       "  background-color: #4358cb;\n",
       "  color: #f1f1f1;\n",
       "}\n",
       "#T_b3b8d_row2_col8 {\n",
       "  background-color: #6c8ff1;\n",
       "  color: #f1f1f1;\n",
       "}\n",
       "#T_b3b8d_row2_col10, #T_b3b8d_row4_col8, #T_b3b8d_row8_col3 {\n",
       "  background-color: #5d7ce6;\n",
       "  color: #f1f1f1;\n",
       "}\n",
       "#T_b3b8d_row3_col5 {\n",
       "  background-color: #8fb1fe;\n",
       "  color: #000000;\n",
       "}\n",
       "#T_b3b8d_row3_col6, #T_b3b8d_row3_col8 {\n",
       "  background-color: #7ea1fa;\n",
       "  color: #f1f1f1;\n",
       "}\n",
       "#T_b3b8d_row3_col10 {\n",
       "  background-color: #bad0f8;\n",
       "  color: #000000;\n",
       "}\n",
       "#T_b3b8d_row4_col7, #T_b3b8d_row6_col2 {\n",
       "  background-color: #455cce;\n",
       "  color: #f1f1f1;\n",
       "}\n",
       "#T_b3b8d_row4_col10, #T_b3b8d_row7_col8 {\n",
       "  background-color: #6180e9;\n",
       "  color: #f1f1f1;\n",
       "}\n",
       "#T_b3b8d_row5_col3 {\n",
       "  background-color: #4b64d5;\n",
       "  color: #f1f1f1;\n",
       "}\n",
       "#T_b3b8d_row5_col8, #T_b3b8d_row7_col10, #T_b3b8d_row9_col8 {\n",
       "  background-color: #6282ea;\n",
       "  color: #f1f1f1;\n",
       "}\n",
       "#T_b3b8d_row6_col8 {\n",
       "  background-color: #6788ee;\n",
       "  color: #f1f1f1;\n",
       "}\n",
       "#T_b3b8d_row6_col10 {\n",
       "  background-color: #5673e0;\n",
       "  color: #f1f1f1;\n",
       "}\n",
       "#T_b3b8d_row7_col5 {\n",
       "  background-color: #82a6fb;\n",
       "  color: #f1f1f1;\n",
       "}\n",
       "#T_b3b8d_row8_col2 {\n",
       "  background-color: #4a63d3;\n",
       "  color: #f1f1f1;\n",
       "}\n",
       "#T_b3b8d_row8_col6 {\n",
       "  background-color: #89acfd;\n",
       "  color: #000000;\n",
       "}\n",
       "#T_b3b8d_row10_col3 {\n",
       "  background-color: #a1c0ff;\n",
       "  color: #000000;\n",
       "}\n",
       "#T_b3b8d_row10_col5 {\n",
       "  background-color: #a6c4fe;\n",
       "  color: #000000;\n",
       "}\n",
       "#T_b3b8d_row10_col6 {\n",
       "  background-color: #7a9df8;\n",
       "  color: #f1f1f1;\n",
       "}\n",
       "</style>\n",
       "<table id=\"T_b3b8d\" class=\"dataframe\">\n",
       "  <thead>\n",
       "    <tr>\n",
       "      <th class=\"blank level0\" >&nbsp;</th>\n",
       "      <th id=\"T_b3b8d_level0_col0\" class=\"col_heading level0 col0\" >CustomerId</th>\n",
       "      <th id=\"T_b3b8d_level0_col1\" class=\"col_heading level0 col1\" >Surname</th>\n",
       "      <th id=\"T_b3b8d_level0_col2\" class=\"col_heading level0 col2\" >CreditScore</th>\n",
       "      <th id=\"T_b3b8d_level0_col3\" class=\"col_heading level0 col3\" >Age</th>\n",
       "      <th id=\"T_b3b8d_level0_col4\" class=\"col_heading level0 col4\" >Tenure</th>\n",
       "      <th id=\"T_b3b8d_level0_col5\" class=\"col_heading level0 col5\" >Balance</th>\n",
       "      <th id=\"T_b3b8d_level0_col6\" class=\"col_heading level0 col6\" >NumOfProducts</th>\n",
       "      <th id=\"T_b3b8d_level0_col7\" class=\"col_heading level0 col7\" >HasCrCard</th>\n",
       "      <th id=\"T_b3b8d_level0_col8\" class=\"col_heading level0 col8\" >IsActiveMember</th>\n",
       "      <th id=\"T_b3b8d_level0_col9\" class=\"col_heading level0 col9\" >EstimatedSalary</th>\n",
       "      <th id=\"T_b3b8d_level0_col10\" class=\"col_heading level0 col10\" >Exited</th>\n",
       "    </tr>\n",
       "  </thead>\n",
       "  <tbody>\n",
       "    <tr>\n",
       "      <th id=\"T_b3b8d_level0_row0\" class=\"row_heading level0 row0\" >CustomerId</th>\n",
       "      <td id=\"T_b3b8d_row0_col0\" class=\"data row0 col0\" >1.000000</td>\n",
       "      <td id=\"T_b3b8d_row0_col1\" class=\"data row0 col1\" >-0.015529</td>\n",
       "      <td id=\"T_b3b8d_row0_col2\" class=\"data row0 col2\" >0.005686</td>\n",
       "      <td id=\"T_b3b8d_row0_col3\" class=\"data row0 col3\" >0.009394</td>\n",
       "      <td id=\"T_b3b8d_row0_col4\" class=\"data row0 col4\" >-0.014821</td>\n",
       "      <td id=\"T_b3b8d_row0_col5\" class=\"data row0 col5\" >-0.012665</td>\n",
       "      <td id=\"T_b3b8d_row0_col6\" class=\"data row0 col6\" >0.016911</td>\n",
       "      <td id=\"T_b3b8d_row0_col7\" class=\"data row0 col7\" >-0.013679</td>\n",
       "      <td id=\"T_b3b8d_row0_col8\" class=\"data row0 col8\" >0.001731</td>\n",
       "      <td id=\"T_b3b8d_row0_col9\" class=\"data row0 col9\" >0.015081</td>\n",
       "      <td id=\"T_b3b8d_row0_col10\" class=\"data row0 col10\" >-0.006284</td>\n",
       "    </tr>\n",
       "    <tr>\n",
       "      <th id=\"T_b3b8d_level0_row1\" class=\"row_heading level0 row1\" >Surname</th>\n",
       "      <td id=\"T_b3b8d_row1_col0\" class=\"data row1 col0\" >-0.015529</td>\n",
       "      <td id=\"T_b3b8d_row1_col1\" class=\"data row1 col1\" >1.000000</td>\n",
       "      <td id=\"T_b3b8d_row1_col2\" class=\"data row1 col2\" >-0.003900</td>\n",
       "      <td id=\"T_b3b8d_row1_col3\" class=\"data row1 col3\" >0.019675</td>\n",
       "      <td id=\"T_b3b8d_row1_col4\" class=\"data row1 col4\" >-0.000197</td>\n",
       "      <td id=\"T_b3b8d_row1_col5\" class=\"data row1 col5\" >0.015731</td>\n",
       "      <td id=\"T_b3b8d_row1_col6\" class=\"data row1 col6\" >0.002042</td>\n",
       "      <td id=\"T_b3b8d_row1_col7\" class=\"data row1 col7\" >0.001838</td>\n",
       "      <td id=\"T_b3b8d_row1_col8\" class=\"data row1 col8\" >0.001551</td>\n",
       "      <td id=\"T_b3b8d_row1_col9\" class=\"data row1 col9\" >-0.005675</td>\n",
       "      <td id=\"T_b3b8d_row1_col10\" class=\"data row1 col10\" >0.013103</td>\n",
       "    </tr>\n",
       "    <tr>\n",
       "      <th id=\"T_b3b8d_level0_row2\" class=\"row_heading level0 row2\" >CreditScore</th>\n",
       "      <td id=\"T_b3b8d_row2_col0\" class=\"data row2 col0\" >0.005686</td>\n",
       "      <td id=\"T_b3b8d_row2_col1\" class=\"data row2 col1\" >-0.003900</td>\n",
       "      <td id=\"T_b3b8d_row2_col2\" class=\"data row2 col2\" >1.000000</td>\n",
       "      <td id=\"T_b3b8d_row2_col3\" class=\"data row2 col3\" >-0.004118</td>\n",
       "      <td id=\"T_b3b8d_row2_col4\" class=\"data row2 col4\" >0.000918</td>\n",
       "      <td id=\"T_b3b8d_row2_col5\" class=\"data row2 col5\" >0.006459</td>\n",
       "      <td id=\"T_b3b8d_row2_col6\" class=\"data row2 col6\" >0.012447</td>\n",
       "      <td id=\"T_b3b8d_row2_col7\" class=\"data row2 col7\" >-0.005972</td>\n",
       "      <td id=\"T_b3b8d_row2_col8\" class=\"data row2 col8\" >0.025413</td>\n",
       "      <td id=\"T_b3b8d_row2_col9\" class=\"data row2 col9\" >-0.001082</td>\n",
       "      <td id=\"T_b3b8d_row2_col10\" class=\"data row2 col10\" >-0.026975</td>\n",
       "    </tr>\n",
       "    <tr>\n",
       "      <th id=\"T_b3b8d_level0_row3\" class=\"row_heading level0 row3\" >Age</th>\n",
       "      <td id=\"T_b3b8d_row3_col0\" class=\"data row3 col0\" >0.009394</td>\n",
       "      <td id=\"T_b3b8d_row3_col1\" class=\"data row3 col1\" >0.019675</td>\n",
       "      <td id=\"T_b3b8d_row3_col2\" class=\"data row3 col2\" >-0.004118</td>\n",
       "      <td id=\"T_b3b8d_row3_col3\" class=\"data row3 col3\" >1.000000</td>\n",
       "      <td id=\"T_b3b8d_row3_col4\" class=\"data row3 col4\" >-0.010133</td>\n",
       "      <td id=\"T_b3b8d_row3_col5\" class=\"data row3 col5\" >0.028469</td>\n",
       "      <td id=\"T_b3b8d_row3_col6\" class=\"data row3 col6\" >-0.030885</td>\n",
       "      <td id=\"T_b3b8d_row3_col7\" class=\"data row3 col7\" >-0.011669</td>\n",
       "      <td id=\"T_b3b8d_row3_col8\" class=\"data row3 col8\" >0.085422</td>\n",
       "      <td id=\"T_b3b8d_row3_col9\" class=\"data row3 col9\" >-0.007049</td>\n",
       "      <td id=\"T_b3b8d_row3_col10\" class=\"data row3 col10\" >0.285413</td>\n",
       "    </tr>\n",
       "    <tr>\n",
       "      <th id=\"T_b3b8d_level0_row4\" class=\"row_heading level0 row4\" >Tenure</th>\n",
       "      <td id=\"T_b3b8d_row4_col0\" class=\"data row4 col0\" >-0.014821</td>\n",
       "      <td id=\"T_b3b8d_row4_col1\" class=\"data row4 col1\" >-0.000197</td>\n",
       "      <td id=\"T_b3b8d_row4_col2\" class=\"data row4 col2\" >0.000918</td>\n",
       "      <td id=\"T_b3b8d_row4_col3\" class=\"data row4 col3\" >-0.010133</td>\n",
       "      <td id=\"T_b3b8d_row4_col4\" class=\"data row4 col4\" >1.000000</td>\n",
       "      <td id=\"T_b3b8d_row4_col5\" class=\"data row4 col5\" >-0.011958</td>\n",
       "      <td id=\"T_b3b8d_row4_col6\" class=\"data row4 col6\" >0.013230</td>\n",
       "      <td id=\"T_b3b8d_row4_col7\" class=\"data row4 col7\" >0.022626</td>\n",
       "      <td id=\"T_b3b8d_row4_col8\" class=\"data row4 col8\" >-0.028202</td>\n",
       "      <td id=\"T_b3b8d_row4_col9\" class=\"data row4 col9\" >0.007789</td>\n",
       "      <td id=\"T_b3b8d_row4_col10\" class=\"data row4 col10\" >-0.014092</td>\n",
       "    </tr>\n",
       "    <tr>\n",
       "      <th id=\"T_b3b8d_level0_row5\" class=\"row_heading level0 row5\" >Balance</th>\n",
       "      <td id=\"T_b3b8d_row5_col0\" class=\"data row5 col0\" >-0.012665</td>\n",
       "      <td id=\"T_b3b8d_row5_col1\" class=\"data row5 col1\" >0.015731</td>\n",
       "      <td id=\"T_b3b8d_row5_col2\" class=\"data row5 col2\" >0.006459</td>\n",
       "      <td id=\"T_b3b8d_row5_col3\" class=\"data row5 col3\" >0.028469</td>\n",
       "      <td id=\"T_b3b8d_row5_col4\" class=\"data row5 col4\" >-0.011958</td>\n",
       "      <td id=\"T_b3b8d_row5_col5\" class=\"data row5 col5\" >1.000000</td>\n",
       "      <td id=\"T_b3b8d_row5_col6\" class=\"data row5 col6\" >-0.304116</td>\n",
       "      <td id=\"T_b3b8d_row5_col7\" class=\"data row5 col7\" >-0.014733</td>\n",
       "      <td id=\"T_b3b8d_row5_col8\" class=\"data row5 col8\" >-0.010238</td>\n",
       "      <td id=\"T_b3b8d_row5_col9\" class=\"data row5 col9\" >0.012731</td>\n",
       "      <td id=\"T_b3b8d_row5_col10\" class=\"data row5 col10\" >0.118641</td>\n",
       "    </tr>\n",
       "    <tr>\n",
       "      <th id=\"T_b3b8d_level0_row6\" class=\"row_heading level0 row6\" >NumOfProducts</th>\n",
       "      <td id=\"T_b3b8d_row6_col0\" class=\"data row6 col0\" >0.016911</td>\n",
       "      <td id=\"T_b3b8d_row6_col1\" class=\"data row6 col1\" >0.002042</td>\n",
       "      <td id=\"T_b3b8d_row6_col2\" class=\"data row6 col2\" >0.012447</td>\n",
       "      <td id=\"T_b3b8d_row6_col3\" class=\"data row6 col3\" >-0.030885</td>\n",
       "      <td id=\"T_b3b8d_row6_col4\" class=\"data row6 col4\" >0.013230</td>\n",
       "      <td id=\"T_b3b8d_row6_col5\" class=\"data row6 col5\" >-0.304116</td>\n",
       "      <td id=\"T_b3b8d_row6_col6\" class=\"data row6 col6\" >1.000000</td>\n",
       "      <td id=\"T_b3b8d_row6_col7\" class=\"data row6 col7\" >0.003375</td>\n",
       "      <td id=\"T_b3b8d_row6_col8\" class=\"data row6 col8\" >0.009635</td>\n",
       "      <td id=\"T_b3b8d_row6_col9\" class=\"data row6 col9\" >0.014292</td>\n",
       "      <td id=\"T_b3b8d_row6_col10\" class=\"data row6 col10\" >-0.047840</td>\n",
       "    </tr>\n",
       "    <tr>\n",
       "      <th id=\"T_b3b8d_level0_row7\" class=\"row_heading level0 row7\" >HasCrCard</th>\n",
       "      <td id=\"T_b3b8d_row7_col0\" class=\"data row7 col0\" >-0.013679</td>\n",
       "      <td id=\"T_b3b8d_row7_col1\" class=\"data row7 col1\" >0.001838</td>\n",
       "      <td id=\"T_b3b8d_row7_col2\" class=\"data row7 col2\" >-0.005972</td>\n",
       "      <td id=\"T_b3b8d_row7_col3\" class=\"data row7 col3\" >-0.011669</td>\n",
       "      <td id=\"T_b3b8d_row7_col4\" class=\"data row7 col4\" >0.022626</td>\n",
       "      <td id=\"T_b3b8d_row7_col5\" class=\"data row7 col5\" >-0.014733</td>\n",
       "      <td id=\"T_b3b8d_row7_col6\" class=\"data row7 col6\" >0.003375</td>\n",
       "      <td id=\"T_b3b8d_row7_col7\" class=\"data row7 col7\" >1.000000</td>\n",
       "      <td id=\"T_b3b8d_row7_col8\" class=\"data row7 col8\" >-0.011908</td>\n",
       "      <td id=\"T_b3b8d_row7_col9\" class=\"data row7 col9\" >-0.009848</td>\n",
       "      <td id=\"T_b3b8d_row7_col10\" class=\"data row7 col10\" >-0.007120</td>\n",
       "    </tr>\n",
       "    <tr>\n",
       "      <th id=\"T_b3b8d_level0_row8\" class=\"row_heading level0 row8\" >IsActiveMember</th>\n",
       "      <td id=\"T_b3b8d_row8_col0\" class=\"data row8 col0\" >0.001731</td>\n",
       "      <td id=\"T_b3b8d_row8_col1\" class=\"data row8 col1\" >0.001551</td>\n",
       "      <td id=\"T_b3b8d_row8_col2\" class=\"data row8 col2\" >0.025413</td>\n",
       "      <td id=\"T_b3b8d_row8_col3\" class=\"data row8 col3\" >0.085422</td>\n",
       "      <td id=\"T_b3b8d_row8_col4\" class=\"data row8 col4\" >-0.028202</td>\n",
       "      <td id=\"T_b3b8d_row8_col5\" class=\"data row8 col5\" >-0.010238</td>\n",
       "      <td id=\"T_b3b8d_row8_col6\" class=\"data row8 col6\" >0.009635</td>\n",
       "      <td id=\"T_b3b8d_row8_col7\" class=\"data row8 col7\" >-0.011908</td>\n",
       "      <td id=\"T_b3b8d_row8_col8\" class=\"data row8 col8\" >1.000000</td>\n",
       "      <td id=\"T_b3b8d_row8_col9\" class=\"data row8 col9\" >-0.011147</td>\n",
       "      <td id=\"T_b3b8d_row8_col10\" class=\"data row8 col10\" >-0.155969</td>\n",
       "    </tr>\n",
       "    <tr>\n",
       "      <th id=\"T_b3b8d_level0_row9\" class=\"row_heading level0 row9\" >EstimatedSalary</th>\n",
       "      <td id=\"T_b3b8d_row9_col0\" class=\"data row9 col0\" >0.015081</td>\n",
       "      <td id=\"T_b3b8d_row9_col1\" class=\"data row9 col1\" >-0.005675</td>\n",
       "      <td id=\"T_b3b8d_row9_col2\" class=\"data row9 col2\" >-0.001082</td>\n",
       "      <td id=\"T_b3b8d_row9_col3\" class=\"data row9 col3\" >-0.007049</td>\n",
       "      <td id=\"T_b3b8d_row9_col4\" class=\"data row9 col4\" >0.007789</td>\n",
       "      <td id=\"T_b3b8d_row9_col5\" class=\"data row9 col5\" >0.012731</td>\n",
       "      <td id=\"T_b3b8d_row9_col6\" class=\"data row9 col6\" >0.014292</td>\n",
       "      <td id=\"T_b3b8d_row9_col7\" class=\"data row9 col7\" >-0.009848</td>\n",
       "      <td id=\"T_b3b8d_row9_col8\" class=\"data row9 col8\" >-0.011147</td>\n",
       "      <td id=\"T_b3b8d_row9_col9\" class=\"data row9 col9\" >1.000000</td>\n",
       "      <td id=\"T_b3b8d_row9_col10\" class=\"data row9 col10\" >0.011955</td>\n",
       "    </tr>\n",
       "    <tr>\n",
       "      <th id=\"T_b3b8d_level0_row10\" class=\"row_heading level0 row10\" >Exited</th>\n",
       "      <td id=\"T_b3b8d_row10_col0\" class=\"data row10 col0\" >-0.006284</td>\n",
       "      <td id=\"T_b3b8d_row10_col1\" class=\"data row10 col1\" >0.013103</td>\n",
       "      <td id=\"T_b3b8d_row10_col2\" class=\"data row10 col2\" >-0.026975</td>\n",
       "      <td id=\"T_b3b8d_row10_col3\" class=\"data row10 col3\" >0.285413</td>\n",
       "      <td id=\"T_b3b8d_row10_col4\" class=\"data row10 col4\" >-0.014092</td>\n",
       "      <td id=\"T_b3b8d_row10_col5\" class=\"data row10 col5\" >0.118641</td>\n",
       "      <td id=\"T_b3b8d_row10_col6\" class=\"data row10 col6\" >-0.047840</td>\n",
       "      <td id=\"T_b3b8d_row10_col7\" class=\"data row10 col7\" >-0.007120</td>\n",
       "      <td id=\"T_b3b8d_row10_col8\" class=\"data row10 col8\" >-0.155969</td>\n",
       "      <td id=\"T_b3b8d_row10_col9\" class=\"data row10 col9\" >0.011955</td>\n",
       "      <td id=\"T_b3b8d_row10_col10\" class=\"data row10 col10\" >1.000000</td>\n",
       "    </tr>\n",
       "  </tbody>\n",
       "</table>\n"
      ],
      "text/plain": [
       "<pandas.io.formats.style.Styler at 0x7aab8e424c70>"
      ]
     },
     "execution_count": 12,
     "metadata": {},
     "output_type": "execute_result"
    }
   ],
   "source": [
    "corr = numeric_data.corr()\n",
    "corr.style.background_gradient(cmap='coolwarm')"
   ]
  },
  {
   "cell_type": "markdown",
   "metadata": {
    "id": "luhcGUNM2lnU"
   },
   "source": [
    "### Label Encoding\n",
    "\n",
    "Let's encode these labels"
   ]
  },
  {
   "cell_type": "code",
   "execution_count": null,
   "metadata": {
    "colab": {
     "base_uri": "https://localhost:8080/"
    },
    "id": "jMrtp8i9-3Rv",
    "outputId": "c226d807-51fc-4aaf-a1a9-837bf9d13e42"
   },
   "outputs": [
    {
     "name": "stdout",
     "output_type": "stream",
     "text": [
      "   CustomerId  Surname  CreditScore  Geography  Gender   Age  Tenure  \\\n",
      "0    15634602        8          619          0       0  42.0       2   \n",
      "1    15647311        4          608          2       0  41.0       1   \n",
      "2    15619304        4          502          0       0  42.0       8   \n",
      "3    15701354        4          699          0       0  39.0       1   \n",
      "5    15574012        3          645          2       1  44.0       8   \n",
      "\n",
      "     Balance  NumOfProducts  HasCrCard  IsActiveMember  EstimatedSalary  \\\n",
      "0       0.00              1          1               1        101348.88   \n",
      "1   83807.86              1          0               1        112542.58   \n",
      "2  159660.80              3          1               0        113931.57   \n",
      "3       0.00              2          0               0         93826.63   \n",
      "5  113755.78              2          1               0        149756.71   \n",
      "\n",
      "   Exited  \n",
      "0       1  \n",
      "1       0  \n",
      "2       1  \n",
      "3       0  \n",
      "5       1  \n"
     ]
    }
   ],
   "source": [
    "from sklearn.preprocessing import LabelEncoder, StandardScaler\n",
    "enc = LabelEncoder()\n",
    "\n",
    "categorical_features = [\"Geography\", \"Gender\", \"Tenure\", \"HasCrCard\", \"IsActiveMember\"]\n",
    "\n",
    "for cat_feat in categorical_features:\n",
    "    data[cat_feat] = enc.fit_transform(data[cat_feat])\n",
    "\n",
    "print(data.head())"
   ]
  },
  {
   "cell_type": "markdown",
   "metadata": {
    "id": "R65pQGfEAnRk"
   },
   "source": [
    "Now we will scale the data using the standardScaler"
   ]
  },
  {
   "cell_type": "code",
   "execution_count": null,
   "metadata": {
    "colab": {
     "base_uri": "https://localhost:8080/"
    },
    "id": "oXHcbQ_YArXQ",
    "outputId": "9e3b52ba-127d-4b76-a747-2f9477c9d898"
   },
   "outputs": [
    {
     "name": "stdout",
     "output_type": "stream",
     "text": [
      "   CustomerId  Surname  CreditScore  Geography  Gender       Age    Tenure  \\\n",
      "0   -0.783366        8    -0.326054          0       0  0.293570 -1.041870   \n",
      "1   -0.606667        4    -0.439902          2       0  0.198222 -1.387627   \n",
      "2   -0.996060        4    -1.536986          0       0  0.293570  1.032669   \n",
      "3    0.144715        4     0.501933          0       0  0.007526 -1.387627   \n",
      "5   -1.625773        3    -0.056958          2       1  0.484266  1.032669   \n",
      "\n",
      "    Balance  NumOfProducts  HasCrCard  IsActiveMember  EstimatedSalary  Exited  \n",
      "0 -1.225699      -0.911557   0.646119        0.970619         0.021599       1  \n",
      "1  0.117505      -0.911557  -1.547702        0.970619         0.216237       0  \n",
      "2  1.333214       2.526905   0.646119       -1.030270         0.240389       1  \n",
      "3 -1.225699       0.807674  -1.547702       -1.030270        -0.109199       0  \n",
      "5  0.597486       0.807674   0.646119       -1.030270         0.863322       1  \n"
     ]
    }
   ],
   "source": [
    "scaler = StandardScaler()\n",
    "\n",
    "numerical_cols = [\"CustomerId\", \"CreditScore\", \"Age\", \"Tenure\", \"Balance\", \"NumOfProducts\", \"HasCrCard\", \"IsActiveMember\", \"EstimatedSalary\"]\n",
    "\n",
    "\n",
    "data[numerical_cols] = scaler.fit_transform(data[numerical_cols])\n",
    "\n",
    "print(data.head())"
   ]
  },
  {
   "cell_type": "markdown",
   "metadata": {
    "id": "d3ZFnLczJSvJ"
   },
   "source": [
    "## Modelling Time.\n",
    "Let's make some models to train on our cleaned and processed data."
   ]
  },
  {
   "cell_type": "markdown",
   "metadata": {
    "id": "LlO4WB3IJocQ"
   },
   "source": [
    "### splitting data\n",
    "We split the data into train and test sets."
   ]
  },
  {
   "cell_type": "code",
   "execution_count": null,
   "metadata": {
    "colab": {
     "base_uri": "https://localhost:8080/"
    },
    "id": "8u0EtYMsJseZ",
    "outputId": "d4134be2-3456-4fbb-8ee5-73e0e939a9a9"
   },
   "outputs": [
    {
     "name": "stdout",
     "output_type": "stream",
     "text": [
      "Shape of X_train: (7996, 12)\n",
      "Shape of X_test: (2000, 12)\n",
      "Shape of y_train: (7996,)\n",
      "Shape of y_test: (2000,)\n"
     ]
    }
   ],
   "source": [
    "X = data.drop(columns=['Exited'])\n",
    "y = data['Exited']\n",
    "\n",
    "X_train, X_test, y_train, y_test = train_test_split(X, y, test_size=0.2, random_state=42)\n",
    "\n",
    "# checking to see if it was split correctly\n",
    "print(\"Shape of X_train:\", X_train.shape)\n",
    "print(\"Shape of X_test:\", X_test.shape)\n",
    "print(\"Shape of y_train:\", y_train.shape)\n",
    "print(\"Shape of y_test:\", y_test.shape)\n"
   ]
  },
  {
   "cell_type": "markdown",
   "metadata": {
    "id": "Pdbx1EDNQhnR"
   },
   "source": [
    "### Decision Tree"
   ]
  },
  {
   "cell_type": "markdown",
   "metadata": {
    "id": "kRVeiQHYkAte"
   },
   "source": [
    "making tree classifier and using cross validation"
   ]
  },
  {
   "cell_type": "code",
   "execution_count": null,
   "metadata": {
    "colab": {
     "base_uri": "https://localhost:8080/"
    },
    "id": "d_7JPUUCQkg3",
    "outputId": "1cf96c33-db54-43d0-afc9-5922d4856cc0"
   },
   "outputs": [
    {
     "name": "stdout",
     "output_type": "stream",
     "text": [
      "Mean Accuracy (Decision Tree): 0.7832673545966229\n",
      "standard Deviation Accuracy (Decision Tree): 0.003965753411691217\n"
     ]
    }
   ],
   "source": [
    "from sklearn.tree import DecisionTreeClassifier\n",
    "from sklearn.model_selection import cross_val_score\n",
    "\n",
    "# Create Decision Tree classifier\n",
    "dt_classifier = DecisionTreeClassifier()\n",
    "\n",
    "# Perform cross-validation to evaluate the model\n",
    "dt_scores = cross_val_score(dt_classifier, X_train, y_train, cv=5)\n",
    "\n",
    "# Mean accuracy across folds\n",
    "print(\"Mean Accuracy (Decision Tree):\", dt_scores.mean())\n",
    "print(\"standard Deviation Accuracy (Decision Tree):\", dt_scores.std())\n",
    "\n"
   ]
  },
  {
   "cell_type": "markdown",
   "metadata": {
    "id": "H6jsIh9ekgyJ"
   },
   "source": [
    "very low standard deviation above is encouraging."
   ]
  },
  {
   "cell_type": "markdown",
   "metadata": {
    "id": "0HwfUIV8lFG-"
   },
   "source": [
    "#### Finding Best Hyperparameters for DT"
   ]
  },
  {
   "cell_type": "code",
   "execution_count": null,
   "metadata": {
    "colab": {
     "base_uri": "https://localhost:8080/"
    },
    "id": "V9TsPSGbiSbJ",
    "outputId": "524e1b0c-4f0b-4c37-8dae-f8f1c2fe2bd9"
   },
   "outputs": [
    {
     "name": "stdout",
     "output_type": "stream",
     "text": [
      "Best Parameters (Decision Tree): {'max_depth': 10}\n",
      "Best Score (Decision Tree): 0.8350428392745466\n"
     ]
    }
   ],
   "source": [
    "from sklearn.model_selection import GridSearchCV\n",
    "\n",
    "# Define hyperparameters grid for Decision Tree\n",
    "dt_param_grid = {\n",
    "    'max_depth': [None, 10, 20, 30],\n",
    "}\n",
    "\n",
    "# GridSearchCV for Decision Tree\n",
    "dt_grid_search = GridSearchCV(DecisionTreeClassifier(), dt_param_grid, cv=5)\n",
    "dt_grid_search.fit(X_train, y_train)\n",
    "\n",
    "# Best parameters for Decision Tree\n",
    "print(\"Best Parameters (Decision Tree):\", dt_grid_search.best_params_)\n",
    "print(\"Best Score (Decision Tree):\", dt_grid_search.best_score_)"
   ]
  },
  {
   "cell_type": "markdown",
   "metadata": {
    "id": "l2TPn7hhibJo"
   },
   "source": [
    "we see that the best max_depth is 10. We will use that below."
   ]
  },
  {
   "cell_type": "markdown",
   "metadata": {
    "id": "5rLMDLJ_lPTY"
   },
   "source": [
    "#### making final (best) decision tree"
   ]
  },
  {
   "cell_type": "code",
   "execution_count": null,
   "metadata": {
    "colab": {
     "base_uri": "https://localhost:8080/"
    },
    "id": "zURlzBFajaK4",
    "outputId": "ecfbd135-46fc-4be1-8a1d-e05570ce95df"
   },
   "outputs": [
    {
     "name": "stdout",
     "output_type": "stream",
     "text": [
      "Test Accuracy (Decision Tree): 0.834\n"
     ]
    }
   ],
   "source": [
    "from sklearn.tree import DecisionTreeClassifier\n",
    "\n",
    "# Define the Decision Tree classifier with the best parameters\n",
    "best_dt_classifier = DecisionTreeClassifier(max_depth=10)\n",
    "\n",
    "# Train the model on the full training set\n",
    "best_dt_classifier.fit(X_train, y_train)\n",
    "\n",
    "# Evaluate the model on the testing set\n",
    "dt_test_accuracy = best_dt_classifier.score(X_test, y_test)\n",
    "print(\"Test Accuracy (Decision Tree):\", dt_test_accuracy)"
   ]
  },
  {
   "cell_type": "markdown",
   "metadata": {
    "id": "hyBWLKuRQpiS"
   },
   "source": [
    "### Logistic Regression"
   ]
  },
  {
   "cell_type": "markdown",
   "metadata": {
    "id": "TFCuSrRPnC4f"
   },
   "source": [
    "#### making the model and using cross validation"
   ]
  },
  {
   "cell_type": "code",
   "execution_count": null,
   "metadata": {
    "colab": {
     "base_uri": "https://localhost:8080/"
    },
    "id": "MqWmLszqmUnL",
    "outputId": "3314f6c7-3d72-49df-e782-636737835e96"
   },
   "outputs": [
    {
     "name": "stdout",
     "output_type": "stream",
     "text": [
      "Cross-Validation Scores (Logistic Regression): [0.808125   0.80050031 0.81113196 0.80362727 0.80737961]\n",
      "Mean Accuracy (Logistic Regression): 0.8061528298936835\n",
      "Standard Deviation of Accuracy (Logistic Regression): 0.0037017720012696167\n"
     ]
    }
   ],
   "source": [
    "from sklearn.linear_model import LogisticRegression\n",
    "from sklearn.model_selection import cross_val_score\n",
    "\n",
    "# Create Logistic Regression classifier\n",
    "logreg_classifier = LogisticRegression()\n",
    "\n",
    "# Perform cross-validation for Logistic Regression classifier\n",
    "logreg_scores = cross_val_score(logreg_classifier, X_train, y_train, cv=5)  # cv=5 for 5-fold cross-validation\n",
    "\n",
    "# Print the cross-validation scores\n",
    "print(\"Cross-Validation Scores (Logistic Regression):\", logreg_scores)\n",
    "\n",
    "# Print the mean and standard deviation of the cross-validation scores\n",
    "print(\"Mean Accuracy (Logistic Regression):\", logreg_scores.mean())\n",
    "print(\"Standard Deviation of Accuracy (Logistic Regression):\", logreg_scores.std())\n"
   ]
  },
  {
   "cell_type": "code",
   "execution_count": null,
   "metadata": {
    "colab": {
     "base_uri": "https://localhost:8080/"
    },
    "id": "qse2-qWEmsP6",
    "outputId": "304af3f2-82bb-4451-b4e8-fb02232022f5"
   },
   "outputs": [
    {
     "name": "stdout",
     "output_type": "stream",
     "text": [
      "Best Parameters (Logistic Regression): {'C': 0.1, 'penalty': 'l2', 'solver': 'lbfgs'}\n",
      "Best Score (Logistic Regression): 0.8064026735459663\n"
     ]
    }
   ],
   "source": [
    "from sklearn.model_selection import GridSearchCV\n",
    "from sklearn.linear_model import LogisticRegression\n",
    "\n",
    "# Define the hyperparameters grid for Logistic Regression\n",
    "param_grid = {\n",
    "    'C': [0.001, 0.01, 0.1, 1, 10, 100],  # Regularization parameter\n",
    "    'penalty': ['l2'],  # Penalty term ('l2' for L2 regularization)\n",
    "    'solver': ['lbfgs', 'liblinear', 'saga']  # Solver ('lbfgs', 'liblinear', or 'saga')\n",
    "}\n",
    "\n",
    "# GridSearchCV for Logistic Regression\n",
    "grid_search = GridSearchCV(LogisticRegression(), param_grid, cv=5)\n",
    "grid_search.fit(X_train, y_train)\n",
    "\n",
    "# Best parameters for Logistic Regression\n",
    "print(\"Best Parameters (Logistic Regression):\", grid_search.best_params_)\n",
    "print(\"Best Score (Logistic Regression):\", grid_search.best_score_)\n"
   ]
  },
  {
   "cell_type": "markdown",
   "metadata": {
    "id": "vlEfXamWqSnL"
   },
   "source": [
    "#### making final (best) Logistic Regression Model"
   ]
  },
  {
   "cell_type": "code",
   "execution_count": null,
   "metadata": {
    "colab": {
     "base_uri": "https://localhost:8080/"
    },
    "id": "PWlX-6qsqWqq",
    "outputId": "3ec058da-0539-4121-dd75-8fa08bac6f67"
   },
   "outputs": [
    {
     "name": "stdout",
     "output_type": "stream",
     "text": [
      "Accuracy: 0.806\n",
      "F1 Score: 0.2567049808429119\n",
      "Recall: 0.16381418092909536\n"
     ]
    }
   ],
   "source": [
    "best_logreg_classifier = LogisticRegression(C=0.1, penalty='l2', solver='lbfgs')\n",
    "\n",
    "logreg_classifier.fit(X_train, y_train)\n",
    "\n",
    "# Predict labels for the testing set\n",
    "y_pred = logreg_classifier.predict(X_test)\n",
    "\n",
    "# Calculate evaluation metrics\n",
    "accuracy = accuracy_score(y_test, y_pred)\n",
    "f1 = f1_score(y_test, y_pred)\n",
    "recall = recall_score(y_test, y_pred)\n",
    "\n",
    "# Print the evaluation metrics\n",
    "print(\"Accuracy:\", accuracy)\n",
    "print(\"F1 Score:\", f1)\n",
    "print(\"Recall:\", recall)\n"
   ]
  },
  {
   "cell_type": "markdown",
   "metadata": {
    "id": "2rNk6PmHnlDK"
   },
   "source": [
    "## Prediction and Evaluation\n",
    "I'll start by copying the code for the best models, then printing and comparing the evaluation metrics for each model."
   ]
  },
  {
   "cell_type": "code",
   "execution_count": null,
   "metadata": {
    "colab": {
     "base_uri": "https://localhost:8080/"
    },
    "id": "etBmtu_QnkZr",
    "outputId": "85061393-e771-440b-ee69-ba53e0ee23f3"
   },
   "outputs": [
    {
     "name": "stdout",
     "output_type": "stream",
     "text": [
      "Accuracy: 0.8345\n",
      "F1 Score: 0.5153733528550514\n",
      "Recall: 0.43031784841075793\n"
     ]
    }
   ],
   "source": [
    "from sklearn.metrics import accuracy_score, f1_score, recall_score\n",
    "\n",
    "# Train the model on the full training set\n",
    "best_dt_classifier.fit(X_train, y_train)\n",
    "\n",
    "# Predict labels for the testing set\n",
    "y_pred = best_dt_classifier.predict(X_test)\n",
    "\n",
    "# Calculate accuracy\n",
    "accuracy = accuracy_score(y_test, y_pred)\n",
    "print(\"Accuracy:\", accuracy)\n",
    "\n",
    "# Calculate F1 score\n",
    "f1 = f1_score(y_test, y_pred)\n",
    "print(\"F1 Score:\", f1)\n",
    "\n",
    "# Calculate recall\n",
    "recall = recall_score(y_test, y_pred)\n",
    "print(\"Recall:\", recall)\n"
   ]
  },
  {
   "cell_type": "markdown",
   "metadata": {
    "id": "2FCzJg-cYWLu"
   },
   "source": [
    "### Comparison of Models\n",
    "\n",
    "\n",
    "#### Logistic Regression:\n",
    "Accuracy: 0.806  \n",
    "F1 Score: 0.2567049808429119  \n",
    "Recall: 0.16381418092909536  \n",
    "\n",
    "\n",
    "#### Decision Tree:\n",
    "Accuracy: 0.8345  \n",
    "F1 Score: 0.5153733528550514  \n",
    "Recall: 0.43031784841075793  \n",
    "\n",
    "\n",
    "We see that both models are fairly good atcrrectly identifying the positives and have corresponding accuracies. Both models however really struggle with high rates of false negatives. That is, both have poor recall scores; the logistic regression model's is dismal.\n",
    "\n",
    "The decision tree model out performs my linear regression model, but is by no means perfect, missing more than half of the positives.\n"
   ]
  },
  {
   "cell_type": "markdown",
   "metadata": {
    "id": "mlucQb0kaTVC"
   },
   "source": [
    "### Finding most important features in the decision tree classifier"
   ]
  },
  {
   "cell_type": "code",
   "execution_count": null,
   "metadata": {
    "colab": {
     "base_uri": "https://localhost:8080/",
     "height": 668
    },
    "id": "a_ok2musaSQn",
    "outputId": "67fec2a6-f6e7-4967-95e5-bb272d5dbc35"
   },
   "outputs": [
    {
     "name": "stdout",
     "output_type": "stream",
     "text": [
      "Top 5 Most Important Features:\n",
      "Age: 0.3169207746731288\n",
      "NumOfProducts: 0.1989665505459935\n",
      "Balance: 0.10014776339137968\n",
      "IsActiveMember: 0.09005510648037601\n",
      "CreditScore: 0.06866440532326218\n"
     ]
    },
    {
     "data": {
      "image/png": "[encoded data removed]",
      "text/plain": [
       "<Figure size 1000x600 with 1 Axes>"
      ]
     },
     "metadata": {},
     "output_type": "display_data"
    }
   ],
   "source": [
    "feature_importances = best_dt_classifier.feature_importances_\n",
    "\n",
    "# Get feature names\n",
    "feature_names = X_train.columns\n",
    "\n",
    "# Create a dictionary mapping feature names to their importances\n",
    "feature_importance_dict = dict(zip(feature_names, feature_importances))\n",
    "\n",
    "# Sort features by their importances\n",
    "sorted_features = sorted(feature_importance_dict.items(), key=lambda x: x[1], reverse=True)\n",
    "\n",
    "# Print the most important features\n",
    "print(\"Top 5 Most Important Features:\")\n",
    "for feature, importance in sorted_features[:5]:\n",
    "    print(f\"{feature}: {importance}\")\n",
    "\n",
    "# Plot feature importances\n",
    "plt.figure(figsize=(10, 6))\n",
    "plt.barh(range(len(sorted_features[:10])), [imp for _, imp in sorted_features[:10]], align='center')\n",
    "plt.yticks(range(len(sorted_features[:10])), [feat for feat, _ in sorted_features[:10]])\n",
    "plt.xlabel('Feature Importance')\n",
    "plt.ylabel('Feature')\n",
    "plt.title('Top 10 Most Important Features')\n",
    "plt.show()"
   ]
  }
 ],
 "metadata": {
  "colab": {
   "provenance": [],
   "toc_visible": true
  },
  "kernelspec": {
   "display_name": "Python 3",
   "name": "python3"
  },
  "language_info": {
   "codemirror_mode": {
    "name": "ipython",
    "version": 3
   },
   "file_extension": ".py",
   "mimetype": "text/x-python",
   "name": "python",
   "nbconvert_exporter": "python",
   "pygments_lexer": "ipython3",
   "version": "3.12.4"
  }
 },
 "nbformat": 4,
 "nbformat_minor": 0
}
