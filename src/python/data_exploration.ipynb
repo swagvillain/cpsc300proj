{
 "cells": [
  {
   "cell_type": "markdown",
   "metadata": {
    "id": "w1k4NmzAWTKy"
   },
   "source": [
    "# Assignment 3\n",
    "CPSC 499 Applied Machine Learning\n",
    "Marshall Brown, 230158096\n",
    "March 11, 2024"
   ]
  },
  {
   "cell_type": "code",
   "execution_count": 1,
   "metadata": {
    "id": "XEYL8MqtVw1y"
   },
   "outputs": [],
   "source": [
    "import io\n",
    "import sklearn\n",
    "import numpy as np\n",
    "import pandas as pd\n",
    "import seaborn as sns\n",
    "import matplotlib.pyplot as plt\n",
    "\n",
    "from sklearn.model_selection import train_test_split\n",
    "from sklearn.metrics import accuracy_score, classification_report, confusion_matrix, f1_score, recall_score"
   ]
  },
  {
   "cell_type": "markdown",
   "metadata": {
    "id": "sRFi6QvybKuJ"
   },
   "source": [
    "## Data Set Exploration"
   ]
  },
  {
   "cell_type": "code",
   "execution_count": 2,
   "metadata": {
    "colab": {
     "base_uri": "https://localhost:8080/"
    },
    "id": "ehy1PX88ZvKT",
    "outputId": "2c23fa67-a037-4ade-f2ec-e2da71c3d507"
   },
   "outputs": [
    {
     "name": "stdout",
     "output_type": "stream",
     "text": [
      "   ID     basis_0_0     basis_0_1  basis_0_2     basis_1_0     basis_1_1  \\\n",
      "0   0  1.998401e-15  4.371139e-08       -1.0  1.000000e+00 -4.371139e-08   \n",
      "1   1  4.371139e-08  3.821371e-15       -1.0  8.742278e-08 -1.000000e+00   \n",
      "2   2  4.371139e-08  3.821371e-15       -1.0  8.742278e-08 -1.000000e+00   \n",
      "3   3  1.998401e-15  4.371139e-08       -1.0  1.000000e+00 -4.371139e-08   \n",
      "4   4  4.371139e-08  3.821371e-15       -1.0  8.742278e-08 -1.000000e+00   \n",
      "\n",
      "      basis_1_2     basis_2_0     basis_2_1     basis_2_2  centroid_x  \\\n",
      "0  0.000000e+00 -4.371139e-08 -1.000000e+00 -4.371139e-08   2115.8066   \n",
      "1  2.249931e-22 -1.000000e+00 -8.742278e-08 -4.371139e-08   1771.1365   \n",
      "2  2.249931e-22 -1.000000e+00 -8.742278e-08 -4.371139e-08   1660.3745   \n",
      "3  0.000000e+00 -4.371139e-08 -1.000000e+00 -4.371139e-08   2115.7854   \n",
      "4  2.249931e-22 -1.000000e+00 -8.742278e-08 -4.371139e-08   1364.5340   \n",
      "\n",
      "   centroid_y  centroid_z  coeffs_x  coeffs_y  coeffs_z  room_ID  \n",
      "0  -403.07547   1040.0000   18.9688  12.60355   18.9686        0  \n",
      "1  -772.81445   1040.0000   18.9688  12.60355   18.9686        0  \n",
      "2  -769.39650   1040.0000   18.9688  12.60355   18.9686        0  \n",
      "3  -301.13824   2050.9688   18.9688  12.60355   18.9686        0  \n",
      "4  -774.27930   2050.9688   18.9688  12.60355   18.9686        0  \n"
     ]
    }
   ],
   "source": [
    "data = pd.read_csv(\"full_data.csv\")\n",
    "\n",
    "# Displaying the first few rows of the data\n",
    "print(data.head())"
   ]
  },
  {
   "cell_type": "code",
   "execution_count": 3,
   "metadata": {
    "colab": {
     "base_uri": "https://localhost:8080/"
    },
    "id": "s0N3OWajymzI",
    "outputId": "cc355070-c49d-454f-e2f9-b191ea820ab9"
   },
   "outputs": [
    {
     "name": "stdout",
     "output_type": "stream",
     "text": [
      "<class 'pandas.core.frame.DataFrame'>\n",
      "RangeIndex: 444549 entries, 0 to 444548\n",
      "Data columns (total 17 columns):\n",
      " #   Column      Non-Null Count   Dtype  \n",
      "---  ------      --------------   -----  \n",
      " 0   ID          444549 non-null  int64  \n",
      " 1   basis_0_0   444549 non-null  float64\n",
      " 2   basis_0_1   444549 non-null  float64\n",
      " 3   basis_0_2   444549 non-null  float64\n",
      " 4   basis_1_0   444549 non-null  float64\n",
      " 5   basis_1_1   444549 non-null  float64\n",
      " 6   basis_1_2   444549 non-null  float64\n",
      " 7   basis_2_0   444549 non-null  float64\n",
      " 8   basis_2_1   444549 non-null  float64\n",
      " 9   basis_2_2   444549 non-null  float64\n",
      " 10  centroid_x  444549 non-null  float64\n",
      " 11  centroid_y  444549 non-null  float64\n",
      " 12  centroid_z  444549 non-null  float64\n",
      " 13  coeffs_x    444549 non-null  float64\n",
      " 14  coeffs_y    444549 non-null  float64\n",
      " 15  coeffs_z    444549 non-null  float64\n",
      " 16  room_ID     444549 non-null  int64  \n",
      "dtypes: float64(15), int64(2)\n",
      "memory usage: 57.7 MB\n",
      "None\n"
     ]
    }
   ],
   "source": [
    "# Summary of data\n",
    "print(data.info())"
   ]
  },
  {
   "cell_type": "code",
   "execution_count": 4,
   "metadata": {
    "colab": {
     "base_uri": "https://localhost:8080/",
     "height": 414
    },
    "id": "8-h4DpuKyonX",
    "outputId": "16ce1876-3a7d-452d-be72-0deee8383435"
   },
   "outputs": [
    {
     "data": {
      "text/html": [
       "<div>\n",
       "<style scoped>\n",
       "    .dataframe tbody tr th:only-of-type {\n",
       "        vertical-align: middle;\n",
       "    }\n",
       "\n",
       "    .dataframe tbody tr th {\n",
       "        vertical-align: top;\n",
       "    }\n",
       "\n",
       "    .dataframe thead th {\n",
       "        text-align: right;\n",
       "    }\n",
       "</style>\n",
       "<table border=\"1\" class=\"dataframe\">\n",
       "  <thead>\n",
       "    <tr style=\"text-align: right;\">\n",
       "      <th></th>\n",
       "      <th>ID</th>\n",
       "      <th>basis_0_0</th>\n",
       "      <th>basis_0_1</th>\n",
       "      <th>basis_0_2</th>\n",
       "      <th>basis_1_0</th>\n",
       "      <th>basis_1_1</th>\n",
       "      <th>basis_1_2</th>\n",
       "      <th>basis_2_0</th>\n",
       "      <th>basis_2_1</th>\n",
       "      <th>basis_2_2</th>\n",
       "      <th>centroid_x</th>\n",
       "      <th>centroid_y</th>\n",
       "      <th>centroid_z</th>\n",
       "      <th>coeffs_x</th>\n",
       "      <th>coeffs_y</th>\n",
       "      <th>coeffs_z</th>\n",
       "      <th>room_ID</th>\n",
       "    </tr>\n",
       "  </thead>\n",
       "  <tbody>\n",
       "    <tr>\n",
       "      <th>count</th>\n",
       "      <td>444549.000000</td>\n",
       "      <td>4.445490e+05</td>\n",
       "      <td>4.445490e+05</td>\n",
       "      <td>444549.000000</td>\n",
       "      <td>4.445490e+05</td>\n",
       "      <td>4.445490e+05</td>\n",
       "      <td>444549.000000</td>\n",
       "      <td>444549.000000</td>\n",
       "      <td>444549.000000</td>\n",
       "      <td>444549.000000</td>\n",
       "      <td>4.445490e+05</td>\n",
       "      <td>4.445490e+05</td>\n",
       "      <td>444549.000000</td>\n",
       "      <td>444549.000000</td>\n",
       "      <td>444549.000000</td>\n",
       "      <td>444549.000000</td>\n",
       "      <td>444549.000000</td>\n",
       "    </tr>\n",
       "    <tr>\n",
       "      <th>mean</th>\n",
       "      <td>90.597061</td>\n",
       "      <td>2.511590e-01</td>\n",
       "      <td>6.063586e-03</td>\n",
       "      <td>-0.061341</td>\n",
       "      <td>-6.719877e-03</td>\n",
       "      <td>2.586619e-01</td>\n",
       "      <td>-0.003068</td>\n",
       "      <td>0.003626</td>\n",
       "      <td>0.000512</td>\n",
       "      <td>0.921573</td>\n",
       "      <td>3.934502e+01</td>\n",
       "      <td>-4.408091e+01</td>\n",
       "      <td>1310.536367</td>\n",
       "      <td>401.185978</td>\n",
       "      <td>166.224181</td>\n",
       "      <td>378.679974</td>\n",
       "      <td>1707.152755</td>\n",
       "    </tr>\n",
       "    <tr>\n",
       "      <th>std</th>\n",
       "      <td>94.421159</td>\n",
       "      <td>7.030123e-01</td>\n",
       "      <td>6.174889e-01</td>\n",
       "      <td>0.239983</td>\n",
       "      <td>6.402524e-01</td>\n",
       "      <td>7.204401e-01</td>\n",
       "      <td>0.063769</td>\n",
       "      <td>0.180827</td>\n",
       "      <td>0.180883</td>\n",
       "      <td>0.291932</td>\n",
       "      <td>9.316225e+03</td>\n",
       "      <td>6.585887e+03</td>\n",
       "      <td>840.411604</td>\n",
       "      <td>456.303615</td>\n",
       "      <td>270.108264</td>\n",
       "      <td>420.258057</td>\n",
       "      <td>1028.713428</td>\n",
       "    </tr>\n",
       "    <tr>\n",
       "      <th>min</th>\n",
       "      <td>0.000000</td>\n",
       "      <td>-1.000000e+00</td>\n",
       "      <td>-1.000000e+00</td>\n",
       "      <td>-1.000000</td>\n",
       "      <td>-1.000000e+00</td>\n",
       "      <td>-1.000000e+00</td>\n",
       "      <td>-1.000000</td>\n",
       "      <td>-1.000000</td>\n",
       "      <td>-1.000000</td>\n",
       "      <td>-1.000000</td>\n",
       "      <td>-2.231559e+06</td>\n",
       "      <td>-8.609601e+05</td>\n",
       "      <td>-3873.100600</td>\n",
       "      <td>0.000000</td>\n",
       "      <td>0.000000</td>\n",
       "      <td>0.000000</td>\n",
       "      <td>0.000000</td>\n",
       "    </tr>\n",
       "    <tr>\n",
       "      <th>25%</th>\n",
       "      <td>32.000000</td>\n",
       "      <td>-4.371139e-08</td>\n",
       "      <td>-8.742278e-08</td>\n",
       "      <td>0.000000</td>\n",
       "      <td>-8.742278e-08</td>\n",
       "      <td>-4.371139e-08</td>\n",
       "      <td>0.000000</td>\n",
       "      <td>0.000000</td>\n",
       "      <td>0.000000</td>\n",
       "      <td>1.000000</td>\n",
       "      <td>-2.739387e+03</td>\n",
       "      <td>-2.717543e+03</td>\n",
       "      <td>628.170000</td>\n",
       "      <td>70.000000</td>\n",
       "      <td>21.056250</td>\n",
       "      <td>28.022400</td>\n",
       "      <td>783.000000</td>\n",
       "    </tr>\n",
       "    <tr>\n",
       "      <th>50%</th>\n",
       "      <td>68.000000</td>\n",
       "      <td>1.192488e-08</td>\n",
       "      <td>0.000000e+00</td>\n",
       "      <td>0.000000</td>\n",
       "      <td>0.000000e+00</td>\n",
       "      <td>1.192488e-08</td>\n",
       "      <td>0.000000</td>\n",
       "      <td>0.000000</td>\n",
       "      <td>0.000000</td>\n",
       "      <td>1.000000</td>\n",
       "      <td>-3.083760e+01</td>\n",
       "      <td>-2.845314e+01</td>\n",
       "      <td>1195.158000</td>\n",
       "      <td>250.891000</td>\n",
       "      <td>80.567751</td>\n",
       "      <td>225.800500</td>\n",
       "      <td>1683.000000</td>\n",
       "    </tr>\n",
       "    <tr>\n",
       "      <th>75%</th>\n",
       "      <td>123.000000</td>\n",
       "      <td>1.000000e+00</td>\n",
       "      <td>8.742278e-08</td>\n",
       "      <td>0.000000</td>\n",
       "      <td>1.509958e-07</td>\n",
       "      <td>1.000000e+00</td>\n",
       "      <td>0.000000</td>\n",
       "      <td>0.000000</td>\n",
       "      <td>0.000000</td>\n",
       "      <td>1.000000</td>\n",
       "      <td>2.732615e+03</td>\n",
       "      <td>2.697340e+03</td>\n",
       "      <td>1835.520100</td>\n",
       "      <td>521.467072</td>\n",
       "      <td>207.624999</td>\n",
       "      <td>599.999984</td>\n",
       "      <td>2606.000000</td>\n",
       "    </tr>\n",
       "    <tr>\n",
       "      <th>max</th>\n",
       "      <td>1404.000000</td>\n",
       "      <td>1.000000e+00</td>\n",
       "      <td>1.000000e+00</td>\n",
       "      <td>1.000000</td>\n",
       "      <td>1.000000e+00</td>\n",
       "      <td>1.000000e+00</td>\n",
       "      <td>1.000000</td>\n",
       "      <td>1.000000</td>\n",
       "      <td>1.000000</td>\n",
       "      <td>1.000000</td>\n",
       "      <td>3.641142e+06</td>\n",
       "      <td>2.111489e+06</td>\n",
       "      <td>22531.111000</td>\n",
       "      <td>19233.657528</td>\n",
       "      <td>17126.019275</td>\n",
       "      <td>7747.200000</td>\n",
       "      <td>3495.000000</td>\n",
       "    </tr>\n",
       "  </tbody>\n",
       "</table>\n",
       "</div>"
      ],
      "text/plain": [
       "                  ID     basis_0_0     basis_0_1      basis_0_2     basis_1_0  \\\n",
       "count  444549.000000  4.445490e+05  4.445490e+05  444549.000000  4.445490e+05   \n",
       "mean       90.597061  2.511590e-01  6.063586e-03      -0.061341 -6.719877e-03   \n",
       "std        94.421159  7.030123e-01  6.174889e-01       0.239983  6.402524e-01   \n",
       "min         0.000000 -1.000000e+00 -1.000000e+00      -1.000000 -1.000000e+00   \n",
       "25%        32.000000 -4.371139e-08 -8.742278e-08       0.000000 -8.742278e-08   \n",
       "50%        68.000000  1.192488e-08  0.000000e+00       0.000000  0.000000e+00   \n",
       "75%       123.000000  1.000000e+00  8.742278e-08       0.000000  1.509958e-07   \n",
       "max      1404.000000  1.000000e+00  1.000000e+00       1.000000  1.000000e+00   \n",
       "\n",
       "          basis_1_1      basis_1_2      basis_2_0      basis_2_1  \\\n",
       "count  4.445490e+05  444549.000000  444549.000000  444549.000000   \n",
       "mean   2.586619e-01      -0.003068       0.003626       0.000512   \n",
       "std    7.204401e-01       0.063769       0.180827       0.180883   \n",
       "min   -1.000000e+00      -1.000000      -1.000000      -1.000000   \n",
       "25%   -4.371139e-08       0.000000       0.000000       0.000000   \n",
       "50%    1.192488e-08       0.000000       0.000000       0.000000   \n",
       "75%    1.000000e+00       0.000000       0.000000       0.000000   \n",
       "max    1.000000e+00       1.000000       1.000000       1.000000   \n",
       "\n",
       "           basis_2_2    centroid_x    centroid_y     centroid_z  \\\n",
       "count  444549.000000  4.445490e+05  4.445490e+05  444549.000000   \n",
       "mean        0.921573  3.934502e+01 -4.408091e+01    1310.536367   \n",
       "std         0.291932  9.316225e+03  6.585887e+03     840.411604   \n",
       "min        -1.000000 -2.231559e+06 -8.609601e+05   -3873.100600   \n",
       "25%         1.000000 -2.739387e+03 -2.717543e+03     628.170000   \n",
       "50%         1.000000 -3.083760e+01 -2.845314e+01    1195.158000   \n",
       "75%         1.000000  2.732615e+03  2.697340e+03    1835.520100   \n",
       "max         1.000000  3.641142e+06  2.111489e+06   22531.111000   \n",
       "\n",
       "            coeffs_x       coeffs_y       coeffs_z        room_ID  \n",
       "count  444549.000000  444549.000000  444549.000000  444549.000000  \n",
       "mean      401.185978     166.224181     378.679974    1707.152755  \n",
       "std       456.303615     270.108264     420.258057    1028.713428  \n",
       "min         0.000000       0.000000       0.000000       0.000000  \n",
       "25%        70.000000      21.056250      28.022400     783.000000  \n",
       "50%       250.891000      80.567751     225.800500    1683.000000  \n",
       "75%       521.467072     207.624999     599.999984    2606.000000  \n",
       "max     19233.657528   17126.019275    7747.200000    3495.000000  "
      ]
     },
     "execution_count": 4,
     "metadata": {},
     "output_type": "execute_result"
    }
   ],
   "source": [
    "# Description of data\n",
    "data.describe(include=\"all\")"
   ]
  },
  {
   "cell_type": "markdown",
   "metadata": {
    "id": "cCeMUmTpb0zR"
   },
   "source": [
    "### Data Preprocessing\n",
    "\n",
    "Let's drop some columns that are not needed"
   ]
  },
  {
   "cell_type": "code",
   "execution_count": 5,
   "metadata": {
    "colab": {
     "base_uri": "https://localhost:8080/"
    },
    "id": "-VZHjxxMsmnm",
    "outputId": "74137620-e1cc-469a-b425-f50312cb4776"
   },
   "outputs": [
    {
     "ename": "KeyError",
     "evalue": "\"['RowNumber'] not found in axis\"",
     "output_type": "error",
     "traceback": [
      "\u001b[1;31m---------------------------------------------------------------------------\u001b[0m",
      "\u001b[1;31mKeyError\u001b[0m                                  Traceback (most recent call last)",
      "Cell \u001b[1;32mIn[5], line 2\u001b[0m\n\u001b[0;32m      1\u001b[0m \u001b[38;5;66;03m# dropping column that is not helpful. RowNumber does not provide any useful info to the model.\u001b[39;00m\n\u001b[1;32m----> 2\u001b[0m data \u001b[38;5;241m=\u001b[39m \u001b[43mdata\u001b[49m\u001b[38;5;241;43m.\u001b[39;49m\u001b[43mdrop\u001b[49m\u001b[43m(\u001b[49m\u001b[38;5;124;43m\"\u001b[39;49m\u001b[38;5;124;43mRowNumber\u001b[39;49m\u001b[38;5;124;43m\"\u001b[39;49m\u001b[43m,\u001b[49m\u001b[43m \u001b[49m\u001b[43maxis\u001b[49m\u001b[38;5;241;43m=\u001b[39;49m\u001b[38;5;241;43m1\u001b[39;49m\u001b[43m)\u001b[49m\n\u001b[0;32m      4\u001b[0m \u001b[38;5;66;03m#checking to see if we have rows with nulls\u001b[39;00m\n\u001b[0;32m      5\u001b[0m data\u001b[38;5;241m.\u001b[39misna()\u001b[38;5;241m.\u001b[39msum()\n",
      "File \u001b[1;32mc:\\Python312\\Lib\\site-packages\\pandas\\core\\frame.py:5581\u001b[0m, in \u001b[0;36mDataFrame.drop\u001b[1;34m(self, labels, axis, index, columns, level, inplace, errors)\u001b[0m\n\u001b[0;32m   5433\u001b[0m \u001b[38;5;28;01mdef\u001b[39;00m \u001b[38;5;21mdrop\u001b[39m(\n\u001b[0;32m   5434\u001b[0m     \u001b[38;5;28mself\u001b[39m,\n\u001b[0;32m   5435\u001b[0m     labels: IndexLabel \u001b[38;5;241m|\u001b[39m \u001b[38;5;28;01mNone\u001b[39;00m \u001b[38;5;241m=\u001b[39m \u001b[38;5;28;01mNone\u001b[39;00m,\n\u001b[1;32m   (...)\u001b[0m\n\u001b[0;32m   5442\u001b[0m     errors: IgnoreRaise \u001b[38;5;241m=\u001b[39m \u001b[38;5;124m\"\u001b[39m\u001b[38;5;124mraise\u001b[39m\u001b[38;5;124m\"\u001b[39m,\n\u001b[0;32m   5443\u001b[0m ) \u001b[38;5;241m-\u001b[39m\u001b[38;5;241m>\u001b[39m DataFrame \u001b[38;5;241m|\u001b[39m \u001b[38;5;28;01mNone\u001b[39;00m:\n\u001b[0;32m   5444\u001b[0m \u001b[38;5;250m    \u001b[39m\u001b[38;5;124;03m\"\"\"\u001b[39;00m\n\u001b[0;32m   5445\u001b[0m \u001b[38;5;124;03m    Drop specified labels from rows or columns.\u001b[39;00m\n\u001b[0;32m   5446\u001b[0m \n\u001b[1;32m   (...)\u001b[0m\n\u001b[0;32m   5579\u001b[0m \u001b[38;5;124;03m            weight  1.0     0.8\u001b[39;00m\n\u001b[0;32m   5580\u001b[0m \u001b[38;5;124;03m    \"\"\"\u001b[39;00m\n\u001b[1;32m-> 5581\u001b[0m     \u001b[38;5;28;01mreturn\u001b[39;00m \u001b[38;5;28;43msuper\u001b[39;49m\u001b[43m(\u001b[49m\u001b[43m)\u001b[49m\u001b[38;5;241;43m.\u001b[39;49m\u001b[43mdrop\u001b[49m\u001b[43m(\u001b[49m\n\u001b[0;32m   5582\u001b[0m \u001b[43m        \u001b[49m\u001b[43mlabels\u001b[49m\u001b[38;5;241;43m=\u001b[39;49m\u001b[43mlabels\u001b[49m\u001b[43m,\u001b[49m\n\u001b[0;32m   5583\u001b[0m \u001b[43m        \u001b[49m\u001b[43maxis\u001b[49m\u001b[38;5;241;43m=\u001b[39;49m\u001b[43maxis\u001b[49m\u001b[43m,\u001b[49m\n\u001b[0;32m   5584\u001b[0m \u001b[43m        \u001b[49m\u001b[43mindex\u001b[49m\u001b[38;5;241;43m=\u001b[39;49m\u001b[43mindex\u001b[49m\u001b[43m,\u001b[49m\n\u001b[0;32m   5585\u001b[0m \u001b[43m        \u001b[49m\u001b[43mcolumns\u001b[49m\u001b[38;5;241;43m=\u001b[39;49m\u001b[43mcolumns\u001b[49m\u001b[43m,\u001b[49m\n\u001b[0;32m   5586\u001b[0m \u001b[43m        \u001b[49m\u001b[43mlevel\u001b[49m\u001b[38;5;241;43m=\u001b[39;49m\u001b[43mlevel\u001b[49m\u001b[43m,\u001b[49m\n\u001b[0;32m   5587\u001b[0m \u001b[43m        \u001b[49m\u001b[43minplace\u001b[49m\u001b[38;5;241;43m=\u001b[39;49m\u001b[43minplace\u001b[49m\u001b[43m,\u001b[49m\n\u001b[0;32m   5588\u001b[0m \u001b[43m        \u001b[49m\u001b[43merrors\u001b[49m\u001b[38;5;241;43m=\u001b[39;49m\u001b[43merrors\u001b[49m\u001b[43m,\u001b[49m\n\u001b[0;32m   5589\u001b[0m \u001b[43m    \u001b[49m\u001b[43m)\u001b[49m\n",
      "File \u001b[1;32mc:\\Python312\\Lib\\site-packages\\pandas\\core\\generic.py:4788\u001b[0m, in \u001b[0;36mNDFrame.drop\u001b[1;34m(self, labels, axis, index, columns, level, inplace, errors)\u001b[0m\n\u001b[0;32m   4786\u001b[0m \u001b[38;5;28;01mfor\u001b[39;00m axis, labels \u001b[38;5;129;01min\u001b[39;00m axes\u001b[38;5;241m.\u001b[39mitems():\n\u001b[0;32m   4787\u001b[0m     \u001b[38;5;28;01mif\u001b[39;00m labels \u001b[38;5;129;01mis\u001b[39;00m \u001b[38;5;129;01mnot\u001b[39;00m \u001b[38;5;28;01mNone\u001b[39;00m:\n\u001b[1;32m-> 4788\u001b[0m         obj \u001b[38;5;241m=\u001b[39m \u001b[43mobj\u001b[49m\u001b[38;5;241;43m.\u001b[39;49m\u001b[43m_drop_axis\u001b[49m\u001b[43m(\u001b[49m\u001b[43mlabels\u001b[49m\u001b[43m,\u001b[49m\u001b[43m \u001b[49m\u001b[43maxis\u001b[49m\u001b[43m,\u001b[49m\u001b[43m \u001b[49m\u001b[43mlevel\u001b[49m\u001b[38;5;241;43m=\u001b[39;49m\u001b[43mlevel\u001b[49m\u001b[43m,\u001b[49m\u001b[43m \u001b[49m\u001b[43merrors\u001b[49m\u001b[38;5;241;43m=\u001b[39;49m\u001b[43merrors\u001b[49m\u001b[43m)\u001b[49m\n\u001b[0;32m   4790\u001b[0m \u001b[38;5;28;01mif\u001b[39;00m inplace:\n\u001b[0;32m   4791\u001b[0m     \u001b[38;5;28mself\u001b[39m\u001b[38;5;241m.\u001b[39m_update_inplace(obj)\n",
      "File \u001b[1;32mc:\\Python312\\Lib\\site-packages\\pandas\\core\\generic.py:4830\u001b[0m, in \u001b[0;36mNDFrame._drop_axis\u001b[1;34m(self, labels, axis, level, errors, only_slice)\u001b[0m\n\u001b[0;32m   4828\u001b[0m         new_axis \u001b[38;5;241m=\u001b[39m axis\u001b[38;5;241m.\u001b[39mdrop(labels, level\u001b[38;5;241m=\u001b[39mlevel, errors\u001b[38;5;241m=\u001b[39merrors)\n\u001b[0;32m   4829\u001b[0m     \u001b[38;5;28;01melse\u001b[39;00m:\n\u001b[1;32m-> 4830\u001b[0m         new_axis \u001b[38;5;241m=\u001b[39m \u001b[43maxis\u001b[49m\u001b[38;5;241;43m.\u001b[39;49m\u001b[43mdrop\u001b[49m\u001b[43m(\u001b[49m\u001b[43mlabels\u001b[49m\u001b[43m,\u001b[49m\u001b[43m \u001b[49m\u001b[43merrors\u001b[49m\u001b[38;5;241;43m=\u001b[39;49m\u001b[43merrors\u001b[49m\u001b[43m)\u001b[49m\n\u001b[0;32m   4831\u001b[0m     indexer \u001b[38;5;241m=\u001b[39m axis\u001b[38;5;241m.\u001b[39mget_indexer(new_axis)\n\u001b[0;32m   4833\u001b[0m \u001b[38;5;66;03m# Case for non-unique axis\u001b[39;00m\n\u001b[0;32m   4834\u001b[0m \u001b[38;5;28;01melse\u001b[39;00m:\n",
      "File \u001b[1;32mc:\\Python312\\Lib\\site-packages\\pandas\\core\\indexes\\base.py:7070\u001b[0m, in \u001b[0;36mIndex.drop\u001b[1;34m(self, labels, errors)\u001b[0m\n\u001b[0;32m   7068\u001b[0m \u001b[38;5;28;01mif\u001b[39;00m mask\u001b[38;5;241m.\u001b[39many():\n\u001b[0;32m   7069\u001b[0m     \u001b[38;5;28;01mif\u001b[39;00m errors \u001b[38;5;241m!=\u001b[39m \u001b[38;5;124m\"\u001b[39m\u001b[38;5;124mignore\u001b[39m\u001b[38;5;124m\"\u001b[39m:\n\u001b[1;32m-> 7070\u001b[0m         \u001b[38;5;28;01mraise\u001b[39;00m \u001b[38;5;167;01mKeyError\u001b[39;00m(\u001b[38;5;124mf\u001b[39m\u001b[38;5;124m\"\u001b[39m\u001b[38;5;132;01m{\u001b[39;00mlabels[mask]\u001b[38;5;241m.\u001b[39mtolist()\u001b[38;5;132;01m}\u001b[39;00m\u001b[38;5;124m not found in axis\u001b[39m\u001b[38;5;124m\"\u001b[39m)\n\u001b[0;32m   7071\u001b[0m     indexer \u001b[38;5;241m=\u001b[39m indexer[\u001b[38;5;241m~\u001b[39mmask]\n\u001b[0;32m   7072\u001b[0m \u001b[38;5;28;01mreturn\u001b[39;00m \u001b[38;5;28mself\u001b[39m\u001b[38;5;241m.\u001b[39mdelete(indexer)\n",
      "\u001b[1;31mKeyError\u001b[0m: \"['RowNumber'] not found in axis\""
     ]
    }
   ],
   "source": [
    "# dropping column that is not helpful. RowNumber does not provide any useful info to the model.\n",
    "data = data.drop(\"RowNumber\", axis=1)\n",
    "\n",
    "#checking to see if we have rows with nulls\n",
    "data.isna().sum()\n",
    "\n"
   ]
  },
  {
   "cell_type": "markdown",
   "metadata": {
    "id": "0oFQHLvmtzDF"
   },
   "source": [
    "We see that there are some null values. becuase there are so few, we can just drop them."
   ]
  },
  {
   "cell_type": "code",
   "execution_count": null,
   "metadata": {
    "colab": {
     "base_uri": "https://localhost:8080/"
    },
    "id": "ZgJiOpPFuDs2",
    "outputId": "5dccc0cd-80a0-4440-d1bb-f888da460e32"
   },
   "outputs": [
    {
     "data": {
      "text/plain": [
       "CustomerId         0\n",
       "Surname            0\n",
       "CreditScore        0\n",
       "Geography          0\n",
       "Gender             0\n",
       "Age                0\n",
       "Tenure             0\n",
       "Balance            0\n",
       "NumOfProducts      0\n",
       "HasCrCard          0\n",
       "IsActiveMember     0\n",
       "EstimatedSalary    0\n",
       "Exited             0\n",
       "dtype: int64"
      ]
     },
     "execution_count": 6,
     "metadata": {},
     "output_type": "execute_result"
    }
   ],
   "source": [
    "# dropping rows with nulls\n",
    "data = data.dropna()\n",
    "\n",
    "# checking\n",
    "data.isna().sum()"
   ]
  },
  {
   "cell_type": "code",
   "execution_count": 6,
   "metadata": {
    "colab": {
     "base_uri": "https://localhost:8080/"
    },
    "id": "O1pD4NG3xSLL",
    "outputId": "ae691eac-ebf6-4289-8a96-c9558792bd26"
   },
   "outputs": [
    {
     "data": {
      "text/plain": [
       "np.int64(0)"
      ]
     },
     "execution_count": 6,
     "metadata": {},
     "output_type": "execute_result"
    }
   ],
   "source": [
    "# finding how many duplicate rows we have\n",
    "data.duplicated().sum()"
   ]
  },
  {
   "cell_type": "markdown",
   "metadata": {
    "id": "CI2-2dlawK1g"
   },
   "source": []
  },
  {
   "cell_type": "code",
   "execution_count": null,
   "metadata": {
    "colab": {
     "base_uri": "https://localhost:8080/"
    },
    "id": "Cwiof_FRwLbR",
    "outputId": "e45877ae-4b93-43b8-893f-ed1e1bc141ab"
   },
   "outputs": [
    {
     "data": {
      "text/plain": [
       "0"
      ]
     },
     "execution_count": 8,
     "metadata": {},
     "output_type": "execute_result"
    }
   ],
   "source": [
    "# dropping duplicate rows\n",
    "data = data.drop_duplicates()\n",
    "\n",
    "# checking\n",
    "data.duplicated().sum()"
   ]
  },
  {
   "cell_type": "markdown",
   "metadata": {
    "id": "J1XMwUmHx5Tt"
   },
   "source": [
    "The surname column is not expected to be helpful in prediction. Maybe there is a correlation between the length of the name and exiting. Let's replace the name with the length of the name"
   ]
  },
  {
   "cell_type": "code",
   "execution_count": null,
   "metadata": {
    "id": "syTUH2gCyFq5"
   },
   "outputs": [],
   "source": [
    "# replacing the surname with its length\n",
    "data[data.columns[data.columns.get_loc('Surname')]] = data['Surname'].apply(lambda x: len(str(x)))"
   ]
  },
  {
   "cell_type": "code",
   "execution_count": null,
   "metadata": {
    "colab": {
     "base_uri": "https://localhost:8080/"
    },
    "id": "GMtKGUjry4_0",
    "outputId": "cdcb7f9a-55a8-4662-9c35-4c64a25d5230"
   },
   "outputs": [
    {
     "name": "stdout",
     "output_type": "stream",
     "text": [
      "   CustomerId  Surname  CreditScore Geography  Gender   Age  Tenure  \\\n",
      "0    15634602        8          619    France  Female  42.0       2   \n",
      "1    15647311        4          608     Spain  Female  41.0       1   \n",
      "2    15619304        4          502    France  Female  42.0       8   \n",
      "3    15701354        4          699    France  Female  39.0       1   \n",
      "5    15574012        3          645     Spain    Male  44.0       8   \n",
      "\n",
      "     Balance  NumOfProducts  HasCrCard  IsActiveMember  EstimatedSalary  \\\n",
      "0       0.00              1        1.0             1.0        101348.88   \n",
      "1   83807.86              1        0.0             1.0        112542.58   \n",
      "2  159660.80              3        1.0             0.0        113931.57   \n",
      "3       0.00              2        0.0             0.0         93826.63   \n",
      "5  113755.78              2        1.0             0.0        149756.71   \n",
      "\n",
      "   Exited  \n",
      "0       1  \n",
      "1       0  \n",
      "2       1  \n",
      "3       0  \n",
      "5       1  \n"
     ]
    }
   ],
   "source": [
    "print(data.head())"
   ]
  },
  {
   "cell_type": "markdown",
   "metadata": {
    "id": "Y6bBWHjL0oP-"
   },
   "source": [
    "### Correlations and visualization\n",
    "\n",
    "Let's look at the data correlations. first we split the data into numeric and categorical, then we will look at correlations."
   ]
  },
  {
   "cell_type": "code",
   "execution_count": 7,
   "metadata": {
    "id": "U1IN2XzM0sm-"
   },
   "outputs": [],
   "source": [
    "numeric_data = data.select_dtypes(include=[np.number])\n",
    "categorical_data = data.select_dtypes(exclude=[np.number])\n",
    "\n"
   ]
  },
  {
   "cell_type": "code",
   "execution_count": 9,
   "metadata": {
    "colab": {
     "base_uri": "https://localhost:8080/",
     "height": 414
    },
    "id": "RWj0m6vg1fEx",
    "outputId": "d516a25e-121e-4bb5-f737-e8e752e318cd"
   },
   "outputs": [
    {
     "data": {
      "text/html": [
       "<style type=\"text/css\">\n",
       "#T_4147d_row0_col0, #T_4147d_row1_col1, #T_4147d_row2_col2, #T_4147d_row3_col3, #T_4147d_row4_col4, #T_4147d_row5_col5, #T_4147d_row6_col6, #T_4147d_row7_col7, #T_4147d_row8_col8, #T_4147d_row9_col9, #T_4147d_row10_col10, #T_4147d_row11_col11, #T_4147d_row12_col12, #T_4147d_row13_col13, #T_4147d_row14_col14, #T_4147d_row15_col15, #T_4147d_row16_col16 {\n",
       "  background-color: #b40426;\n",
       "  color: #f1f1f1;\n",
       "}\n",
       "#T_4147d_row0_col1, #T_4147d_row0_col5, #T_4147d_row12_col0 {\n",
       "  background-color: #7699f6;\n",
       "  color: #f1f1f1;\n",
       "}\n",
       "#T_4147d_row0_col2, #T_4147d_row15_col4 {\n",
       "  background-color: #d1dae9;\n",
       "  color: #000000;\n",
       "}\n",
       "#T_4147d_row0_col3, #T_4147d_row15_col16 {\n",
       "  background-color: #5572df;\n",
       "  color: #f1f1f1;\n",
       "}\n",
       "#T_4147d_row0_col4 {\n",
       "  background-color: #cbd8ee;\n",
       "  color: #000000;\n",
       "}\n",
       "#T_4147d_row0_col6, #T_4147d_row6_col3, #T_4147d_row8_col3, #T_4147d_row8_col9, #T_4147d_row13_col12, #T_4147d_row14_col7 {\n",
       "  background-color: #4a63d3;\n",
       "  color: #f1f1f1;\n",
       "}\n",
       "#T_4147d_row0_col7, #T_4147d_row2_col3, #T_4147d_row4_col3, #T_4147d_row4_col7, #T_4147d_row4_col9, #T_4147d_row8_col7, #T_4147d_row10_col3, #T_4147d_row10_col9 {\n",
       "  background-color: #4e68d8;\n",
       "  color: #f1f1f1;\n",
       "}\n",
       "#T_4147d_row0_col8, #T_4147d_row1_col8 {\n",
       "  background-color: #81a4fb;\n",
       "  color: #f1f1f1;\n",
       "}\n",
       "#T_4147d_row0_col9, #T_4147d_row6_col11, #T_4147d_row8_col11 {\n",
       "  background-color: #5a78e4;\n",
       "  color: #f1f1f1;\n",
       "}\n",
       "#T_4147d_row0_col10, #T_4147d_row2_col13, #T_4147d_row8_col0, #T_4147d_row10_col0, #T_4147d_row11_col14 {\n",
       "  background-color: #5f7fe8;\n",
       "  color: #f1f1f1;\n",
       "}\n",
       "#T_4147d_row0_col11, #T_4147d_row4_col0, #T_4147d_row14_col11, #T_4147d_row15_col11 {\n",
       "  background-color: #5673e0;\n",
       "  color: #f1f1f1;\n",
       "}\n",
       "#T_4147d_row0_col12, #T_4147d_row2_col8, #T_4147d_row5_col8, #T_4147d_row5_col11, #T_4147d_row7_col8, #T_4147d_row13_col8, #T_4147d_row14_col8, #T_4147d_row15_col8 {\n",
       "  background-color: #7ea1fa;\n",
       "  color: #f1f1f1;\n",
       "}\n",
       "#T_4147d_row0_col13, #T_4147d_row2_col6, #T_4147d_row2_col10 {\n",
       "  background-color: #445acc;\n",
       "  color: #f1f1f1;\n",
       "}\n",
       "#T_4147d_row0_col14, #T_4147d_row3_col16, #T_4147d_row6_col16, #T_4147d_row7_col16, #T_4147d_row8_col16, #T_4147d_row14_col16 {\n",
       "  background-color: #506bda;\n",
       "  color: #f1f1f1;\n",
       "}\n",
       "#T_4147d_row0_col15, #T_4147d_row10_col7, #T_4147d_row12_col15, #T_4147d_row12_col16, #T_4147d_row15_col6, #T_4147d_row16_col9 {\n",
       "  background-color: #4c66d6;\n",
       "  color: #f1f1f1;\n",
       "}\n",
       "#T_4147d_row0_col16, #T_4147d_row1_col13, #T_4147d_row1_col15, #T_4147d_row2_col4, #T_4147d_row3_col7, #T_4147d_row4_col2, #T_4147d_row4_col8, #T_4147d_row5_col13, #T_4147d_row5_col15, #T_4147d_row7_col3, #T_4147d_row7_col6, #T_4147d_row7_col9, #T_4147d_row10_col11, #T_4147d_row11_col10, #T_4147d_row12_col14, #T_4147d_row14_col12, #T_4147d_row15_col0, #T_4147d_row15_col1, #T_4147d_row15_col5 {\n",
       "  background-color: #3b4cc0;\n",
       "  color: #f1f1f1;\n",
       "}\n",
       "#T_4147d_row1_col0, #T_4147d_row2_col14, #T_4147d_row3_col0, #T_4147d_row4_col13, #T_4147d_row5_col0, #T_4147d_row5_col9, #T_4147d_row6_col0, #T_4147d_row8_col14 {\n",
       "  background-color: #6485ec;\n",
       "  color: #f1f1f1;\n",
       "}\n",
       "#T_4147d_row1_col2, #T_4147d_row5_col2, #T_4147d_row6_col4, #T_4147d_row11_col2, #T_4147d_row12_col4, #T_4147d_row13_col2, #T_4147d_row16_col4 {\n",
       "  background-color: #cdd9ec;\n",
       "  color: #000000;\n",
       "}\n",
       "#T_4147d_row1_col3, #T_4147d_row1_col9, #T_4147d_row1_col14, #T_4147d_row7_col11, #T_4147d_row7_col15, #T_4147d_row9_col0, #T_4147d_row11_col15 {\n",
       "  background-color: #6a8bef;\n",
       "  color: #f1f1f1;\n",
       "}\n",
       "#T_4147d_row1_col4, #T_4147d_row3_col2, #T_4147d_row3_col4, #T_4147d_row5_col4, #T_4147d_row7_col4, #T_4147d_row8_col2, #T_4147d_row11_col4, #T_4147d_row12_col2, #T_4147d_row14_col2, #T_4147d_row14_col4, #T_4147d_row16_col2 {\n",
       "  background-color: #cedaeb;\n",
       "  color: #000000;\n",
       "}\n",
       "#T_4147d_row1_col5, #T_4147d_row5_col1 {\n",
       "  background-color: #e16751;\n",
       "  color: #f1f1f1;\n",
       "}\n",
       "#T_4147d_row1_col6, #T_4147d_row13_col1, #T_4147d_row13_col5, #T_4147d_row14_col0 {\n",
       "  background-color: #465ecf;\n",
       "  color: #f1f1f1;\n",
       "}\n",
       "#T_4147d_row1_col7, #T_4147d_row11_col3, #T_4147d_row12_col7, #T_4147d_row13_col6 {\n",
       "  background-color: #4b64d5;\n",
       "  color: #f1f1f1;\n",
       "}\n",
       "#T_4147d_row1_col10, #T_4147d_row2_col11, #T_4147d_row4_col11, #T_4147d_row5_col10, #T_4147d_row7_col0, #T_4147d_row7_col10, #T_4147d_row11_col7, #T_4147d_row12_col9, #T_4147d_row13_col10, #T_4147d_row15_col10, #T_4147d_row16_col10, #T_4147d_row16_col11 {\n",
       "  background-color: #5b7ae5;\n",
       "  color: #f1f1f1;\n",
       "}\n",
       "#T_4147d_row1_col11, #T_4147d_row6_col1, #T_4147d_row6_col5, #T_4147d_row6_col12, #T_4147d_row9_col12, #T_4147d_row14_col1, #T_4147d_row16_col15 {\n",
       "  background-color: #7396f5;\n",
       "  color: #f1f1f1;\n",
       "}\n",
       "#T_4147d_row1_col12 {\n",
       "  background-color: #a7c5fe;\n",
       "  color: #000000;\n",
       "}\n",
       "#T_4147d_row1_col16, #T_4147d_row8_col10 {\n",
       "  background-color: #516ddb;\n",
       "  color: #f1f1f1;\n",
       "}\n",
       "#T_4147d_row2_col0, #T_4147d_row7_col14, #T_4147d_row10_col13, #T_4147d_row11_col12, #T_4147d_row16_col12 {\n",
       "  background-color: #6282ea;\n",
       "  color: #f1f1f1;\n",
       "}\n",
       "#T_4147d_row2_col1, #T_4147d_row2_col5, #T_4147d_row6_col13, #T_4147d_row7_col1 {\n",
       "  background-color: #6c8ff1;\n",
       "  color: #f1f1f1;\n",
       "}\n",
       "#T_4147d_row2_col7, #T_4147d_row11_col9, #T_4147d_row13_col7, #T_4147d_row14_col6, #T_4147d_row15_col7 {\n",
       "  background-color: #4961d2;\n",
       "  color: #f1f1f1;\n",
       "}\n",
       "#T_4147d_row2_col9, #T_4147d_row2_col16, #T_4147d_row4_col16, #T_4147d_row9_col16, #T_4147d_row10_col16, #T_4147d_row11_col16, #T_4147d_row12_col6, #T_4147d_row16_col3, #T_4147d_row16_col7 {\n",
       "  background-color: #4f69d9;\n",
       "  color: #f1f1f1;\n",
       "}\n",
       "#T_4147d_row2_col12, #T_4147d_row4_col14, #T_4147d_row8_col12, #T_4147d_row10_col12, #T_4147d_row10_col14, #T_4147d_row16_col13, #T_4147d_row16_col14 {\n",
       "  background-color: #6687ed;\n",
       "  color: #f1f1f1;\n",
       "}\n",
       "#T_4147d_row2_col15, #T_4147d_row3_col12 {\n",
       "  background-color: #6b8df0;\n",
       "  color: #f1f1f1;\n",
       "}\n",
       "#T_4147d_row3_col1 {\n",
       "  background-color: #89acfd;\n",
       "  color: #000000;\n",
       "}\n",
       "#T_4147d_row3_col5, #T_4147d_row6_col8 {\n",
       "  background-color: #84a7fc;\n",
       "  color: #f1f1f1;\n",
       "}\n",
       "#T_4147d_row3_col6 {\n",
       "  background-color: #3d50c3;\n",
       "  color: #f1f1f1;\n",
       "}\n",
       "#T_4147d_row3_col8, #T_4147d_row6_col15, #T_4147d_row14_col3 {\n",
       "  background-color: #7a9df8;\n",
       "  color: #f1f1f1;\n",
       "}\n",
       "#T_4147d_row3_col9, #T_4147d_row9_col3 {\n",
       "  background-color: #ea7b60;\n",
       "  color: #f1f1f1;\n",
       "}\n",
       "#T_4147d_row3_col10, #T_4147d_row6_col10, #T_4147d_row12_col10, #T_4147d_row14_col10 {\n",
       "  background-color: #5d7ce6;\n",
       "  color: #f1f1f1;\n",
       "}\n",
       "#T_4147d_row3_col11, #T_4147d_row9_col11, #T_4147d_row11_col13 {\n",
       "  background-color: #5977e3;\n",
       "  color: #f1f1f1;\n",
       "}\n",
       "#T_4147d_row3_col13, #T_4147d_row8_col4 {\n",
       "  background-color: #9ebeff;\n",
       "  color: #000000;\n",
       "}\n",
       "#T_4147d_row3_col14 {\n",
       "  background-color: #90b2fe;\n",
       "  color: #000000;\n",
       "}\n",
       "#T_4147d_row3_col15 {\n",
       "  background-color: #afcafc;\n",
       "  color: #000000;\n",
       "}\n",
       "#T_4147d_row4_col1, #T_4147d_row4_col5 {\n",
       "  background-color: #6f92f3;\n",
       "  color: #f1f1f1;\n",
       "}\n",
       "#T_4147d_row4_col6 {\n",
       "  background-color: #4055c8;\n",
       "  color: #f1f1f1;\n",
       "}\n",
       "#T_4147d_row4_col10, #T_4147d_row6_col9, #T_4147d_row9_col8, #T_4147d_row14_col9 {\n",
       "  background-color: #7b9ff9;\n",
       "  color: #f1f1f1;\n",
       "}\n",
       "#T_4147d_row4_col12, #T_4147d_row5_col3, #T_4147d_row7_col12 {\n",
       "  background-color: #6384eb;\n",
       "  color: #f1f1f1;\n",
       "}\n",
       "#T_4147d_row4_col15, #T_4147d_row14_col5, #T_4147d_row16_col5 {\n",
       "  background-color: #7295f4;\n",
       "  color: #f1f1f1;\n",
       "}\n",
       "#T_4147d_row5_col6, #T_4147d_row8_col6 {\n",
       "  background-color: #455cce;\n",
       "  color: #f1f1f1;\n",
       "}\n",
       "#T_4147d_row5_col7 {\n",
       "  background-color: #96b7ff;\n",
       "  color: #000000;\n",
       "}\n",
       "#T_4147d_row5_col12 {\n",
       "  background-color: #a6c4fe;\n",
       "  color: #000000;\n",
       "}\n",
       "#T_4147d_row5_col14 {\n",
       "  background-color: #688aef;\n",
       "  color: #f1f1f1;\n",
       "}\n",
       "#T_4147d_row5_col16, #T_4147d_row12_col3, #T_4147d_row13_col11 {\n",
       "  background-color: #536edd;\n",
       "  color: #f1f1f1;\n",
       "}\n",
       "#T_4147d_row6_col2, #T_4147d_row9_col2, #T_4147d_row9_col4, #T_4147d_row13_col4 {\n",
       "  background-color: #cfdaea;\n",
       "  color: #000000;\n",
       "}\n",
       "#T_4147d_row6_col7, #T_4147d_row12_col13, #T_4147d_row16_col0 {\n",
       "  background-color: #485fd1;\n",
       "  color: #f1f1f1;\n",
       "}\n",
       "#T_4147d_row6_col14, #T_4147d_row8_col5, #T_4147d_row8_col15, #T_4147d_row10_col1, #T_4147d_row10_col5, #T_4147d_row10_col15 {\n",
       "  background-color: #6e90f2;\n",
       "  color: #f1f1f1;\n",
       "}\n",
       "#T_4147d_row7_col2, #T_4147d_row15_col2 {\n",
       "  background-color: #ccd9ed;\n",
       "  color: #000000;\n",
       "}\n",
       "#T_4147d_row7_col5 {\n",
       "  background-color: #b1cbfc;\n",
       "  color: #000000;\n",
       "}\n",
       "#T_4147d_row7_col13, #T_4147d_row9_col10 {\n",
       "  background-color: #5e7de7;\n",
       "  color: #f1f1f1;\n",
       "}\n",
       "#T_4147d_row8_col1, #T_4147d_row9_col6, #T_4147d_row16_col1 {\n",
       "  background-color: #7093f3;\n",
       "  color: #f1f1f1;\n",
       "}\n",
       "#T_4147d_row8_col13 {\n",
       "  background-color: #6180e9;\n",
       "  color: #f1f1f1;\n",
       "}\n",
       "#T_4147d_row9_col1 {\n",
       "  background-color: #8badfd;\n",
       "  color: #000000;\n",
       "}\n",
       "#T_4147d_row9_col5, #T_4147d_row11_col1 {\n",
       "  background-color: #85a8fc;\n",
       "  color: #f1f1f1;\n",
       "}\n",
       "#T_4147d_row9_col7 {\n",
       "  background-color: #3c4ec2;\n",
       "  color: #f1f1f1;\n",
       "}\n",
       "#T_4147d_row9_col13 {\n",
       "  background-color: #9bbcff;\n",
       "  color: #000000;\n",
       "}\n",
       "#T_4147d_row9_col14 {\n",
       "  background-color: #93b5fe;\n",
       "  color: #000000;\n",
       "}\n",
       "#T_4147d_row9_col15 {\n",
       "  background-color: #b2ccfb;\n",
       "  color: #000000;\n",
       "}\n",
       "#T_4147d_row10_col2 {\n",
       "  background-color: #c0d4f5;\n",
       "  color: #000000;\n",
       "}\n",
       "#T_4147d_row10_col4 {\n",
       "  background-color: #dedcdb;\n",
       "  color: #000000;\n",
       "}\n",
       "#T_4147d_row10_col6, #T_4147d_row16_col6 {\n",
       "  background-color: #4257c9;\n",
       "  color: #f1f1f1;\n",
       "}\n",
       "#T_4147d_row10_col8 {\n",
       "  background-color: #7597f6;\n",
       "  color: #f1f1f1;\n",
       "}\n",
       "#T_4147d_row11_col0, #T_4147d_row12_col11 {\n",
       "  background-color: #5875e1;\n",
       "  color: #f1f1f1;\n",
       "}\n",
       "#T_4147d_row11_col5 {\n",
       "  background-color: #8fb1fe;\n",
       "  color: #000000;\n",
       "}\n",
       "#T_4147d_row11_col6, #T_4147d_row13_col0 {\n",
       "  background-color: #3f53c6;\n",
       "  color: #f1f1f1;\n",
       "}\n",
       "#T_4147d_row11_col8 {\n",
       "  background-color: #7da0f9;\n",
       "  color: #f1f1f1;\n",
       "}\n",
       "#T_4147d_row12_col1 {\n",
       "  background-color: #aec9fc;\n",
       "  color: #000000;\n",
       "}\n",
       "#T_4147d_row12_col5 {\n",
       "  background-color: #adc9fd;\n",
       "  color: #000000;\n",
       "}\n",
       "#T_4147d_row12_col8, #T_4147d_row16_col8 {\n",
       "  background-color: #80a3fa;\n",
       "  color: #f1f1f1;\n",
       "}\n",
       "#T_4147d_row13_col3 {\n",
       "  background-color: #8caffe;\n",
       "  color: #000000;\n",
       "}\n",
       "#T_4147d_row13_col9 {\n",
       "  background-color: #88abfd;\n",
       "  color: #000000;\n",
       "}\n",
       "#T_4147d_row13_col14 {\n",
       "  background-color: #e3d9d3;\n",
       "  color: #000000;\n",
       "}\n",
       "#T_4147d_row13_col15 {\n",
       "  background-color: #f7b89c;\n",
       "  color: #000000;\n",
       "}\n",
       "#T_4147d_row13_col16 {\n",
       "  background-color: #5470de;\n",
       "  color: #f1f1f1;\n",
       "}\n",
       "#T_4147d_row14_col13 {\n",
       "  background-color: #e1dad6;\n",
       "  color: #000000;\n",
       "}\n",
       "#T_4147d_row14_col15 {\n",
       "  background-color: #a1c0ff;\n",
       "  color: #000000;\n",
       "}\n",
       "#T_4147d_row15_col3 {\n",
       "  background-color: #94b6ff;\n",
       "  color: #000000;\n",
       "}\n",
       "#T_4147d_row15_col9 {\n",
       "  background-color: #97b8ff;\n",
       "  color: #000000;\n",
       "}\n",
       "#T_4147d_row15_col12 {\n",
       "  background-color: #4358cb;\n",
       "  color: #f1f1f1;\n",
       "}\n",
       "#T_4147d_row15_col13 {\n",
       "  background-color: #f6bda2;\n",
       "  color: #000000;\n",
       "}\n",
       "#T_4147d_row15_col14 {\n",
       "  background-color: #9abbff;\n",
       "  color: #000000;\n",
       "}\n",
       "</style>\n",
       "<table id=\"T_4147d\">\n",
       "  <thead>\n",
       "    <tr>\n",
       "      <th class=\"blank level0\" >&nbsp;</th>\n",
       "      <th id=\"T_4147d_level0_col0\" class=\"col_heading level0 col0\" >ID</th>\n",
       "      <th id=\"T_4147d_level0_col1\" class=\"col_heading level0 col1\" >basis_0_0</th>\n",
       "      <th id=\"T_4147d_level0_col2\" class=\"col_heading level0 col2\" >basis_0_1</th>\n",
       "      <th id=\"T_4147d_level0_col3\" class=\"col_heading level0 col3\" >basis_0_2</th>\n",
       "      <th id=\"T_4147d_level0_col4\" class=\"col_heading level0 col4\" >basis_1_0</th>\n",
       "      <th id=\"T_4147d_level0_col5\" class=\"col_heading level0 col5\" >basis_1_1</th>\n",
       "      <th id=\"T_4147d_level0_col6\" class=\"col_heading level0 col6\" >basis_1_2</th>\n",
       "      <th id=\"T_4147d_level0_col7\" class=\"col_heading level0 col7\" >basis_2_0</th>\n",
       "      <th id=\"T_4147d_level0_col8\" class=\"col_heading level0 col8\" >basis_2_1</th>\n",
       "      <th id=\"T_4147d_level0_col9\" class=\"col_heading level0 col9\" >basis_2_2</th>\n",
       "      <th id=\"T_4147d_level0_col10\" class=\"col_heading level0 col10\" >centroid_x</th>\n",
       "      <th id=\"T_4147d_level0_col11\" class=\"col_heading level0 col11\" >centroid_y</th>\n",
       "      <th id=\"T_4147d_level0_col12\" class=\"col_heading level0 col12\" >centroid_z</th>\n",
       "      <th id=\"T_4147d_level0_col13\" class=\"col_heading level0 col13\" >coeffs_x</th>\n",
       "      <th id=\"T_4147d_level0_col14\" class=\"col_heading level0 col14\" >coeffs_y</th>\n",
       "      <th id=\"T_4147d_level0_col15\" class=\"col_heading level0 col15\" >coeffs_z</th>\n",
       "      <th id=\"T_4147d_level0_col16\" class=\"col_heading level0 col16\" >room_ID</th>\n",
       "    </tr>\n",
       "  </thead>\n",
       "  <tbody>\n",
       "    <tr>\n",
       "      <th id=\"T_4147d_level0_row0\" class=\"row_heading level0 row0\" >ID</th>\n",
       "      <td id=\"T_4147d_row0_col0\" class=\"data row0 col0\" >1.000000</td>\n",
       "      <td id=\"T_4147d_row0_col1\" class=\"data row0 col1\" >0.029717</td>\n",
       "      <td id=\"T_4147d_row0_col2\" class=\"data row0 col2\" >0.018860</td>\n",
       "      <td id=\"T_4147d_row0_col3\" class=\"data row0 col3\" >0.027522</td>\n",
       "      <td id=\"T_4147d_row0_col4\" class=\"data row0 col4\" >-0.019547</td>\n",
       "      <td id=\"T_4147d_row0_col5\" class=\"data row0 col5\" >0.027853</td>\n",
       "      <td id=\"T_4147d_row0_col6\" class=\"data row0 col6\" >0.030312</td>\n",
       "      <td id=\"T_4147d_row0_col7\" class=\"data row0 col7\" >-0.000676</td>\n",
       "      <td id=\"T_4147d_row0_col8\" class=\"data row0 col8\" >0.009700</td>\n",
       "      <td id=\"T_4147d_row0_col9\" class=\"data row0 col9\" >0.047705</td>\n",
       "      <td id=\"T_4147d_row0_col10\" class=\"data row0 col10\" >0.011778</td>\n",
       "      <td id=\"T_4147d_row0_col11\" class=\"data row0 col11\" >-0.017787</td>\n",
       "      <td id=\"T_4147d_row0_col12\" class=\"data row0 col12\" >0.084686</td>\n",
       "      <td id=\"T_4147d_row0_col13\" class=\"data row0 col13\" >-0.105190</td>\n",
       "      <td id=\"T_4147d_row0_col14\" class=\"data row0 col14\" >-0.075031</td>\n",
       "      <td id=\"T_4147d_row0_col15\" class=\"data row0 col15\" >-0.123239</td>\n",
       "      <td id=\"T_4147d_row0_col16\" class=\"data row0 col16\" >-0.073983</td>\n",
       "    </tr>\n",
       "    <tr>\n",
       "      <th id=\"T_4147d_level0_row1\" class=\"row_heading level0 row1\" >basis_0_0</th>\n",
       "      <td id=\"T_4147d_row1_col0\" class=\"data row1 col0\" >0.029717</td>\n",
       "      <td id=\"T_4147d_row1_col1\" class=\"data row1 col1\" >1.000000</td>\n",
       "      <td id=\"T_4147d_row1_col2\" class=\"data row1 col2\" >-0.003988</td>\n",
       "      <td id=\"T_4147d_row1_col3\" class=\"data row1 col3\" >0.091318</td>\n",
       "      <td id=\"T_4147d_row1_col4\" class=\"data row1 col4\" >0.004227</td>\n",
       "      <td id=\"T_4147d_row1_col5\" class=\"data row1 col5\" >0.834887</td>\n",
       "      <td id=\"T_4147d_row1_col6\" class=\"data row1 col6\" >0.019395</td>\n",
       "      <td id=\"T_4147d_row1_col7\" class=\"data row1 col7\" >-0.007165</td>\n",
       "      <td id=\"T_4147d_row1_col8\" class=\"data row1 col8\" >0.010733</td>\n",
       "      <td id=\"T_4147d_row1_col9\" class=\"data row1 col9\" >0.098602</td>\n",
       "      <td id=\"T_4147d_row1_col10\" class=\"data row1 col10\" >-0.002742</td>\n",
       "      <td id=\"T_4147d_row1_col11\" class=\"data row1 col11\" >0.078306</td>\n",
       "      <td id=\"T_4147d_row1_col12\" class=\"data row1 col12\" >0.220277</td>\n",
       "      <td id=\"T_4147d_row1_col13\" class=\"data row1 col13\" >-0.143048</td>\n",
       "      <td id=\"T_4147d_row1_col14\" class=\"data row1 col14\" >0.017078</td>\n",
       "      <td id=\"T_4147d_row1_col15\" class=\"data row1 col15\" >-0.194134</td>\n",
       "      <td id=\"T_4147d_row1_col16\" class=\"data row1 col16\" >0.007486</td>\n",
       "    </tr>\n",
       "    <tr>\n",
       "      <th id=\"T_4147d_level0_row2\" class=\"row_heading level0 row2\" >basis_0_1</th>\n",
       "      <td id=\"T_4147d_row2_col0\" class=\"data row2 col0\" >0.018860</td>\n",
       "      <td id=\"T_4147d_row2_col1\" class=\"data row2 col1\" >-0.003988</td>\n",
       "      <td id=\"T_4147d_row2_col2\" class=\"data row2 col2\" >1.000000</td>\n",
       "      <td id=\"T_4147d_row2_col3\" class=\"data row2 col3\" >0.002510</td>\n",
       "      <td id=\"T_4147d_row2_col4\" class=\"data row2 col4\" >-0.803531</td>\n",
       "      <td id=\"T_4147d_row2_col5\" class=\"data row2 col5\" >-0.004009</td>\n",
       "      <td id=\"T_4147d_row2_col6\" class=\"data row2 col6\" >0.012241</td>\n",
       "      <td id=\"T_4147d_row2_col7\" class=\"data row2 col7\" >-0.014299</td>\n",
       "      <td id=\"T_4147d_row2_col8\" class=\"data row2 col8\" >-0.000028</td>\n",
       "      <td id=\"T_4147d_row2_col9\" class=\"data row2 col9\" >0.008999</td>\n",
       "      <td id=\"T_4147d_row2_col10\" class=\"data row2 col10\" >-0.081751</td>\n",
       "      <td id=\"T_4147d_row2_col11\" class=\"data row2 col11\" >-0.000675</td>\n",
       "      <td id=\"T_4147d_row2_col12\" class=\"data row2 col12\" >0.004608</td>\n",
       "      <td id=\"T_4147d_row2_col13\" class=\"data row2 col13\" >-0.006803</td>\n",
       "      <td id=\"T_4147d_row2_col14\" class=\"data row2 col14\" >0.000272</td>\n",
       "      <td id=\"T_4147d_row2_col15\" class=\"data row2 col15\" >-0.010973</td>\n",
       "      <td id=\"T_4147d_row2_col16\" class=\"data row2 col16\" >0.001297</td>\n",
       "    </tr>\n",
       "    <tr>\n",
       "      <th id=\"T_4147d_level0_row3\" class=\"row_heading level0 row3\" >basis_0_2</th>\n",
       "      <td id=\"T_4147d_row3_col0\" class=\"data row3 col0\" >0.027522</td>\n",
       "      <td id=\"T_4147d_row3_col1\" class=\"data row3 col1\" >0.091318</td>\n",
       "      <td id=\"T_4147d_row3_col2\" class=\"data row3 col2\" >0.002510</td>\n",
       "      <td id=\"T_4147d_row3_col3\" class=\"data row3 col3\" >1.000000</td>\n",
       "      <td id=\"T_4147d_row3_col4\" class=\"data row3 col4\" >0.001296</td>\n",
       "      <td id=\"T_4147d_row3_col5\" class=\"data row3 col5\" >0.073476</td>\n",
       "      <td id=\"T_4147d_row3_col6\" class=\"data row3 col6\" >-0.012298</td>\n",
       "      <td id=\"T_4147d_row3_col7\" class=\"data row3 col7\" >-0.067762</td>\n",
       "      <td id=\"T_4147d_row3_col8\" class=\"data row3 col8\" >-0.013254</td>\n",
       "      <td id=\"T_4147d_row3_col9\" class=\"data row3 col9\" >0.806898</td>\n",
       "      <td id=\"T_4147d_row3_col10\" class=\"data row3 col10\" >0.002470</td>\n",
       "      <td id=\"T_4147d_row3_col11\" class=\"data row3 col11\" >-0.008573</td>\n",
       "      <td id=\"T_4147d_row3_col12\" class=\"data row3 col12\" >0.019450</td>\n",
       "      <td id=\"T_4147d_row3_col13\" class=\"data row3 col13\" >0.195050</td>\n",
       "      <td id=\"T_4147d_row3_col14\" class=\"data row3 col14\" >0.142421</td>\n",
       "      <td id=\"T_4147d_row3_col15\" class=\"data row3 col15\" >0.222433</td>\n",
       "      <td id=\"T_4147d_row3_col16\" class=\"data row3 col16\" >0.003222</td>\n",
       "    </tr>\n",
       "    <tr>\n",
       "      <th id=\"T_4147d_level0_row4\" class=\"row_heading level0 row4\" >basis_1_0</th>\n",
       "      <td id=\"T_4147d_row4_col0\" class=\"data row4 col0\" >-0.019547</td>\n",
       "      <td id=\"T_4147d_row4_col1\" class=\"data row4 col1\" >0.004227</td>\n",
       "      <td id=\"T_4147d_row4_col2\" class=\"data row4 col2\" >-0.803531</td>\n",
       "      <td id=\"T_4147d_row4_col3\" class=\"data row4 col3\" >0.001296</td>\n",
       "      <td id=\"T_4147d_row4_col4\" class=\"data row4 col4\" >1.000000</td>\n",
       "      <td id=\"T_4147d_row4_col5\" class=\"data row4 col5\" >0.004213</td>\n",
       "      <td id=\"T_4147d_row4_col6\" class=\"data row4 col6\" >-0.000505</td>\n",
       "      <td id=\"T_4147d_row4_col7\" class=\"data row4 col7\" >0.000174</td>\n",
       "      <td id=\"T_4147d_row4_col8\" class=\"data row4 col8\" >-0.265166</td>\n",
       "      <td id=\"T_4147d_row4_col9\" class=\"data row4 col9\" >0.006946</td>\n",
       "      <td id=\"T_4147d_row4_col10\" class=\"data row4 col10\" >0.105456</td>\n",
       "      <td id=\"T_4147d_row4_col11\" class=\"data row4 col11\" >0.000660</td>\n",
       "      <td id=\"T_4147d_row4_col12\" class=\"data row4 col12\" >-0.003922</td>\n",
       "      <td id=\"T_4147d_row4_col13\" class=\"data row4 col13\" >0.010453</td>\n",
       "      <td id=\"T_4147d_row4_col14\" class=\"data row4 col14\" >0.002355</td>\n",
       "      <td id=\"T_4147d_row4_col15\" class=\"data row4 col15\" >0.014977</td>\n",
       "      <td id=\"T_4147d_row4_col16\" class=\"data row4 col16\" >-0.002627</td>\n",
       "    </tr>\n",
       "    <tr>\n",
       "      <th id=\"T_4147d_level0_row5\" class=\"row_heading level0 row5\" >basis_1_1</th>\n",
       "      <td id=\"T_4147d_row5_col0\" class=\"data row5 col0\" >0.027853</td>\n",
       "      <td id=\"T_4147d_row5_col1\" class=\"data row5 col1\" >0.834887</td>\n",
       "      <td id=\"T_4147d_row5_col2\" class=\"data row5 col2\" >-0.004009</td>\n",
       "      <td id=\"T_4147d_row5_col3\" class=\"data row5 col3\" >0.073476</td>\n",
       "      <td id=\"T_4147d_row5_col4\" class=\"data row5 col4\" >0.004213</td>\n",
       "      <td id=\"T_4147d_row5_col5\" class=\"data row5 col5\" >1.000000</td>\n",
       "      <td id=\"T_4147d_row5_col6\" class=\"data row5 col6\" >0.017287</td>\n",
       "      <td id=\"T_4147d_row5_col7\" class=\"data row5 col7\" >0.227906</td>\n",
       "      <td id=\"T_4147d_row5_col8\" class=\"data row5 col8\" >-0.000980</td>\n",
       "      <td id=\"T_4147d_row5_col9\" class=\"data row5 col9\" >0.077913</td>\n",
       "      <td id=\"T_4147d_row5_col10\" class=\"data row5 col10\" >-0.002195</td>\n",
       "      <td id=\"T_4147d_row5_col11\" class=\"data row5 col11\" >0.112277</td>\n",
       "      <td id=\"T_4147d_row5_col12\" class=\"data row5 col12\" >0.214650</td>\n",
       "      <td id=\"T_4147d_row5_col13\" class=\"data row5 col13\" >-0.144834</td>\n",
       "      <td id=\"T_4147d_row5_col14\" class=\"data row5 col14\" >0.013070</td>\n",
       "      <td id=\"T_4147d_row5_col15\" class=\"data row5 col15\" >-0.194980</td>\n",
       "      <td id=\"T_4147d_row5_col16\" class=\"data row5 col16\" >0.011371</td>\n",
       "    </tr>\n",
       "    <tr>\n",
       "      <th id=\"T_4147d_level0_row6\" class=\"row_heading level0 row6\" >basis_1_2</th>\n",
       "      <td id=\"T_4147d_row6_col0\" class=\"data row6 col0\" >0.030312</td>\n",
       "      <td id=\"T_4147d_row6_col1\" class=\"data row6 col1\" >0.019395</td>\n",
       "      <td id=\"T_4147d_row6_col2\" class=\"data row6 col2\" >0.012241</td>\n",
       "      <td id=\"T_4147d_row6_col3\" class=\"data row6 col3\" >-0.012298</td>\n",
       "      <td id=\"T_4147d_row6_col4\" class=\"data row6 col4\" >-0.000505</td>\n",
       "      <td id=\"T_4147d_row6_col5\" class=\"data row6 col5\" >0.017287</td>\n",
       "      <td id=\"T_4147d_row6_col6\" class=\"data row6 col6\" >1.000000</td>\n",
       "      <td id=\"T_4147d_row6_col7\" class=\"data row6 col7\" >-0.021666</td>\n",
       "      <td id=\"T_4147d_row6_col8\" class=\"data row6 col8\" >0.017675</td>\n",
       "      <td id=\"T_4147d_row6_col9\" class=\"data row6 col9\" >0.151858</td>\n",
       "      <td id=\"T_4147d_row6_col10\" class=\"data row6 col10\" >0.004685</td>\n",
       "      <td id=\"T_4147d_row6_col11\" class=\"data row6 col11\" >-0.003760</td>\n",
       "      <td id=\"T_4147d_row6_col12\" class=\"data row6 col12\" >0.046509</td>\n",
       "      <td id=\"T_4147d_row6_col13\" class=\"data row6 col13\" >0.036713</td>\n",
       "      <td id=\"T_4147d_row6_col14\" class=\"data row6 col14\" >0.029206</td>\n",
       "      <td id=\"T_4147d_row6_col15\" class=\"data row6 col15\" >0.041711</td>\n",
       "      <td id=\"T_4147d_row6_col16\" class=\"data row6 col16\" >0.003451</td>\n",
       "    </tr>\n",
       "    <tr>\n",
       "      <th id=\"T_4147d_level0_row7\" class=\"row_heading level0 row7\" >basis_2_0</th>\n",
       "      <td id=\"T_4147d_row7_col0\" class=\"data row7 col0\" >-0.000676</td>\n",
       "      <td id=\"T_4147d_row7_col1\" class=\"data row7 col1\" >-0.007165</td>\n",
       "      <td id=\"T_4147d_row7_col2\" class=\"data row7 col2\" >-0.014299</td>\n",
       "      <td id=\"T_4147d_row7_col3\" class=\"data row7 col3\" >-0.067762</td>\n",
       "      <td id=\"T_4147d_row7_col4\" class=\"data row7 col4\" >0.000174</td>\n",
       "      <td id=\"T_4147d_row7_col5\" class=\"data row7 col5\" >0.227906</td>\n",
       "      <td id=\"T_4147d_row7_col6\" class=\"data row7 col6\" >-0.021666</td>\n",
       "      <td id=\"T_4147d_row7_col7\" class=\"data row7 col7\" >1.000000</td>\n",
       "      <td id=\"T_4147d_row7_col8\" class=\"data row7 col8\" >0.000071</td>\n",
       "      <td id=\"T_4147d_row7_col9\" class=\"data row7 col9\" >-0.063309</td>\n",
       "      <td id=\"T_4147d_row7_col10\" class=\"data row7 col10\" >-0.001125</td>\n",
       "      <td id=\"T_4147d_row7_col11\" class=\"data row7 col11\" >0.046711</td>\n",
       "      <td id=\"T_4147d_row7_col12\" class=\"data row7 col12\" >-0.005858</td>\n",
       "      <td id=\"T_4147d_row7_col13\" class=\"data row7 col13\" >-0.014786</td>\n",
       "      <td id=\"T_4147d_row7_col14\" class=\"data row7 col14\" >-0.011346</td>\n",
       "      <td id=\"T_4147d_row7_col15\" class=\"data row7 col15\" >-0.017292</td>\n",
       "      <td id=\"T_4147d_row7_col16\" class=\"data row7 col16\" >0.004460</td>\n",
       "    </tr>\n",
       "    <tr>\n",
       "      <th id=\"T_4147d_level0_row8\" class=\"row_heading level0 row8\" >basis_2_1</th>\n",
       "      <td id=\"T_4147d_row8_col0\" class=\"data row8 col0\" >0.009700</td>\n",
       "      <td id=\"T_4147d_row8_col1\" class=\"data row8 col1\" >0.010733</td>\n",
       "      <td id=\"T_4147d_row8_col2\" class=\"data row8 col2\" >-0.000028</td>\n",
       "      <td id=\"T_4147d_row8_col3\" class=\"data row8 col3\" >-0.013254</td>\n",
       "      <td id=\"T_4147d_row8_col4\" class=\"data row8 col4\" >-0.265166</td>\n",
       "      <td id=\"T_4147d_row8_col5\" class=\"data row8 col5\" >-0.000980</td>\n",
       "      <td id=\"T_4147d_row8_col6\" class=\"data row8 col6\" >0.017675</td>\n",
       "      <td id=\"T_4147d_row8_col7\" class=\"data row8 col7\" >0.000071</td>\n",
       "      <td id=\"T_4147d_row8_col8\" class=\"data row8 col8\" >1.000000</td>\n",
       "      <td id=\"T_4147d_row8_col9\" class=\"data row8 col9\" >-0.008953</td>\n",
       "      <td id=\"T_4147d_row8_col10\" class=\"data row8 col10\" >-0.033515</td>\n",
       "      <td id=\"T_4147d_row8_col11\" class=\"data row8 col11\" >-0.005217</td>\n",
       "      <td id=\"T_4147d_row8_col12\" class=\"data row8 col12\" >0.003102</td>\n",
       "      <td id=\"T_4147d_row8_col13\" class=\"data row8 col13\" >-0.001768</td>\n",
       "      <td id=\"T_4147d_row8_col14\" class=\"data row8 col14\" >-0.001498</td>\n",
       "      <td id=\"T_4147d_row8_col15\" class=\"data row8 col15\" >-0.002454</td>\n",
       "      <td id=\"T_4147d_row8_col16\" class=\"data row8 col16\" >0.001996</td>\n",
       "    </tr>\n",
       "    <tr>\n",
       "      <th id=\"T_4147d_level0_row9\" class=\"row_heading level0 row9\" >basis_2_2</th>\n",
       "      <td id=\"T_4147d_row9_col0\" class=\"data row9 col0\" >0.047705</td>\n",
       "      <td id=\"T_4147d_row9_col1\" class=\"data row9 col1\" >0.098602</td>\n",
       "      <td id=\"T_4147d_row9_col2\" class=\"data row9 col2\" >0.008999</td>\n",
       "      <td id=\"T_4147d_row9_col3\" class=\"data row9 col3\" >0.806898</td>\n",
       "      <td id=\"T_4147d_row9_col4\" class=\"data row9 col4\" >0.006946</td>\n",
       "      <td id=\"T_4147d_row9_col5\" class=\"data row9 col5\" >0.077913</td>\n",
       "      <td id=\"T_4147d_row9_col6\" class=\"data row9 col6\" >0.151858</td>\n",
       "      <td id=\"T_4147d_row9_col7\" class=\"data row9 col7\" >-0.063309</td>\n",
       "      <td id=\"T_4147d_row9_col8\" class=\"data row9 col8\" >-0.008953</td>\n",
       "      <td id=\"T_4147d_row9_col9\" class=\"data row9 col9\" >1.000000</td>\n",
       "      <td id=\"T_4147d_row9_col10\" class=\"data row9 col10\" >0.006372</td>\n",
       "      <td id=\"T_4147d_row9_col11\" class=\"data row9 col11\" >-0.009532</td>\n",
       "      <td id=\"T_4147d_row9_col12\" class=\"data row9 col12\" >0.049251</td>\n",
       "      <td id=\"T_4147d_row9_col13\" class=\"data row9 col13\" >0.188070</td>\n",
       "      <td id=\"T_4147d_row9_col14\" class=\"data row9 col14\" >0.151144</td>\n",
       "      <td id=\"T_4147d_row9_col15\" class=\"data row9 col15\" >0.232696</td>\n",
       "      <td id=\"T_4147d_row9_col16\" class=\"data row9 col16\" >0.000829</td>\n",
       "    </tr>\n",
       "    <tr>\n",
       "      <th id=\"T_4147d_level0_row10\" class=\"row_heading level0 row10\" >centroid_x</th>\n",
       "      <td id=\"T_4147d_row10_col0\" class=\"data row10 col0\" >0.011778</td>\n",
       "      <td id=\"T_4147d_row10_col1\" class=\"data row10 col1\" >-0.002742</td>\n",
       "      <td id=\"T_4147d_row10_col2\" class=\"data row10 col2\" >-0.081751</td>\n",
       "      <td id=\"T_4147d_row10_col3\" class=\"data row10 col3\" >0.002470</td>\n",
       "      <td id=\"T_4147d_row10_col4\" class=\"data row10 col4\" >0.105456</td>\n",
       "      <td id=\"T_4147d_row10_col5\" class=\"data row10 col5\" >-0.002195</td>\n",
       "      <td id=\"T_4147d_row10_col6\" class=\"data row10 col6\" >0.004685</td>\n",
       "      <td id=\"T_4147d_row10_col7\" class=\"data row10 col7\" >-0.001125</td>\n",
       "      <td id=\"T_4147d_row10_col8\" class=\"data row10 col8\" >-0.033515</td>\n",
       "      <td id=\"T_4147d_row10_col9\" class=\"data row10 col9\" >0.006372</td>\n",
       "      <td id=\"T_4147d_row10_col10\" class=\"data row10 col10\" >1.000000</td>\n",
       "      <td id=\"T_4147d_row10_col11\" class=\"data row10 col11\" >-0.121047</td>\n",
       "      <td id=\"T_4147d_row10_col12\" class=\"data row10 col12\" >0.001638</td>\n",
       "      <td id=\"T_4147d_row10_col13\" class=\"data row10 col13\" >0.000464</td>\n",
       "      <td id=\"T_4147d_row10_col14\" class=\"data row10 col14\" >0.005142</td>\n",
       "      <td id=\"T_4147d_row10_col15\" class=\"data row10 col15\" >0.000013</td>\n",
       "      <td id=\"T_4147d_row10_col16\" class=\"data row10 col16\" >-0.000245</td>\n",
       "    </tr>\n",
       "    <tr>\n",
       "      <th id=\"T_4147d_level0_row11\" class=\"row_heading level0 row11\" >centroid_y</th>\n",
       "      <td id=\"T_4147d_row11_col0\" class=\"data row11 col0\" >-0.017787</td>\n",
       "      <td id=\"T_4147d_row11_col1\" class=\"data row11 col1\" >0.078306</td>\n",
       "      <td id=\"T_4147d_row11_col2\" class=\"data row11 col2\" >-0.000675</td>\n",
       "      <td id=\"T_4147d_row11_col3\" class=\"data row11 col3\" >-0.008573</td>\n",
       "      <td id=\"T_4147d_row11_col4\" class=\"data row11 col4\" >0.000660</td>\n",
       "      <td id=\"T_4147d_row11_col5\" class=\"data row11 col5\" >0.112277</td>\n",
       "      <td id=\"T_4147d_row11_col6\" class=\"data row11 col6\" >-0.003760</td>\n",
       "      <td id=\"T_4147d_row11_col7\" class=\"data row11 col7\" >0.046711</td>\n",
       "      <td id=\"T_4147d_row11_col8\" class=\"data row11 col8\" >-0.005217</td>\n",
       "      <td id=\"T_4147d_row11_col9\" class=\"data row11 col9\" >-0.009532</td>\n",
       "      <td id=\"T_4147d_row11_col10\" class=\"data row11 col10\" >-0.121047</td>\n",
       "      <td id=\"T_4147d_row11_col11\" class=\"data row11 col11\" >1.000000</td>\n",
       "      <td id=\"T_4147d_row11_col12\" class=\"data row11 col12\" >-0.011612</td>\n",
       "      <td id=\"T_4147d_row11_col13\" class=\"data row11 col13\" >-0.031719</td>\n",
       "      <td id=\"T_4147d_row11_col14\" class=\"data row11 col14\" >-0.019115</td>\n",
       "      <td id=\"T_4147d_row11_col15\" class=\"data row11 col15\" >-0.017507</td>\n",
       "      <td id=\"T_4147d_row11_col16\" class=\"data row11 col16\" >-0.001671</td>\n",
       "    </tr>\n",
       "    <tr>\n",
       "      <th id=\"T_4147d_level0_row12\" class=\"row_heading level0 row12\" >centroid_z</th>\n",
       "      <td id=\"T_4147d_row12_col0\" class=\"data row12 col0\" >0.084686</td>\n",
       "      <td id=\"T_4147d_row12_col1\" class=\"data row12 col1\" >0.220277</td>\n",
       "      <td id=\"T_4147d_row12_col2\" class=\"data row12 col2\" >0.004608</td>\n",
       "      <td id=\"T_4147d_row12_col3\" class=\"data row12 col3\" >0.019450</td>\n",
       "      <td id=\"T_4147d_row12_col4\" class=\"data row12 col4\" >-0.003922</td>\n",
       "      <td id=\"T_4147d_row12_col5\" class=\"data row12 col5\" >0.214650</td>\n",
       "      <td id=\"T_4147d_row12_col6\" class=\"data row12 col6\" >0.046509</td>\n",
       "      <td id=\"T_4147d_row12_col7\" class=\"data row12 col7\" >-0.005858</td>\n",
       "      <td id=\"T_4147d_row12_col8\" class=\"data row12 col8\" >0.003102</td>\n",
       "      <td id=\"T_4147d_row12_col9\" class=\"data row12 col9\" >0.049251</td>\n",
       "      <td id=\"T_4147d_row12_col10\" class=\"data row12 col10\" >0.001638</td>\n",
       "      <td id=\"T_4147d_row12_col11\" class=\"data row12 col11\" >-0.011612</td>\n",
       "      <td id=\"T_4147d_row12_col12\" class=\"data row12 col12\" >1.000000</td>\n",
       "      <td id=\"T_4147d_row12_col13\" class=\"data row12 col13\" >-0.093973</td>\n",
       "      <td id=\"T_4147d_row12_col14\" class=\"data row12 col14\" >-0.157244</td>\n",
       "      <td id=\"T_4147d_row12_col15\" class=\"data row12 col15\" >-0.124009</td>\n",
       "      <td id=\"T_4147d_row12_col16\" class=\"data row12 col16\" >-0.010901</td>\n",
       "    </tr>\n",
       "    <tr>\n",
       "      <th id=\"T_4147d_level0_row13\" class=\"row_heading level0 row13\" >coeffs_x</th>\n",
       "      <td id=\"T_4147d_row13_col0\" class=\"data row13 col0\" >-0.105190</td>\n",
       "      <td id=\"T_4147d_row13_col1\" class=\"data row13 col1\" >-0.143048</td>\n",
       "      <td id=\"T_4147d_row13_col2\" class=\"data row13 col2\" >-0.006803</td>\n",
       "      <td id=\"T_4147d_row13_col3\" class=\"data row13 col3\" >0.195050</td>\n",
       "      <td id=\"T_4147d_row13_col4\" class=\"data row13 col4\" >0.010453</td>\n",
       "      <td id=\"T_4147d_row13_col5\" class=\"data row13 col5\" >-0.144834</td>\n",
       "      <td id=\"T_4147d_row13_col6\" class=\"data row13 col6\" >0.036713</td>\n",
       "      <td id=\"T_4147d_row13_col7\" class=\"data row13 col7\" >-0.014786</td>\n",
       "      <td id=\"T_4147d_row13_col8\" class=\"data row13 col8\" >-0.001768</td>\n",
       "      <td id=\"T_4147d_row13_col9\" class=\"data row13 col9\" >0.188070</td>\n",
       "      <td id=\"T_4147d_row13_col10\" class=\"data row13 col10\" >0.000464</td>\n",
       "      <td id=\"T_4147d_row13_col11\" class=\"data row13 col11\" >-0.031719</td>\n",
       "      <td id=\"T_4147d_row13_col12\" class=\"data row13 col12\" >-0.093973</td>\n",
       "      <td id=\"T_4147d_row13_col13\" class=\"data row13 col13\" >1.000000</td>\n",
       "      <td id=\"T_4147d_row13_col14\" class=\"data row13 col14\" >0.449183</td>\n",
       "      <td id=\"T_4147d_row13_col15\" class=\"data row13 col15\" >0.599631</td>\n",
       "      <td id=\"T_4147d_row13_col16\" class=\"data row13 col16\" >0.014578</td>\n",
       "    </tr>\n",
       "    <tr>\n",
       "      <th id=\"T_4147d_level0_row14\" class=\"row_heading level0 row14\" >coeffs_y</th>\n",
       "      <td id=\"T_4147d_row14_col0\" class=\"data row14 col0\" >-0.075031</td>\n",
       "      <td id=\"T_4147d_row14_col1\" class=\"data row14 col1\" >0.017078</td>\n",
       "      <td id=\"T_4147d_row14_col2\" class=\"data row14 col2\" >0.000272</td>\n",
       "      <td id=\"T_4147d_row14_col3\" class=\"data row14 col3\" >0.142421</td>\n",
       "      <td id=\"T_4147d_row14_col4\" class=\"data row14 col4\" >0.002355</td>\n",
       "      <td id=\"T_4147d_row14_col5\" class=\"data row14 col5\" >0.013070</td>\n",
       "      <td id=\"T_4147d_row14_col6\" class=\"data row14 col6\" >0.029206</td>\n",
       "      <td id=\"T_4147d_row14_col7\" class=\"data row14 col7\" >-0.011346</td>\n",
       "      <td id=\"T_4147d_row14_col8\" class=\"data row14 col8\" >-0.001498</td>\n",
       "      <td id=\"T_4147d_row14_col9\" class=\"data row14 col9\" >0.151144</td>\n",
       "      <td id=\"T_4147d_row14_col10\" class=\"data row14 col10\" >0.005142</td>\n",
       "      <td id=\"T_4147d_row14_col11\" class=\"data row14 col11\" >-0.019115</td>\n",
       "      <td id=\"T_4147d_row14_col12\" class=\"data row14 col12\" >-0.157244</td>\n",
       "      <td id=\"T_4147d_row14_col13\" class=\"data row14 col13\" >0.449183</td>\n",
       "      <td id=\"T_4147d_row14_col14\" class=\"data row14 col14\" >1.000000</td>\n",
       "      <td id=\"T_4147d_row14_col15\" class=\"data row14 col15\" >0.173371</td>\n",
       "      <td id=\"T_4147d_row14_col16\" class=\"data row14 col16\" >0.005234</td>\n",
       "    </tr>\n",
       "    <tr>\n",
       "      <th id=\"T_4147d_level0_row15\" class=\"row_heading level0 row15\" >coeffs_z</th>\n",
       "      <td id=\"T_4147d_row15_col0\" class=\"data row15 col0\" >-0.123239</td>\n",
       "      <td id=\"T_4147d_row15_col1\" class=\"data row15 col1\" >-0.194134</td>\n",
       "      <td id=\"T_4147d_row15_col2\" class=\"data row15 col2\" >-0.010973</td>\n",
       "      <td id=\"T_4147d_row15_col3\" class=\"data row15 col3\" >0.222433</td>\n",
       "      <td id=\"T_4147d_row15_col4\" class=\"data row15 col4\" >0.014977</td>\n",
       "      <td id=\"T_4147d_row15_col5\" class=\"data row15 col5\" >-0.194980</td>\n",
       "      <td id=\"T_4147d_row15_col6\" class=\"data row15 col6\" >0.041711</td>\n",
       "      <td id=\"T_4147d_row15_col7\" class=\"data row15 col7\" >-0.017292</td>\n",
       "      <td id=\"T_4147d_row15_col8\" class=\"data row15 col8\" >-0.002454</td>\n",
       "      <td id=\"T_4147d_row15_col9\" class=\"data row15 col9\" >0.232696</td>\n",
       "      <td id=\"T_4147d_row15_col10\" class=\"data row15 col10\" >0.000013</td>\n",
       "      <td id=\"T_4147d_row15_col11\" class=\"data row15 col11\" >-0.017507</td>\n",
       "      <td id=\"T_4147d_row15_col12\" class=\"data row15 col12\" >-0.124009</td>\n",
       "      <td id=\"T_4147d_row15_col13\" class=\"data row15 col13\" >0.599631</td>\n",
       "      <td id=\"T_4147d_row15_col14\" class=\"data row15 col14\" >0.173371</td>\n",
       "      <td id=\"T_4147d_row15_col15\" class=\"data row15 col15\" >1.000000</td>\n",
       "      <td id=\"T_4147d_row15_col16\" class=\"data row15 col16\" >0.019065</td>\n",
       "    </tr>\n",
       "    <tr>\n",
       "      <th id=\"T_4147d_level0_row16\" class=\"row_heading level0 row16\" >room_ID</th>\n",
       "      <td id=\"T_4147d_row16_col0\" class=\"data row16 col0\" >-0.073983</td>\n",
       "      <td id=\"T_4147d_row16_col1\" class=\"data row16 col1\" >0.007486</td>\n",
       "      <td id=\"T_4147d_row16_col2\" class=\"data row16 col2\" >0.001297</td>\n",
       "      <td id=\"T_4147d_row16_col3\" class=\"data row16 col3\" >0.003222</td>\n",
       "      <td id=\"T_4147d_row16_col4\" class=\"data row16 col4\" >-0.002627</td>\n",
       "      <td id=\"T_4147d_row16_col5\" class=\"data row16 col5\" >0.011371</td>\n",
       "      <td id=\"T_4147d_row16_col6\" class=\"data row16 col6\" >0.003451</td>\n",
       "      <td id=\"T_4147d_row16_col7\" class=\"data row16 col7\" >0.004460</td>\n",
       "      <td id=\"T_4147d_row16_col8\" class=\"data row16 col8\" >0.001996</td>\n",
       "      <td id=\"T_4147d_row16_col9\" class=\"data row16 col9\" >0.000829</td>\n",
       "      <td id=\"T_4147d_row16_col10\" class=\"data row16 col10\" >-0.000245</td>\n",
       "      <td id=\"T_4147d_row16_col11\" class=\"data row16 col11\" >-0.001671</td>\n",
       "      <td id=\"T_4147d_row16_col12\" class=\"data row16 col12\" >-0.010901</td>\n",
       "      <td id=\"T_4147d_row16_col13\" class=\"data row16 col13\" >0.014578</td>\n",
       "      <td id=\"T_4147d_row16_col14\" class=\"data row16 col14\" >0.005234</td>\n",
       "      <td id=\"T_4147d_row16_col15\" class=\"data row16 col15\" >0.019065</td>\n",
       "      <td id=\"T_4147d_row16_col16\" class=\"data row16 col16\" >1.000000</td>\n",
       "    </tr>\n",
       "  </tbody>\n",
       "</table>\n"
      ],
      "text/plain": [
       "<pandas.io.formats.style.Styler at 0x27a9f7d3c80>"
      ]
     },
     "execution_count": 9,
     "metadata": {},
     "output_type": "execute_result"
    }
   ],
   "source": [
    "corr = numeric_data.corr()\n",
    "corr.style.background_gradient(cmap='coolwarm')"
   ]
  },
  {
   "cell_type": "markdown",
   "metadata": {
    "id": "d3ZFnLczJSvJ"
   },
   "source": [
    "## Modelling Time.\n",
    "Let's make some models to train on our cleaned and processed data."
   ]
  },
  {
   "cell_type": "markdown",
   "metadata": {
    "id": "LlO4WB3IJocQ"
   },
   "source": [
    "### splitting data\n",
    "We split the data into train and test sets."
   ]
  },
  {
   "cell_type": "code",
   "execution_count": null,
   "metadata": {
    "colab": {
     "base_uri": "https://localhost:8080/"
    },
    "id": "8u0EtYMsJseZ",
    "outputId": "d4134be2-3456-4fbb-8ee5-73e0e939a9a9"
   },
   "outputs": [
    {
     "name": "stdout",
     "output_type": "stream",
     "text": [
      "Shape of X_train: (7996, 12)\n",
      "Shape of X_test: (2000, 12)\n",
      "Shape of y_train: (7996,)\n",
      "Shape of y_test: (2000,)\n"
     ]
    }
   ],
   "source": [
    "X = data.drop(columns=['Exited'])\n",
    "y = data['Exited']\n",
    "\n",
    "X_train, X_test, y_train, y_test = train_test_split(X, y, test_size=0.2, random_state=42)\n",
    "\n",
    "# checking to see if it was split correctly\n",
    "print(\"Shape of X_train:\", X_train.shape)\n",
    "print(\"Shape of X_test:\", X_test.shape)\n",
    "print(\"Shape of y_train:\", y_train.shape)\n",
    "print(\"Shape of y_test:\", y_test.shape)\n"
   ]
  },
  {
   "cell_type": "markdown",
   "metadata": {
    "id": "Pdbx1EDNQhnR"
   },
   "source": [
    "### Decision Tree"
   ]
  },
  {
   "cell_type": "markdown",
   "metadata": {
    "id": "kRVeiQHYkAte"
   },
   "source": [
    "making tree classifier and using cross validation"
   ]
  },
  {
   "cell_type": "code",
   "execution_count": null,
   "metadata": {
    "colab": {
     "base_uri": "https://localhost:8080/"
    },
    "id": "d_7JPUUCQkg3",
    "outputId": "1cf96c33-db54-43d0-afc9-5922d4856cc0"
   },
   "outputs": [
    {
     "name": "stdout",
     "output_type": "stream",
     "text": [
      "Mean Accuracy (Decision Tree): 0.7832673545966229\n",
      "standard Deviation Accuracy (Decision Tree): 0.003965753411691217\n"
     ]
    }
   ],
   "source": [
    "from sklearn.tree import DecisionTreeClassifier\n",
    "from sklearn.model_selection import cross_val_score\n",
    "\n",
    "# Create Decision Tree classifier\n",
    "dt_classifier = DecisionTreeClassifier()\n",
    "\n",
    "# Perform cross-validation to evaluate the model\n",
    "dt_scores = cross_val_score(dt_classifier, X_train, y_train, cv=5)\n",
    "\n",
    "# Mean accuracy across folds\n",
    "print(\"Mean Accuracy (Decision Tree):\", dt_scores.mean())\n",
    "print(\"standard Deviation Accuracy (Decision Tree):\", dt_scores.std())\n",
    "\n"
   ]
  },
  {
   "cell_type": "markdown",
   "metadata": {
    "id": "H6jsIh9ekgyJ"
   },
   "source": [
    "very low standard deviation above is encouraging."
   ]
  },
  {
   "cell_type": "markdown",
   "metadata": {
    "id": "0HwfUIV8lFG-"
   },
   "source": [
    "#### Finding Best Hyperparameters for DT"
   ]
  },
  {
   "cell_type": "code",
   "execution_count": null,
   "metadata": {
    "colab": {
     "base_uri": "https://localhost:8080/"
    },
    "id": "V9TsPSGbiSbJ",
    "outputId": "524e1b0c-4f0b-4c37-8dae-f8f1c2fe2bd9"
   },
   "outputs": [
    {
     "name": "stdout",
     "output_type": "stream",
     "text": [
      "Best Parameters (Decision Tree): {'max_depth': 10}\n",
      "Best Score (Decision Tree): 0.8350428392745466\n"
     ]
    }
   ],
   "source": [
    "from sklearn.model_selection import GridSearchCV\n",
    "\n",
    "# Define hyperparameters grid for Decision Tree\n",
    "dt_param_grid = {\n",
    "    'max_depth': [None, 10, 20, 30],\n",
    "}\n",
    "\n",
    "# GridSearchCV for Decision Tree\n",
    "dt_grid_search = GridSearchCV(DecisionTreeClassifier(), dt_param_grid, cv=5)\n",
    "dt_grid_search.fit(X_train, y_train)\n",
    "\n",
    "# Best parameters for Decision Tree\n",
    "print(\"Best Parameters (Decision Tree):\", dt_grid_search.best_params_)\n",
    "print(\"Best Score (Decision Tree):\", dt_grid_search.best_score_)"
   ]
  },
  {
   "cell_type": "markdown",
   "metadata": {
    "id": "l2TPn7hhibJo"
   },
   "source": [
    "we see that the best max_depth is 10. We will use that below."
   ]
  },
  {
   "cell_type": "markdown",
   "metadata": {
    "id": "5rLMDLJ_lPTY"
   },
   "source": [
    "#### making final (best) decision tree"
   ]
  },
  {
   "cell_type": "code",
   "execution_count": null,
   "metadata": {
    "colab": {
     "base_uri": "https://localhost:8080/"
    },
    "id": "zURlzBFajaK4",
    "outputId": "ecfbd135-46fc-4be1-8a1d-e05570ce95df"
   },
   "outputs": [
    {
     "name": "stdout",
     "output_type": "stream",
     "text": [
      "Test Accuracy (Decision Tree): 0.834\n"
     ]
    }
   ],
   "source": [
    "from sklearn.tree import DecisionTreeClassifier\n",
    "\n",
    "# Define the Decision Tree classifier with the best parameters\n",
    "best_dt_classifier = DecisionTreeClassifier(max_depth=10)\n",
    "\n",
    "# Train the model on the full training set\n",
    "best_dt_classifier.fit(X_train, y_train)\n",
    "\n",
    "# Evaluate the model on the testing set\n",
    "dt_test_accuracy = best_dt_classifier.score(X_test, y_test)\n",
    "print(\"Test Accuracy (Decision Tree):\", dt_test_accuracy)"
   ]
  },
  {
   "cell_type": "markdown",
   "metadata": {
    "id": "hyBWLKuRQpiS"
   },
   "source": [
    "### Logistic Regression"
   ]
  },
  {
   "cell_type": "markdown",
   "metadata": {
    "id": "TFCuSrRPnC4f"
   },
   "source": [
    "#### making the model and using cross validation"
   ]
  },
  {
   "cell_type": "code",
   "execution_count": null,
   "metadata": {
    "colab": {
     "base_uri": "https://localhost:8080/"
    },
    "id": "MqWmLszqmUnL",
    "outputId": "3314f6c7-3d72-49df-e782-636737835e96"
   },
   "outputs": [
    {
     "name": "stdout",
     "output_type": "stream",
     "text": [
      "Cross-Validation Scores (Logistic Regression): [0.808125   0.80050031 0.81113196 0.80362727 0.80737961]\n",
      "Mean Accuracy (Logistic Regression): 0.8061528298936835\n",
      "Standard Deviation of Accuracy (Logistic Regression): 0.0037017720012696167\n"
     ]
    }
   ],
   "source": [
    "from sklearn.linear_model import LogisticRegression\n",
    "from sklearn.model_selection import cross_val_score\n",
    "\n",
    "# Create Logistic Regression classifier\n",
    "logreg_classifier = LogisticRegression()\n",
    "\n",
    "# Perform cross-validation for Logistic Regression classifier\n",
    "logreg_scores = cross_val_score(logreg_classifier, X_train, y_train, cv=5)  # cv=5 for 5-fold cross-validation\n",
    "\n",
    "# Print the cross-validation scores\n",
    "print(\"Cross-Validation Scores (Logistic Regression):\", logreg_scores)\n",
    "\n",
    "# Print the mean and standard deviation of the cross-validation scores\n",
    "print(\"Mean Accuracy (Logistic Regression):\", logreg_scores.mean())\n",
    "print(\"Standard Deviation of Accuracy (Logistic Regression):\", logreg_scores.std())\n"
   ]
  },
  {
   "cell_type": "code",
   "execution_count": null,
   "metadata": {
    "colab": {
     "base_uri": "https://localhost:8080/"
    },
    "id": "qse2-qWEmsP6",
    "outputId": "304af3f2-82bb-4451-b4e8-fb02232022f5"
   },
   "outputs": [
    {
     "name": "stdout",
     "output_type": "stream",
     "text": [
      "Best Parameters (Logistic Regression): {'C': 0.1, 'penalty': 'l2', 'solver': 'lbfgs'}\n",
      "Best Score (Logistic Regression): 0.8064026735459663\n"
     ]
    }
   ],
   "source": [
    "from sklearn.model_selection import GridSearchCV\n",
    "from sklearn.linear_model import LogisticRegression\n",
    "\n",
    "# Define the hyperparameters grid for Logistic Regression\n",
    "param_grid = {\n",
    "    'C': [0.001, 0.01, 0.1, 1, 10, 100],  # Regularization parameter\n",
    "    'penalty': ['l2'],  # Penalty term ('l2' for L2 regularization)\n",
    "    'solver': ['lbfgs', 'liblinear', 'saga']  # Solver ('lbfgs', 'liblinear', or 'saga')\n",
    "}\n",
    "\n",
    "# GridSearchCV for Logistic Regression\n",
    "grid_search = GridSearchCV(LogisticRegression(), param_grid, cv=5)\n",
    "grid_search.fit(X_train, y_train)\n",
    "\n",
    "# Best parameters for Logistic Regression\n",
    "print(\"Best Parameters (Logistic Regression):\", grid_search.best_params_)\n",
    "print(\"Best Score (Logistic Regression):\", grid_search.best_score_)\n"
   ]
  },
  {
   "cell_type": "markdown",
   "metadata": {
    "id": "vlEfXamWqSnL"
   },
   "source": [
    "#### making final (best) Logistic Regression Model"
   ]
  },
  {
   "cell_type": "code",
   "execution_count": null,
   "metadata": {
    "colab": {
     "base_uri": "https://localhost:8080/"
    },
    "id": "PWlX-6qsqWqq",
    "outputId": "3ec058da-0539-4121-dd75-8fa08bac6f67"
   },
   "outputs": [
    {
     "name": "stdout",
     "output_type": "stream",
     "text": [
      "Accuracy: 0.806\n",
      "F1 Score: 0.2567049808429119\n",
      "Recall: 0.16381418092909536\n"
     ]
    }
   ],
   "source": [
    "best_logreg_classifier = LogisticRegression(C=0.1, penalty='l2', solver='lbfgs')\n",
    "\n",
    "logreg_classifier.fit(X_train, y_train)\n",
    "\n",
    "# Predict labels for the testing set\n",
    "y_pred = logreg_classifier.predict(X_test)\n",
    "\n",
    "# Calculate evaluation metrics\n",
    "accuracy = accuracy_score(y_test, y_pred)\n",
    "f1 = f1_score(y_test, y_pred)\n",
    "recall = recall_score(y_test, y_pred)\n",
    "\n",
    "# Print the evaluation metrics\n",
    "print(\"Accuracy:\", accuracy)\n",
    "print(\"F1 Score:\", f1)\n",
    "print(\"Recall:\", recall)\n"
   ]
  },
  {
   "cell_type": "markdown",
   "metadata": {
    "id": "2rNk6PmHnlDK"
   },
   "source": [
    "## Prediction and Evaluation\n",
    "I'll start by copying the code for the best models, then printing and comparing the evaluation metrics for each model."
   ]
  },
  {
   "cell_type": "code",
   "execution_count": null,
   "metadata": {
    "colab": {
     "base_uri": "https://localhost:8080/"
    },
    "id": "etBmtu_QnkZr",
    "outputId": "85061393-e771-440b-ee69-ba53e0ee23f3"
   },
   "outputs": [
    {
     "name": "stdout",
     "output_type": "stream",
     "text": [
      "Accuracy: 0.8345\n",
      "F1 Score: 0.5153733528550514\n",
      "Recall: 0.43031784841075793\n"
     ]
    }
   ],
   "source": [
    "from sklearn.metrics import accuracy_score, f1_score, recall_score\n",
    "\n",
    "# Train the model on the full training set\n",
    "best_dt_classifier.fit(X_train, y_train)\n",
    "\n",
    "# Predict labels for the testing set\n",
    "y_pred = best_dt_classifier.predict(X_test)\n",
    "\n",
    "# Calculate accuracy\n",
    "accuracy = accuracy_score(y_test, y_pred)\n",
    "print(\"Accuracy:\", accuracy)\n",
    "\n",
    "# Calculate F1 score\n",
    "f1 = f1_score(y_test, y_pred)\n",
    "print(\"F1 Score:\", f1)\n",
    "\n",
    "# Calculate recall\n",
    "recall = recall_score(y_test, y_pred)\n",
    "print(\"Recall:\", recall)\n"
   ]
  },
  {
   "cell_type": "markdown",
   "metadata": {
    "id": "2FCzJg-cYWLu"
   },
   "source": [
    "### Comparison of Models\n",
    "\n",
    "\n",
    "#### Logistic Regression:\n",
    "Accuracy: 0.806  \n",
    "F1 Score: 0.2567049808429119  \n",
    "Recall: 0.16381418092909536  \n",
    "\n",
    "\n",
    "#### Decision Tree:\n",
    "Accuracy: 0.8345  \n",
    "F1 Score: 0.5153733528550514  \n",
    "Recall: 0.43031784841075793  \n",
    "\n",
    "\n",
    "We see that both models are fairly good atcrrectly identifying the positives and have corresponding accuracies. Both models however really struggle with high rates of false negatives. That is, both have poor recall scores; the logistic regression model's is dismal.\n",
    "\n",
    "The decision tree model out performs my linear regression model, but is by no means perfect, missing more than half of the positives.\n"
   ]
  },
  {
   "cell_type": "markdown",
   "metadata": {
    "id": "mlucQb0kaTVC"
   },
   "source": [
    "### Finding most important features in the decision tree classifier"
   ]
  },
  {
   "cell_type": "code",
   "execution_count": null,
   "metadata": {
    "colab": {
     "base_uri": "https://localhost:8080/",
     "height": 668
    },
    "id": "a_ok2musaSQn",
    "outputId": "67fec2a6-f6e7-4967-95e5-bb272d5dbc35"
   },
   "outputs": [
    {
     "name": "stdout",
     "output_type": "stream",
     "text": [
      "Top 5 Most Important Features:\n",
      "Age: 0.3169207746731288\n",
      "NumOfProducts: 0.1989665505459935\n",
      "Balance: 0.10014776339137968\n",
      "IsActiveMember: 0.09005510648037601\n",
      "CreditScore: 0.06866440532326218\n"
     ]
    },
    {
     "data": {
      "image/png": "[encoded data removed]",
      "text/plain": [
       "<Figure size 1000x600 with 1 Axes>"
      ]
     },
     "metadata": {},
     "output_type": "display_data"
    }
   ],
   "source": [
    "feature_importances = best_dt_classifier.feature_importances_\n",
    "\n",
    "# Get feature names\n",
    "feature_names = X_train.columns\n",
    "\n",
    "# Create a dictionary mapping feature names to their importances\n",
    "feature_importance_dict = dict(zip(feature_names, feature_importances))\n",
    "\n",
    "# Sort features by their importances\n",
    "sorted_features = sorted(feature_importance_dict.items(), key=lambda x: x[1], reverse=True)\n",
    "\n",
    "# Print the most important features\n",
    "print(\"Top 5 Most Important Features:\")\n",
    "for feature, importance in sorted_features[:5]:\n",
    "    print(f\"{feature}: {importance}\")\n",
    "\n",
    "# Plot feature importances\n",
    "plt.figure(figsize=(10, 6))\n",
    "plt.barh(range(len(sorted_features[:10])), [imp for _, imp in sorted_features[:10]], align='center')\n",
    "plt.yticks(range(len(sorted_features[:10])), [feat for feat, _ in sorted_features[:10]])\n",
    "plt.xlabel('Feature Importance')\n",
    "plt.ylabel('Feature')\n",
    "plt.title('Top 10 Most Important Features')\n",
    "plt.show()"
   ]
  }
 ],
 "metadata": {
  "colab": {
   "provenance": [],
   "toc_visible": true
  },
  "kernelspec": {
   "display_name": "Python 3",
   "name": "python3"
  },
  "language_info": {
   "codemirror_mode": {
    "name": "ipython",
    "version": 3
   },
   "file_extension": ".py",
   "mimetype": "text/x-python",
   "name": "python",
   "nbconvert_exporter": "python",
   "pygments_lexer": "ipython3",
   "version": "3.12.4"
  }
 },
 "nbformat": 4,
 "nbformat_minor": 0
}
