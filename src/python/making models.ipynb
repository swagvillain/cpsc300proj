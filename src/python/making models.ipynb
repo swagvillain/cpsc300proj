{
 "cells": [
  {
   "cell_type": "markdown",
   "metadata": {
    "id": "w1k4NmzAWTKy"
   },
   "source": [
    "# COMFE\n",
    "CPSC 300 Software Engineering\n"
   ]
  },
  {
   "cell_type": "code",
   "execution_count": 47,
   "metadata": {
    "id": "XEYL8MqtVw1y"
   },
   "outputs": [],
   "source": [
    "import io\n",
    "import sklearn\n",
    "import numpy as np\n",
    "import pandas as pd\n",
    "import seaborn as sns\n",
    "import matplotlib.pyplot as plt\n",
    "\n",
    "from sklearn.model_selection import train_test_split\n",
    "from sklearn.metrics import accuracy_score, classification_report, confusion_matrix, f1_score, recall_score"
   ]
  },
  {
   "cell_type": "markdown",
   "metadata": {
    "id": "sRFi6QvybKuJ"
   },
   "source": [
    "## Data Set Exploration"
   ]
  },
  {
   "cell_type": "code",
   "execution_count": 48,
   "metadata": {
    "colab": {
     "base_uri": "https://localhost:8080/"
    },
    "id": "ehy1PX88ZvKT",
    "outputId": "2c23fa67-a037-4ade-f2ec-e2da71c3d507"
   },
   "outputs": [
    {
     "name": "stdout",
     "output_type": "stream",
     "text": [
      "   Unnamed: 0  basis_0_0  basis_0_1  basis_0_2  basis_1_0  basis_1_1  \\\n",
      "0           0        0.0        0.0         -1        1.0        0.0   \n",
      "1           1        0.0        0.0         -1        0.0       -1.0   \n",
      "2           2        0.0        0.0         -1        0.0       -1.0   \n",
      "3           3        0.0        0.0         -1        1.0        0.0   \n",
      "4           4        0.0        0.0         -1        0.0       -1.0   \n",
      "\n",
      "   basis_1_2  basis_2_0  basis_2_1  basis_2_2  centroid_x  centroid_y  \\\n",
      "0          0        0.0       -1.0        0.0   2115.8066  -403.07547   \n",
      "1          0       -1.0        0.0        0.0   1771.1365  -772.81445   \n",
      "2          0       -1.0        0.0        0.0   1660.3745  -769.39650   \n",
      "3          0        0.0       -1.0        0.0   2115.7854  -301.13824   \n",
      "4          0       -1.0        0.0        0.0   1364.5340  -774.27930   \n",
      "\n",
      "   centroid_z  coeffs_x  coeffs_y  coeffs_z  room_ID  \n",
      "0   1040.0000   18.9688  12.60355   18.9686        0  \n",
      "1   1040.0000   18.9688  12.60355   18.9686        0  \n",
      "2   1040.0000   18.9688  12.60355   18.9686        0  \n",
      "3   2050.9688   18.9688  12.60355   18.9686        0  \n",
      "4   2050.9688   18.9688  12.60355   18.9686        0  \n"
     ]
    }
   ],
   "source": [
    "data = pd.read_csv(\"data_with_dist_to_near.csv\")\n",
    "# data = pd.read_csv(\"C:\\\\Users\\\\swagvillain\\\\Downloads\\\\bounding_boxes_with_labels.csv\")\n",
    "\n",
    "\n",
    "# Displaying the first few rows of the data\n",
    "print(data.head())"
   ]
  },
  {
   "cell_type": "code",
   "execution_count": 49,
   "metadata": {
    "colab": {
     "base_uri": "https://localhost:8080/"
    },
    "id": "s0N3OWajymzI",
    "outputId": "cc355070-c49d-454f-e2f9-b191ea820ab9"
   },
   "outputs": [
    {
     "name": "stdout",
     "output_type": "stream",
     "text": [
      "<class 'pandas.core.frame.DataFrame'>\n",
      "RangeIndex: 444549 entries, 0 to 444548\n",
      "Data columns (total 17 columns):\n",
      " #   Column      Non-Null Count   Dtype  \n",
      "---  ------      --------------   -----  \n",
      " 0   Unnamed: 0  444549 non-null  int64  \n",
      " 1   basis_0_0   444549 non-null  float64\n",
      " 2   basis_0_1   444549 non-null  float64\n",
      " 3   basis_0_2   444549 non-null  int64  \n",
      " 4   basis_1_0   444549 non-null  float64\n",
      " 5   basis_1_1   444549 non-null  float64\n",
      " 6   basis_1_2   444549 non-null  int64  \n",
      " 7   basis_2_0   444549 non-null  float64\n",
      " 8   basis_2_1   444549 non-null  float64\n",
      " 9   basis_2_2   444549 non-null  float64\n",
      " 10  centroid_x  444549 non-null  float64\n",
      " 11  centroid_y  444549 non-null  float64\n",
      " 12  centroid_z  444549 non-null  float64\n",
      " 13  coeffs_x    444549 non-null  float64\n",
      " 14  coeffs_y    444549 non-null  float64\n",
      " 15  coeffs_z    444549 non-null  float64\n",
      " 16  room_ID     444549 non-null  int64  \n",
      "dtypes: float64(13), int64(4)\n",
      "memory usage: 57.7 MB\n",
      "None\n"
     ]
    }
   ],
   "source": [
    "# Summary of data\n",
    "print(data.info())"
   ]
  },
  {
   "cell_type": "code",
   "execution_count": 50,
   "metadata": {
    "colab": {
     "base_uri": "https://localhost:8080/",
     "height": 414
    },
    "id": "8-h4DpuKyonX",
    "outputId": "16ce1876-3a7d-452d-be72-0deee8383435"
   },
   "outputs": [
    {
     "data": {
      "text/html": [
       "<div>\n",
       "<style scoped>\n",
       "    .dataframe tbody tr th:only-of-type {\n",
       "        vertical-align: middle;\n",
       "    }\n",
       "\n",
       "    .dataframe tbody tr th {\n",
       "        vertical-align: top;\n",
       "    }\n",
       "\n",
       "    .dataframe thead th {\n",
       "        text-align: right;\n",
       "    }\n",
       "</style>\n",
       "<table border=\"1\" class=\"dataframe\">\n",
       "  <thead>\n",
       "    <tr style=\"text-align: right;\">\n",
       "      <th></th>\n",
       "      <th>Unnamed: 0</th>\n",
       "      <th>basis_0_0</th>\n",
       "      <th>basis_0_1</th>\n",
       "      <th>basis_0_2</th>\n",
       "      <th>basis_1_0</th>\n",
       "      <th>basis_1_1</th>\n",
       "      <th>basis_1_2</th>\n",
       "      <th>basis_2_0</th>\n",
       "      <th>basis_2_1</th>\n",
       "      <th>basis_2_2</th>\n",
       "      <th>centroid_x</th>\n",
       "      <th>centroid_y</th>\n",
       "      <th>centroid_z</th>\n",
       "      <th>coeffs_x</th>\n",
       "      <th>coeffs_y</th>\n",
       "      <th>coeffs_z</th>\n",
       "      <th>room_ID</th>\n",
       "    </tr>\n",
       "  </thead>\n",
       "  <tbody>\n",
       "    <tr>\n",
       "      <th>count</th>\n",
       "      <td>444549.000000</td>\n",
       "      <td>444549.000000</td>\n",
       "      <td>444549.000000</td>\n",
       "      <td>444549.000000</td>\n",
       "      <td>444549.000000</td>\n",
       "      <td>444549.000000</td>\n",
       "      <td>444549.000000</td>\n",
       "      <td>444549.000000</td>\n",
       "      <td>444549.000000</td>\n",
       "      <td>444549.000000</td>\n",
       "      <td>4.445490e+05</td>\n",
       "      <td>4.445490e+05</td>\n",
       "      <td>444549.000000</td>\n",
       "      <td>444549.000000</td>\n",
       "      <td>444549.000000</td>\n",
       "      <td>444549.000000</td>\n",
       "      <td>444549.000000</td>\n",
       "    </tr>\n",
       "    <tr>\n",
       "      <th>mean</th>\n",
       "      <td>222274.000000</td>\n",
       "      <td>0.251180</td>\n",
       "      <td>0.006079</td>\n",
       "      <td>-0.061341</td>\n",
       "      <td>-0.006735</td>\n",
       "      <td>0.258686</td>\n",
       "      <td>-0.003068</td>\n",
       "      <td>0.003625</td>\n",
       "      <td>0.000509</td>\n",
       "      <td>0.921573</td>\n",
       "      <td>3.934502e+01</td>\n",
       "      <td>-4.408091e+01</td>\n",
       "      <td>1310.536366</td>\n",
       "      <td>401.185979</td>\n",
       "      <td>166.224182</td>\n",
       "      <td>378.679968</td>\n",
       "      <td>1707.152755</td>\n",
       "    </tr>\n",
       "    <tr>\n",
       "      <th>std</th>\n",
       "      <td>128330.386746</td>\n",
       "      <td>0.703435</td>\n",
       "      <td>0.618029</td>\n",
       "      <td>0.239983</td>\n",
       "      <td>0.640778</td>\n",
       "      <td>0.720854</td>\n",
       "      <td>0.063770</td>\n",
       "      <td>0.180837</td>\n",
       "      <td>0.180901</td>\n",
       "      <td>0.291932</td>\n",
       "      <td>9.316225e+03</td>\n",
       "      <td>6.585887e+03</td>\n",
       "      <td>840.411605</td>\n",
       "      <td>456.303614</td>\n",
       "      <td>270.108264</td>\n",
       "      <td>420.258062</td>\n",
       "      <td>1028.713428</td>\n",
       "    </tr>\n",
       "    <tr>\n",
       "      <th>min</th>\n",
       "      <td>0.000000</td>\n",
       "      <td>-1.000000</td>\n",
       "      <td>-1.000000</td>\n",
       "      <td>-1.000000</td>\n",
       "      <td>-1.000000</td>\n",
       "      <td>-1.000000</td>\n",
       "      <td>-1.000000</td>\n",
       "      <td>-1.000000</td>\n",
       "      <td>-1.000000</td>\n",
       "      <td>-1.000000</td>\n",
       "      <td>-2.231559e+06</td>\n",
       "      <td>-8.609601e+05</td>\n",
       "      <td>-3873.100600</td>\n",
       "      <td>0.000000</td>\n",
       "      <td>0.000000</td>\n",
       "      <td>0.000000</td>\n",
       "      <td>0.000000</td>\n",
       "    </tr>\n",
       "    <tr>\n",
       "      <th>10%</th>\n",
       "      <td>44454.800000</td>\n",
       "      <td>-1.000000</td>\n",
       "      <td>-1.000000</td>\n",
       "      <td>0.000000</td>\n",
       "      <td>-1.000000</td>\n",
       "      <td>-1.000000</td>\n",
       "      <td>0.000000</td>\n",
       "      <td>0.000000</td>\n",
       "      <td>0.000000</td>\n",
       "      <td>1.000000</td>\n",
       "      <td>-4.796775e+03</td>\n",
       "      <td>-4.761233e+03</td>\n",
       "      <td>368.944500</td>\n",
       "      <td>43.970600</td>\n",
       "      <td>9.000000</td>\n",
       "      <td>4.141800</td>\n",
       "      <td>318.000000</td>\n",
       "    </tr>\n",
       "    <tr>\n",
       "      <th>25%</th>\n",
       "      <td>111137.000000</td>\n",
       "      <td>0.000000</td>\n",
       "      <td>0.000000</td>\n",
       "      <td>0.000000</td>\n",
       "      <td>0.000000</td>\n",
       "      <td>0.000000</td>\n",
       "      <td>0.000000</td>\n",
       "      <td>0.000000</td>\n",
       "      <td>0.000000</td>\n",
       "      <td>1.000000</td>\n",
       "      <td>-2.739387e+03</td>\n",
       "      <td>-2.717543e+03</td>\n",
       "      <td>628.170000</td>\n",
       "      <td>70.000000</td>\n",
       "      <td>21.056250</td>\n",
       "      <td>28.022400</td>\n",
       "      <td>783.000000</td>\n",
       "    </tr>\n",
       "    <tr>\n",
       "      <th>50%</th>\n",
       "      <td>222274.000000</td>\n",
       "      <td>0.000000</td>\n",
       "      <td>0.000000</td>\n",
       "      <td>0.000000</td>\n",
       "      <td>0.000000</td>\n",
       "      <td>0.000000</td>\n",
       "      <td>0.000000</td>\n",
       "      <td>0.000000</td>\n",
       "      <td>0.000000</td>\n",
       "      <td>1.000000</td>\n",
       "      <td>-3.083760e+01</td>\n",
       "      <td>-2.845314e+01</td>\n",
       "      <td>1195.158000</td>\n",
       "      <td>250.891000</td>\n",
       "      <td>80.567751</td>\n",
       "      <td>225.800500</td>\n",
       "      <td>1683.000000</td>\n",
       "    </tr>\n",
       "    <tr>\n",
       "      <th>75%</th>\n",
       "      <td>333411.000000</td>\n",
       "      <td>1.000000</td>\n",
       "      <td>0.000000</td>\n",
       "      <td>0.000000</td>\n",
       "      <td>0.000000</td>\n",
       "      <td>1.000000</td>\n",
       "      <td>0.000000</td>\n",
       "      <td>0.000000</td>\n",
       "      <td>0.000000</td>\n",
       "      <td>1.000000</td>\n",
       "      <td>2.732615e+03</td>\n",
       "      <td>2.697340e+03</td>\n",
       "      <td>1835.520100</td>\n",
       "      <td>521.467072</td>\n",
       "      <td>207.624999</td>\n",
       "      <td>599.999984</td>\n",
       "      <td>2606.000000</td>\n",
       "    </tr>\n",
       "    <tr>\n",
       "      <th>max</th>\n",
       "      <td>444548.000000</td>\n",
       "      <td>1.000000</td>\n",
       "      <td>1.000000</td>\n",
       "      <td>1.000000</td>\n",
       "      <td>1.000000</td>\n",
       "      <td>1.000000</td>\n",
       "      <td>1.000000</td>\n",
       "      <td>1.000000</td>\n",
       "      <td>1.000000</td>\n",
       "      <td>1.000000</td>\n",
       "      <td>3.641142e+06</td>\n",
       "      <td>2.111489e+06</td>\n",
       "      <td>22531.111000</td>\n",
       "      <td>19233.657528</td>\n",
       "      <td>17126.019275</td>\n",
       "      <td>7747.200000</td>\n",
       "      <td>3495.000000</td>\n",
       "    </tr>\n",
       "  </tbody>\n",
       "</table>\n",
       "</div>"
      ],
      "text/plain": [
       "          Unnamed: 0      basis_0_0      basis_0_1      basis_0_2  \\\n",
       "count  444549.000000  444549.000000  444549.000000  444549.000000   \n",
       "mean   222274.000000       0.251180       0.006079      -0.061341   \n",
       "std    128330.386746       0.703435       0.618029       0.239983   \n",
       "min         0.000000      -1.000000      -1.000000      -1.000000   \n",
       "10%     44454.800000      -1.000000      -1.000000       0.000000   \n",
       "25%    111137.000000       0.000000       0.000000       0.000000   \n",
       "50%    222274.000000       0.000000       0.000000       0.000000   \n",
       "75%    333411.000000       1.000000       0.000000       0.000000   \n",
       "max    444548.000000       1.000000       1.000000       1.000000   \n",
       "\n",
       "           basis_1_0      basis_1_1      basis_1_2      basis_2_0  \\\n",
       "count  444549.000000  444549.000000  444549.000000  444549.000000   \n",
       "mean       -0.006735       0.258686      -0.003068       0.003625   \n",
       "std         0.640778       0.720854       0.063770       0.180837   \n",
       "min        -1.000000      -1.000000      -1.000000      -1.000000   \n",
       "10%        -1.000000      -1.000000       0.000000       0.000000   \n",
       "25%         0.000000       0.000000       0.000000       0.000000   \n",
       "50%         0.000000       0.000000       0.000000       0.000000   \n",
       "75%         0.000000       1.000000       0.000000       0.000000   \n",
       "max         1.000000       1.000000       1.000000       1.000000   \n",
       "\n",
       "           basis_2_1      basis_2_2    centroid_x    centroid_y  \\\n",
       "count  444549.000000  444549.000000  4.445490e+05  4.445490e+05   \n",
       "mean        0.000509       0.921573  3.934502e+01 -4.408091e+01   \n",
       "std         0.180901       0.291932  9.316225e+03  6.585887e+03   \n",
       "min        -1.000000      -1.000000 -2.231559e+06 -8.609601e+05   \n",
       "10%         0.000000       1.000000 -4.796775e+03 -4.761233e+03   \n",
       "25%         0.000000       1.000000 -2.739387e+03 -2.717543e+03   \n",
       "50%         0.000000       1.000000 -3.083760e+01 -2.845314e+01   \n",
       "75%         0.000000       1.000000  2.732615e+03  2.697340e+03   \n",
       "max         1.000000       1.000000  3.641142e+06  2.111489e+06   \n",
       "\n",
       "          centroid_z       coeffs_x       coeffs_y       coeffs_z  \\\n",
       "count  444549.000000  444549.000000  444549.000000  444549.000000   \n",
       "mean     1310.536366     401.185979     166.224182     378.679968   \n",
       "std       840.411605     456.303614     270.108264     420.258062   \n",
       "min     -3873.100600       0.000000       0.000000       0.000000   \n",
       "10%       368.944500      43.970600       9.000000       4.141800   \n",
       "25%       628.170000      70.000000      21.056250      28.022400   \n",
       "50%      1195.158000     250.891000      80.567751     225.800500   \n",
       "75%      1835.520100     521.467072     207.624999     599.999984   \n",
       "max     22531.111000   19233.657528   17126.019275    7747.200000   \n",
       "\n",
       "             room_ID  \n",
       "count  444549.000000  \n",
       "mean     1707.152755  \n",
       "std      1028.713428  \n",
       "min         0.000000  \n",
       "10%       318.000000  \n",
       "25%       783.000000  \n",
       "50%      1683.000000  \n",
       "75%      2606.000000  \n",
       "max      3495.000000  "
      ]
     },
     "execution_count": 50,
     "metadata": {},
     "output_type": "execute_result"
    }
   ],
   "source": [
    "# Description of data\n",
    "data.describe(include=\"all\", percentiles=([0.1, 0.25, 0.5, 0.75]))"
   ]
  },
  {
   "cell_type": "markdown",
   "metadata": {},
   "source": [
    "### finding rows with co-efficients 0 (flat objects) "
   ]
  },
  {
   "cell_type": "code",
   "execution_count": 51,
   "metadata": {},
   "outputs": [
    {
     "name": "stdout",
     "output_type": "stream",
     "text": [
      "        Unnamed: 0  basis_0_0  basis_0_1  basis_0_2  basis_1_0  basis_1_1  \\\n",
      "45989        45989        0.0        0.0          0        0.0        0.0   \n",
      "131377      131377        0.0        0.0          0        0.0        0.0   \n",
      "172598      172598        0.0        0.0          0        0.0        0.0   \n",
      "219732      219732        0.0        0.0          0        0.0        0.0   \n",
      "219733      219733        0.0        0.0          0        0.0        0.0   \n",
      "\n",
      "        basis_1_2  basis_2_0  basis_2_1  basis_2_2  centroid_x  centroid_y  \\\n",
      "45989           0        0.0        0.0        0.0      0.0000      0.0000   \n",
      "131377          0        0.0        0.0        0.0  -5185.9490    466.6115   \n",
      "172598          0        0.0        0.0        0.0   1679.8633  -5765.6206   \n",
      "219732          0        0.0        0.0        0.0   1520.8103  -1311.0001   \n",
      "219733          0        0.0        0.0        0.0    909.0677  -1492.1562   \n",
      "\n",
      "        centroid_z  coeffs_x  coeffs_y  coeffs_z  room_ID  \n",
      "45989       0.0000       0.0       0.0       0.0      326  \n",
      "131377      0.0000       0.0       0.0       0.0      937  \n",
      "172598   1095.2775       0.0       0.0       0.0     1253  \n",
      "219732      0.0000       0.0       0.0       0.0     1646  \n",
      "219733      0.0000       0.0       0.0       0.0     1646  \n"
     ]
    }
   ],
   "source": [
    "# Filter rows where any of the specified columns have a value of 0.0\n",
    "filtered_rows = data[(data['coeffs_x'] <= 0.0) ]\n",
    "\n",
    "# Display the filtered rows\n",
    "print(filtered_rows)\n",
    "\n"
   ]
  },
  {
   "cell_type": "markdown",
   "metadata": {
    "id": "cCeMUmTpb0zR"
   },
   "source": [
    "### Data Preprocessing"
   ]
  },
  {
   "cell_type": "code",
   "execution_count": 52,
   "metadata": {
    "colab": {
     "base_uri": "https://localhost:8080/"
    },
    "id": "O1pD4NG3xSLL",
    "outputId": "ae691eac-ebf6-4289-8a96-c9558792bd26"
   },
   "outputs": [
    {
     "data": {
      "text/plain": [
       "np.int64(0)"
      ]
     },
     "execution_count": 52,
     "metadata": {},
     "output_type": "execute_result"
    }
   ],
   "source": [
    "# finding how many duplicate rows we have\n",
    "data.duplicated().sum()"
   ]
  },
  {
   "cell_type": "markdown",
   "metadata": {
    "id": "CI2-2dlawK1g"
   },
   "source": []
  },
  {
   "cell_type": "code",
   "execution_count": 53,
   "metadata": {
    "colab": {
     "base_uri": "https://localhost:8080/"
    },
    "id": "Cwiof_FRwLbR",
    "outputId": "e45877ae-4b93-43b8-893f-ed1e1bc141ab"
   },
   "outputs": [
    {
     "ename": "KeyError",
     "evalue": "\"['ID'] not found in axis\"",
     "output_type": "error",
     "traceback": [
      "\u001b[1;31m---------------------------------------------------------------------------\u001b[0m",
      "\u001b[1;31mKeyError\u001b[0m                                  Traceback (most recent call last)",
      "Cell \u001b[1;32mIn[53], line 7\u001b[0m\n\u001b[0;32m      4\u001b[0m \u001b[38;5;66;03m# checking\u001b[39;00m\n\u001b[0;32m      5\u001b[0m data\u001b[38;5;241m.\u001b[39mduplicated()\u001b[38;5;241m.\u001b[39msum()\n\u001b[1;32m----> 7\u001b[0m data \u001b[38;5;241m=\u001b[39m \u001b[43mdata\u001b[49m\u001b[38;5;241;43m.\u001b[39;49m\u001b[43mdrop\u001b[49m\u001b[43m(\u001b[49m\u001b[38;5;124;43m'\u001b[39;49m\u001b[38;5;124;43mID\u001b[39;49m\u001b[38;5;124;43m'\u001b[39;49m\u001b[43m,\u001b[49m\u001b[43m \u001b[49m\u001b[43maxis\u001b[49m\u001b[38;5;241;43m=\u001b[39;49m\u001b[38;5;241;43m1\u001b[39;49m\u001b[43m)\u001b[49m\n",
      "File \u001b[1;32mc:\\Python312\\Lib\\site-packages\\pandas\\core\\frame.py:5581\u001b[0m, in \u001b[0;36mDataFrame.drop\u001b[1;34m(self, labels, axis, index, columns, level, inplace, errors)\u001b[0m\n\u001b[0;32m   5433\u001b[0m \u001b[38;5;28;01mdef\u001b[39;00m \u001b[38;5;21mdrop\u001b[39m(\n\u001b[0;32m   5434\u001b[0m     \u001b[38;5;28mself\u001b[39m,\n\u001b[0;32m   5435\u001b[0m     labels: IndexLabel \u001b[38;5;241m|\u001b[39m \u001b[38;5;28;01mNone\u001b[39;00m \u001b[38;5;241m=\u001b[39m \u001b[38;5;28;01mNone\u001b[39;00m,\n\u001b[1;32m   (...)\u001b[0m\n\u001b[0;32m   5442\u001b[0m     errors: IgnoreRaise \u001b[38;5;241m=\u001b[39m \u001b[38;5;124m\"\u001b[39m\u001b[38;5;124mraise\u001b[39m\u001b[38;5;124m\"\u001b[39m,\n\u001b[0;32m   5443\u001b[0m ) \u001b[38;5;241m-\u001b[39m\u001b[38;5;241m>\u001b[39m DataFrame \u001b[38;5;241m|\u001b[39m \u001b[38;5;28;01mNone\u001b[39;00m:\n\u001b[0;32m   5444\u001b[0m \u001b[38;5;250m    \u001b[39m\u001b[38;5;124;03m\"\"\"\u001b[39;00m\n\u001b[0;32m   5445\u001b[0m \u001b[38;5;124;03m    Drop specified labels from rows or columns.\u001b[39;00m\n\u001b[0;32m   5446\u001b[0m \n\u001b[1;32m   (...)\u001b[0m\n\u001b[0;32m   5579\u001b[0m \u001b[38;5;124;03m            weight  1.0     0.8\u001b[39;00m\n\u001b[0;32m   5580\u001b[0m \u001b[38;5;124;03m    \"\"\"\u001b[39;00m\n\u001b[1;32m-> 5581\u001b[0m     \u001b[38;5;28;01mreturn\u001b[39;00m \u001b[38;5;28;43msuper\u001b[39;49m\u001b[43m(\u001b[49m\u001b[43m)\u001b[49m\u001b[38;5;241;43m.\u001b[39;49m\u001b[43mdrop\u001b[49m\u001b[43m(\u001b[49m\n\u001b[0;32m   5582\u001b[0m \u001b[43m        \u001b[49m\u001b[43mlabels\u001b[49m\u001b[38;5;241;43m=\u001b[39;49m\u001b[43mlabels\u001b[49m\u001b[43m,\u001b[49m\n\u001b[0;32m   5583\u001b[0m \u001b[43m        \u001b[49m\u001b[43maxis\u001b[49m\u001b[38;5;241;43m=\u001b[39;49m\u001b[43maxis\u001b[49m\u001b[43m,\u001b[49m\n\u001b[0;32m   5584\u001b[0m \u001b[43m        \u001b[49m\u001b[43mindex\u001b[49m\u001b[38;5;241;43m=\u001b[39;49m\u001b[43mindex\u001b[49m\u001b[43m,\u001b[49m\n\u001b[0;32m   5585\u001b[0m \u001b[43m        \u001b[49m\u001b[43mcolumns\u001b[49m\u001b[38;5;241;43m=\u001b[39;49m\u001b[43mcolumns\u001b[49m\u001b[43m,\u001b[49m\n\u001b[0;32m   5586\u001b[0m \u001b[43m        \u001b[49m\u001b[43mlevel\u001b[49m\u001b[38;5;241;43m=\u001b[39;49m\u001b[43mlevel\u001b[49m\u001b[43m,\u001b[49m\n\u001b[0;32m   5587\u001b[0m \u001b[43m        \u001b[49m\u001b[43minplace\u001b[49m\u001b[38;5;241;43m=\u001b[39;49m\u001b[43minplace\u001b[49m\u001b[43m,\u001b[49m\n\u001b[0;32m   5588\u001b[0m \u001b[43m        \u001b[49m\u001b[43merrors\u001b[49m\u001b[38;5;241;43m=\u001b[39;49m\u001b[43merrors\u001b[49m\u001b[43m,\u001b[49m\n\u001b[0;32m   5589\u001b[0m \u001b[43m    \u001b[49m\u001b[43m)\u001b[49m\n",
      "File \u001b[1;32mc:\\Python312\\Lib\\site-packages\\pandas\\core\\generic.py:4788\u001b[0m, in \u001b[0;36mNDFrame.drop\u001b[1;34m(self, labels, axis, index, columns, level, inplace, errors)\u001b[0m\n\u001b[0;32m   4786\u001b[0m \u001b[38;5;28;01mfor\u001b[39;00m axis, labels \u001b[38;5;129;01min\u001b[39;00m axes\u001b[38;5;241m.\u001b[39mitems():\n\u001b[0;32m   4787\u001b[0m     \u001b[38;5;28;01mif\u001b[39;00m labels \u001b[38;5;129;01mis\u001b[39;00m \u001b[38;5;129;01mnot\u001b[39;00m \u001b[38;5;28;01mNone\u001b[39;00m:\n\u001b[1;32m-> 4788\u001b[0m         obj \u001b[38;5;241m=\u001b[39m \u001b[43mobj\u001b[49m\u001b[38;5;241;43m.\u001b[39;49m\u001b[43m_drop_axis\u001b[49m\u001b[43m(\u001b[49m\u001b[43mlabels\u001b[49m\u001b[43m,\u001b[49m\u001b[43m \u001b[49m\u001b[43maxis\u001b[49m\u001b[43m,\u001b[49m\u001b[43m \u001b[49m\u001b[43mlevel\u001b[49m\u001b[38;5;241;43m=\u001b[39;49m\u001b[43mlevel\u001b[49m\u001b[43m,\u001b[49m\u001b[43m \u001b[49m\u001b[43merrors\u001b[49m\u001b[38;5;241;43m=\u001b[39;49m\u001b[43merrors\u001b[49m\u001b[43m)\u001b[49m\n\u001b[0;32m   4790\u001b[0m \u001b[38;5;28;01mif\u001b[39;00m inplace:\n\u001b[0;32m   4791\u001b[0m     \u001b[38;5;28mself\u001b[39m\u001b[38;5;241m.\u001b[39m_update_inplace(obj)\n",
      "File \u001b[1;32mc:\\Python312\\Lib\\site-packages\\pandas\\core\\generic.py:4830\u001b[0m, in \u001b[0;36mNDFrame._drop_axis\u001b[1;34m(self, labels, axis, level, errors, only_slice)\u001b[0m\n\u001b[0;32m   4828\u001b[0m         new_axis \u001b[38;5;241m=\u001b[39m axis\u001b[38;5;241m.\u001b[39mdrop(labels, level\u001b[38;5;241m=\u001b[39mlevel, errors\u001b[38;5;241m=\u001b[39merrors)\n\u001b[0;32m   4829\u001b[0m     \u001b[38;5;28;01melse\u001b[39;00m:\n\u001b[1;32m-> 4830\u001b[0m         new_axis \u001b[38;5;241m=\u001b[39m \u001b[43maxis\u001b[49m\u001b[38;5;241;43m.\u001b[39;49m\u001b[43mdrop\u001b[49m\u001b[43m(\u001b[49m\u001b[43mlabels\u001b[49m\u001b[43m,\u001b[49m\u001b[43m \u001b[49m\u001b[43merrors\u001b[49m\u001b[38;5;241;43m=\u001b[39;49m\u001b[43merrors\u001b[49m\u001b[43m)\u001b[49m\n\u001b[0;32m   4831\u001b[0m     indexer \u001b[38;5;241m=\u001b[39m axis\u001b[38;5;241m.\u001b[39mget_indexer(new_axis)\n\u001b[0;32m   4833\u001b[0m \u001b[38;5;66;03m# Case for non-unique axis\u001b[39;00m\n\u001b[0;32m   4834\u001b[0m \u001b[38;5;28;01melse\u001b[39;00m:\n",
      "File \u001b[1;32mc:\\Python312\\Lib\\site-packages\\pandas\\core\\indexes\\base.py:7070\u001b[0m, in \u001b[0;36mIndex.drop\u001b[1;34m(self, labels, errors)\u001b[0m\n\u001b[0;32m   7068\u001b[0m \u001b[38;5;28;01mif\u001b[39;00m mask\u001b[38;5;241m.\u001b[39many():\n\u001b[0;32m   7069\u001b[0m     \u001b[38;5;28;01mif\u001b[39;00m errors \u001b[38;5;241m!=\u001b[39m \u001b[38;5;124m\"\u001b[39m\u001b[38;5;124mignore\u001b[39m\u001b[38;5;124m\"\u001b[39m:\n\u001b[1;32m-> 7070\u001b[0m         \u001b[38;5;28;01mraise\u001b[39;00m \u001b[38;5;167;01mKeyError\u001b[39;00m(\u001b[38;5;124mf\u001b[39m\u001b[38;5;124m\"\u001b[39m\u001b[38;5;132;01m{\u001b[39;00mlabels[mask]\u001b[38;5;241m.\u001b[39mtolist()\u001b[38;5;132;01m}\u001b[39;00m\u001b[38;5;124m not found in axis\u001b[39m\u001b[38;5;124m\"\u001b[39m)\n\u001b[0;32m   7071\u001b[0m     indexer \u001b[38;5;241m=\u001b[39m indexer[\u001b[38;5;241m~\u001b[39mmask]\n\u001b[0;32m   7072\u001b[0m \u001b[38;5;28;01mreturn\u001b[39;00m \u001b[38;5;28mself\u001b[39m\u001b[38;5;241m.\u001b[39mdelete(indexer)\n",
      "\u001b[1;31mKeyError\u001b[0m: \"['ID'] not found in axis\""
     ]
    }
   ],
   "source": [
    "# dropping duplicate rows\n",
    "data = data.drop_duplicates()\n",
    "\n",
    "# checking\n",
    "data.duplicated().sum()\n",
    "\n",
    "data = data.drop('ID', axis=1)"
   ]
  },
  {
   "cell_type": "markdown",
   "metadata": {},
   "source": [
    "## Rounding (already done)"
   ]
  },
  {
   "cell_type": "code",
   "execution_count": null,
   "metadata": {},
   "outputs": [],
   "source": [
    "import numpy as np\n",
    "\n",
    "def round_near_integers(data, threshold=1e-1):\n",
    "    \"\"\"\n",
    "    Round values close to 0, 1, or -1 in a DataFrame to their nearest integers.\n",
    "\n",
    "    Parameters:\n",
    "        data (pd.DataFrame): The input DataFrame.\n",
    "        threshold (float): The tolerance for rounding near integers.\n",
    "\n",
    "    Returns:\n",
    "        pd.DataFrame: The modified DataFrame with rounded values.\n",
    "    \"\"\"\n",
    "    # Define a rounding function\n",
    "    def round_values(value):\n",
    "        if np.isclose(value, 0, atol=threshold):\n",
    "            return 0\n",
    "        elif np.isclose(value, 1, atol=threshold):\n",
    "            return 1\n",
    "        elif np.isclose(value, -1, atol=threshold):\n",
    "            return -1\n",
    "        else:\n",
    "            return value\n",
    "\n",
    "    # Identify numeric columns to round, excluding 'ID' and 'room_ID'\n",
    "    numeric_columns = data.select_dtypes(include=[np.number]).columns\n",
    "    columns_to_round = [col for col in numeric_columns if col not in ['ID', 'room_ID']]\n",
    "    \n",
    "    # Apply rounding function to the selected columns\n",
    "    data[columns_to_round] = data[columns_to_round].applymap(round_values)\n",
    "    return data\n",
    "\n",
    "    \n"
   ]
  },
  {
   "cell_type": "code",
   "execution_count": null,
   "metadata": {
    "colab": {
     "base_uri": "https://localhost:8080/"
    },
    "id": "GMtKGUjry4_0",
    "outputId": "cdcb7f9a-55a8-4662-9c35-4c64a25d5230"
   },
   "outputs": [
    {
     "name": "stdout",
     "output_type": "stream",
     "text": [
      "   basis_0_0  basis_0_1  basis_0_2  basis_1_0  basis_1_1  basis_1_2  \\\n",
      "0        0.0        0.0         -1        1.0        0.0          0   \n",
      "1        0.0        0.0         -1        0.0       -1.0          0   \n",
      "2        0.0        0.0         -1        0.0       -1.0          0   \n",
      "3        0.0        0.0         -1        1.0        0.0          0   \n",
      "4        0.0        0.0         -1        0.0       -1.0          0   \n",
      "\n",
      "   basis_2_0  basis_2_1  basis_2_2  centroid_x  centroid_y  centroid_z  \\\n",
      "0        0.0       -1.0        0.0   2115.8066  -403.07547   1040.0000   \n",
      "1       -1.0        0.0        0.0   1771.1365  -772.81445   1040.0000   \n",
      "2       -1.0        0.0        0.0   1660.3745  -769.39650   1040.0000   \n",
      "3        0.0       -1.0        0.0   2115.7854  -301.13824   2050.9688   \n",
      "4       -1.0        0.0        0.0   1364.5340  -774.27930   2050.9688   \n",
      "\n",
      "   coeffs_x  coeffs_y  coeffs_z  room_ID  \n",
      "0   18.9688  12.60355   18.9686        0  \n",
      "1   18.9688  12.60355   18.9686        0  \n",
      "2   18.9688  12.60355   18.9686        0  \n",
      "3   18.9688  12.60355   18.9686        0  \n",
      "4   18.9688  12.60355   18.9686        0  \n"
     ]
    }
   ],
   "source": [
    "print(data.head())"
   ]
  },
  {
   "cell_type": "markdown",
   "metadata": {
    "id": "Y6bBWHjL0oP-"
   },
   "source": [
    "### Correlations and visualization\n",
    "\n",
    "Let's look at the data correlations. first we split the data into numeric and categorical, then we will look at correlations."
   ]
  },
  {
   "cell_type": "code",
   "execution_count": null,
   "metadata": {
    "id": "U1IN2XzM0sm-"
   },
   "outputs": [],
   "source": [
    "numeric_data = data.select_dtypes(include=[np.number])\n",
    "categorical_data = data.select_dtypes(exclude=[np.number])\n",
    "\n"
   ]
  },
  {
   "cell_type": "code",
   "execution_count": null,
   "metadata": {
    "colab": {
     "base_uri": "https://localhost:8080/",
     "height": 414
    },
    "id": "RWj0m6vg1fEx",
    "outputId": "d516a25e-121e-4bb5-f737-e8e752e318cd"
   },
   "outputs": [
    {
     "data": {
      "text/html": [
       "<style type=\"text/css\">\n",
       "#T_60c24_row0_col0, #T_60c24_row1_col1, #T_60c24_row2_col2, #T_60c24_row3_col3, #T_60c24_row4_col4, #T_60c24_row5_col5, #T_60c24_row6_col6, #T_60c24_row7_col7, #T_60c24_row8_col8, #T_60c24_row9_col9, #T_60c24_row10_col10, #T_60c24_row11_col11, #T_60c24_row12_col12, #T_60c24_row13_col13, #T_60c24_row14_col14, #T_60c24_row15_col15 {\n",
       "  background-color: #b40426;\n",
       "  color: #f1f1f1;\n",
       "}\n",
       "#T_60c24_row0_col1, #T_60c24_row4_col1, #T_60c24_row10_col1, #T_60c24_row11_col3, #T_60c24_row12_col1, #T_60c24_row15_col3 {\n",
       "  background-color: #cdd9ec;\n",
       "  color: #000000;\n",
       "}\n",
       "#T_60c24_row0_col2, #T_60c24_row0_col8, #T_60c24_row0_col13, #T_60c24_row6_col10, #T_60c24_row6_col14 {\n",
       "  background-color: #6a8bef;\n",
       "  color: #f1f1f1;\n",
       "}\n",
       "#T_60c24_row0_col3, #T_60c24_row2_col1, #T_60c24_row2_col3, #T_60c24_row4_col3, #T_60c24_row5_col3, #T_60c24_row6_col3, #T_60c24_row7_col1, #T_60c24_row10_col3, #T_60c24_row11_col1, #T_60c24_row13_col1, #T_60c24_row13_col3, #T_60c24_row15_col1 {\n",
       "  background-color: #cedaeb;\n",
       "  color: #000000;\n",
       "}\n",
       "#T_60c24_row0_col4, #T_60c24_row4_col0 {\n",
       "  background-color: #e16751;\n",
       "  color: #f1f1f1;\n",
       "}\n",
       "#T_60c24_row0_col5, #T_60c24_row12_col0, #T_60c24_row12_col4 {\n",
       "  background-color: #465ecf;\n",
       "  color: #f1f1f1;\n",
       "}\n",
       "#T_60c24_row0_col6, #T_60c24_row10_col2, #T_60c24_row11_col6, #T_60c24_row12_col5 {\n",
       "  background-color: #4b64d5;\n",
       "  color: #f1f1f1;\n",
       "}\n",
       "#T_60c24_row0_col7 {\n",
       "  background-color: #81a4fb;\n",
       "  color: #f1f1f1;\n",
       "}\n",
       "#T_60c24_row0_col9, #T_60c24_row1_col10, #T_60c24_row3_col10, #T_60c24_row4_col9, #T_60c24_row6_col9, #T_60c24_row10_col6, #T_60c24_row11_col8, #T_60c24_row12_col9, #T_60c24_row14_col9, #T_60c24_row15_col9, #T_60c24_row15_col10 {\n",
       "  background-color: #5b7ae5;\n",
       "  color: #f1f1f1;\n",
       "}\n",
       "#T_60c24_row0_col10, #T_60c24_row5_col0, #T_60c24_row5_col4, #T_60c24_row5_col11, #T_60c24_row8_col11, #T_60c24_row13_col0, #T_60c24_row15_col14 {\n",
       "  background-color: #7396f5;\n",
       "  color: #f1f1f1;\n",
       "}\n",
       "#T_60c24_row0_col11 {\n",
       "  background-color: #a7c5fe;\n",
       "  color: #000000;\n",
       "}\n",
       "#T_60c24_row0_col12, #T_60c24_row0_col14, #T_60c24_row1_col3, #T_60c24_row2_col6, #T_60c24_row3_col1, #T_60c24_row3_col7, #T_60c24_row4_col12, #T_60c24_row4_col14, #T_60c24_row6_col2, #T_60c24_row6_col5, #T_60c24_row6_col8, #T_60c24_row9_col10, #T_60c24_row10_col9, #T_60c24_row11_col13, #T_60c24_row11_col15, #T_60c24_row13_col11, #T_60c24_row14_col0, #T_60c24_row14_col4 {\n",
       "  background-color: #3b4cc0;\n",
       "  color: #f1f1f1;\n",
       "}\n",
       "#T_60c24_row0_col15, #T_60c24_row10_col5, #T_60c24_row13_col15 {\n",
       "  background-color: #3f53c6;\n",
       "  color: #f1f1f1;\n",
       "}\n",
       "#T_60c24_row1_col0, #T_60c24_row1_col4, #T_60c24_row5_col12, #T_60c24_row6_col0 {\n",
       "  background-color: #6c8ff1;\n",
       "  color: #f1f1f1;\n",
       "}\n",
       "#T_60c24_row1_col2, #T_60c24_row3_col2, #T_60c24_row3_col6, #T_60c24_row3_col8, #T_60c24_row7_col6, #T_60c24_row9_col2, #T_60c24_row9_col8 {\n",
       "  background-color: #4e68d8;\n",
       "  color: #f1f1f1;\n",
       "}\n",
       "#T_60c24_row1_col5, #T_60c24_row1_col9 {\n",
       "  background-color: #445acc;\n",
       "  color: #f1f1f1;\n",
       "}\n",
       "#T_60c24_row1_col6, #T_60c24_row10_col8, #T_60c24_row12_col6, #T_60c24_row13_col5, #T_60c24_row14_col6 {\n",
       "  background-color: #4961d2;\n",
       "  color: #f1f1f1;\n",
       "}\n",
       "#T_60c24_row1_col7, #T_60c24_row4_col7, #T_60c24_row4_col10, #T_60c24_row6_col7, #T_60c24_row12_col7, #T_60c24_row13_col7, #T_60c24_row14_col7 {\n",
       "  background-color: #7ea1fa;\n",
       "  color: #f1f1f1;\n",
       "}\n",
       "#T_60c24_row1_col8, #T_60c24_row11_col5, #T_60c24_row15_col2, #T_60c24_row15_col6 {\n",
       "  background-color: #4f69d9;\n",
       "  color: #f1f1f1;\n",
       "}\n",
       "#T_60c24_row1_col11, #T_60c24_row3_col13, #T_60c24_row7_col11, #T_60c24_row9_col11, #T_60c24_row9_col13, #T_60c24_row15_col12, #T_60c24_row15_col13 {\n",
       "  background-color: #6687ed;\n",
       "  color: #f1f1f1;\n",
       "}\n",
       "#T_60c24_row1_col12, #T_60c24_row10_col13 {\n",
       "  background-color: #5f7fe8;\n",
       "  color: #f1f1f1;\n",
       "}\n",
       "#T_60c24_row1_col13, #T_60c24_row3_col12, #T_60c24_row7_col13 {\n",
       "  background-color: #6485ec;\n",
       "  color: #f1f1f1;\n",
       "}\n",
       "#T_60c24_row1_col14, #T_60c24_row2_col11 {\n",
       "  background-color: #6b8df0;\n",
       "  color: #f1f1f1;\n",
       "}\n",
       "#T_60c24_row1_col15, #T_60c24_row2_col15, #T_60c24_row5_col15, #T_60c24_row6_col15, #T_60c24_row7_col15 {\n",
       "  background-color: #3e51c5;\n",
       "  color: #f1f1f1;\n",
       "}\n",
       "#T_60c24_row2_col0 {\n",
       "  background-color: #89acfd;\n",
       "  color: #000000;\n",
       "}\n",
       "#T_60c24_row2_col4, #T_60c24_row5_col7 {\n",
       "  background-color: #84a7fc;\n",
       "  color: #f1f1f1;\n",
       "}\n",
       "#T_60c24_row2_col5, #T_60c24_row3_col15, #T_60c24_row8_col15, #T_60c24_row9_col15, #T_60c24_row10_col15 {\n",
       "  background-color: #3d50c3;\n",
       "  color: #f1f1f1;\n",
       "}\n",
       "#T_60c24_row2_col7, #T_60c24_row5_col14, #T_60c24_row13_col2 {\n",
       "  background-color: #7a9df8;\n",
       "  color: #f1f1f1;\n",
       "}\n",
       "#T_60c24_row2_col8, #T_60c24_row8_col2 {\n",
       "  background-color: #ea7b60;\n",
       "  color: #f1f1f1;\n",
       "}\n",
       "#T_60c24_row2_col9, #T_60c24_row5_col9, #T_60c24_row11_col9, #T_60c24_row13_col9 {\n",
       "  background-color: #5d7ce6;\n",
       "  color: #f1f1f1;\n",
       "}\n",
       "#T_60c24_row2_col10, #T_60c24_row8_col10, #T_60c24_row10_col12 {\n",
       "  background-color: #5977e3;\n",
       "  color: #f1f1f1;\n",
       "}\n",
       "#T_60c24_row2_col12 {\n",
       "  background-color: #9dbdff;\n",
       "  color: #000000;\n",
       "}\n",
       "#T_60c24_row2_col13 {\n",
       "  background-color: #90b2fe;\n",
       "  color: #000000;\n",
       "}\n",
       "#T_60c24_row2_col14 {\n",
       "  background-color: #afcafc;\n",
       "  color: #000000;\n",
       "}\n",
       "#T_60c24_row3_col0, #T_60c24_row3_col4 {\n",
       "  background-color: #6f92f3;\n",
       "  color: #f1f1f1;\n",
       "}\n",
       "#T_60c24_row3_col5, #T_60c24_row4_col15 {\n",
       "  background-color: #4055c8;\n",
       "  color: #f1f1f1;\n",
       "}\n",
       "#T_60c24_row3_col9, #T_60c24_row5_col8, #T_60c24_row8_col7, #T_60c24_row13_col8 {\n",
       "  background-color: #7b9ff9;\n",
       "  color: #f1f1f1;\n",
       "}\n",
       "#T_60c24_row3_col11, #T_60c24_row4_col2, #T_60c24_row4_col8, #T_60c24_row6_col11 {\n",
       "  background-color: #6384eb;\n",
       "  color: #f1f1f1;\n",
       "}\n",
       "#T_60c24_row3_col14, #T_60c24_row13_col4, #T_60c24_row15_col4 {\n",
       "  background-color: #7295f4;\n",
       "  color: #f1f1f1;\n",
       "}\n",
       "#T_60c24_row4_col5, #T_60c24_row7_col5 {\n",
       "  background-color: #455cce;\n",
       "  color: #f1f1f1;\n",
       "}\n",
       "#T_60c24_row4_col6 {\n",
       "  background-color: #96b7ff;\n",
       "  color: #000000;\n",
       "}\n",
       "#T_60c24_row4_col11 {\n",
       "  background-color: #a6c4fe;\n",
       "  color: #000000;\n",
       "}\n",
       "#T_60c24_row4_col13, #T_60c24_row10_col14 {\n",
       "  background-color: #688aef;\n",
       "  color: #f1f1f1;\n",
       "}\n",
       "#T_60c24_row5_col1, #T_60c24_row8_col1, #T_60c24_row8_col3, #T_60c24_row12_col3 {\n",
       "  background-color: #cfdaea;\n",
       "  color: #000000;\n",
       "}\n",
       "#T_60c24_row5_col2, #T_60c24_row7_col2, #T_60c24_row7_col8, #T_60c24_row12_col11, #T_60c24_row13_col6 {\n",
       "  background-color: #4a63d3;\n",
       "  color: #f1f1f1;\n",
       "}\n",
       "#T_60c24_row5_col6, #T_60c24_row11_col12 {\n",
       "  background-color: #485fd1;\n",
       "  color: #f1f1f1;\n",
       "}\n",
       "#T_60c24_row5_col10, #T_60c24_row7_col10 {\n",
       "  background-color: #5a78e4;\n",
       "  color: #f1f1f1;\n",
       "}\n",
       "#T_60c24_row5_col13, #T_60c24_row7_col4, #T_60c24_row7_col14, #T_60c24_row9_col0, #T_60c24_row9_col4, #T_60c24_row9_col14 {\n",
       "  background-color: #6e90f2;\n",
       "  color: #f1f1f1;\n",
       "}\n",
       "#T_60c24_row6_col1, #T_60c24_row14_col1 {\n",
       "  background-color: #ccd9ed;\n",
       "  color: #000000;\n",
       "}\n",
       "#T_60c24_row6_col4 {\n",
       "  background-color: #b1cbfc;\n",
       "  color: #000000;\n",
       "}\n",
       "#T_60c24_row6_col12, #T_60c24_row8_col9 {\n",
       "  background-color: #5e7de7;\n",
       "  color: #f1f1f1;\n",
       "}\n",
       "#T_60c24_row6_col13, #T_60c24_row9_col12, #T_60c24_row10_col11, #T_60c24_row15_col11 {\n",
       "  background-color: #6282ea;\n",
       "  color: #f1f1f1;\n",
       "}\n",
       "#T_60c24_row7_col0, #T_60c24_row8_col5, #T_60c24_row15_col0 {\n",
       "  background-color: #7093f3;\n",
       "  color: #f1f1f1;\n",
       "}\n",
       "#T_60c24_row7_col3 {\n",
       "  background-color: #9ebeff;\n",
       "  color: #000000;\n",
       "}\n",
       "#T_60c24_row7_col9 {\n",
       "  background-color: #516ddb;\n",
       "  color: #f1f1f1;\n",
       "}\n",
       "#T_60c24_row7_col12 {\n",
       "  background-color: #6180e9;\n",
       "  color: #f1f1f1;\n",
       "}\n",
       "#T_60c24_row8_col0 {\n",
       "  background-color: #8badfd;\n",
       "  color: #000000;\n",
       "}\n",
       "#T_60c24_row8_col4, #T_60c24_row10_col0 {\n",
       "  background-color: #85a8fc;\n",
       "  color: #f1f1f1;\n",
       "}\n",
       "#T_60c24_row8_col6 {\n",
       "  background-color: #3c4ec2;\n",
       "  color: #f1f1f1;\n",
       "}\n",
       "#T_60c24_row8_col12 {\n",
       "  background-color: #9bbcff;\n",
       "  color: #000000;\n",
       "}\n",
       "#T_60c24_row8_col13 {\n",
       "  background-color: #93b5fe;\n",
       "  color: #000000;\n",
       "}\n",
       "#T_60c24_row8_col14 {\n",
       "  background-color: #b2ccfb;\n",
       "  color: #000000;\n",
       "}\n",
       "#T_60c24_row9_col1 {\n",
       "  background-color: #c0d4f5;\n",
       "  color: #000000;\n",
       "}\n",
       "#T_60c24_row9_col3 {\n",
       "  background-color: #dedcdb;\n",
       "  color: #000000;\n",
       "}\n",
       "#T_60c24_row9_col5, #T_60c24_row12_col15, #T_60c24_row15_col5 {\n",
       "  background-color: #4257c9;\n",
       "  color: #f1f1f1;\n",
       "}\n",
       "#T_60c24_row9_col6, #T_60c24_row11_col14, #T_60c24_row14_col5, #T_60c24_row15_col8 {\n",
       "  background-color: #4c66d6;\n",
       "  color: #f1f1f1;\n",
       "}\n",
       "#T_60c24_row9_col7 {\n",
       "  background-color: #7597f6;\n",
       "  color: #f1f1f1;\n",
       "}\n",
       "#T_60c24_row10_col4 {\n",
       "  background-color: #8fb1fe;\n",
       "  color: #000000;\n",
       "}\n",
       "#T_60c24_row10_col7 {\n",
       "  background-color: #7da0f9;\n",
       "  color: #f1f1f1;\n",
       "}\n",
       "#T_60c24_row11_col0 {\n",
       "  background-color: #aec9fc;\n",
       "  color: #000000;\n",
       "}\n",
       "#T_60c24_row11_col2, #T_60c24_row12_col10 {\n",
       "  background-color: #536edd;\n",
       "  color: #f1f1f1;\n",
       "}\n",
       "#T_60c24_row11_col4 {\n",
       "  background-color: #adc9fd;\n",
       "  color: #000000;\n",
       "}\n",
       "#T_60c24_row11_col7, #T_60c24_row15_col7 {\n",
       "  background-color: #80a3fa;\n",
       "  color: #f1f1f1;\n",
       "}\n",
       "#T_60c24_row11_col10 {\n",
       "  background-color: #5875e1;\n",
       "  color: #f1f1f1;\n",
       "}\n",
       "#T_60c24_row12_col2 {\n",
       "  background-color: #8caffe;\n",
       "  color: #000000;\n",
       "}\n",
       "#T_60c24_row12_col8 {\n",
       "  background-color: #88abfd;\n",
       "  color: #000000;\n",
       "}\n",
       "#T_60c24_row12_col13 {\n",
       "  background-color: #e3d9d3;\n",
       "  color: #000000;\n",
       "}\n",
       "#T_60c24_row12_col14 {\n",
       "  background-color: #f7b89c;\n",
       "  color: #000000;\n",
       "}\n",
       "#T_60c24_row13_col10, #T_60c24_row14_col10 {\n",
       "  background-color: #5673e0;\n",
       "  color: #f1f1f1;\n",
       "}\n",
       "#T_60c24_row13_col12 {\n",
       "  background-color: #e1dad6;\n",
       "  color: #000000;\n",
       "}\n",
       "#T_60c24_row13_col14 {\n",
       "  background-color: #a1c0ff;\n",
       "  color: #000000;\n",
       "}\n",
       "#T_60c24_row14_col2 {\n",
       "  background-color: #94b6ff;\n",
       "  color: #000000;\n",
       "}\n",
       "#T_60c24_row14_col3 {\n",
       "  background-color: #d1dae9;\n",
       "  color: #000000;\n",
       "}\n",
       "#T_60c24_row14_col8 {\n",
       "  background-color: #97b8ff;\n",
       "  color: #000000;\n",
       "}\n",
       "#T_60c24_row14_col11, #T_60c24_row14_col15 {\n",
       "  background-color: #4358cb;\n",
       "  color: #f1f1f1;\n",
       "}\n",
       "#T_60c24_row14_col12 {\n",
       "  background-color: #f6bda2;\n",
       "  color: #000000;\n",
       "}\n",
       "#T_60c24_row14_col13 {\n",
       "  background-color: #9abbff;\n",
       "  color: #000000;\n",
       "}\n",
       "</style>\n",
       "<table id=\"T_60c24\">\n",
       "  <thead>\n",
       "    <tr>\n",
       "      <th class=\"blank level0\" >&nbsp;</th>\n",
       "      <th id=\"T_60c24_level0_col0\" class=\"col_heading level0 col0\" >basis_0_0</th>\n",
       "      <th id=\"T_60c24_level0_col1\" class=\"col_heading level0 col1\" >basis_0_1</th>\n",
       "      <th id=\"T_60c24_level0_col2\" class=\"col_heading level0 col2\" >basis_0_2</th>\n",
       "      <th id=\"T_60c24_level0_col3\" class=\"col_heading level0 col3\" >basis_1_0</th>\n",
       "      <th id=\"T_60c24_level0_col4\" class=\"col_heading level0 col4\" >basis_1_1</th>\n",
       "      <th id=\"T_60c24_level0_col5\" class=\"col_heading level0 col5\" >basis_1_2</th>\n",
       "      <th id=\"T_60c24_level0_col6\" class=\"col_heading level0 col6\" >basis_2_0</th>\n",
       "      <th id=\"T_60c24_level0_col7\" class=\"col_heading level0 col7\" >basis_2_1</th>\n",
       "      <th id=\"T_60c24_level0_col8\" class=\"col_heading level0 col8\" >basis_2_2</th>\n",
       "      <th id=\"T_60c24_level0_col9\" class=\"col_heading level0 col9\" >centroid_x</th>\n",
       "      <th id=\"T_60c24_level0_col10\" class=\"col_heading level0 col10\" >centroid_y</th>\n",
       "      <th id=\"T_60c24_level0_col11\" class=\"col_heading level0 col11\" >centroid_z</th>\n",
       "      <th id=\"T_60c24_level0_col12\" class=\"col_heading level0 col12\" >coeffs_x</th>\n",
       "      <th id=\"T_60c24_level0_col13\" class=\"col_heading level0 col13\" >coeffs_y</th>\n",
       "      <th id=\"T_60c24_level0_col14\" class=\"col_heading level0 col14\" >coeffs_z</th>\n",
       "      <th id=\"T_60c24_level0_col15\" class=\"col_heading level0 col15\" >room_ID</th>\n",
       "    </tr>\n",
       "  </thead>\n",
       "  <tbody>\n",
       "    <tr>\n",
       "      <th id=\"T_60c24_level0_row0\" class=\"row_heading level0 row0\" >basis_0_0</th>\n",
       "      <td id=\"T_60c24_row0_col0\" class=\"data row0 col0\" >1.000000</td>\n",
       "      <td id=\"T_60c24_row0_col1\" class=\"data row0 col1\" >-0.003985</td>\n",
       "      <td id=\"T_60c24_row0_col2\" class=\"data row0 col2\" >0.091271</td>\n",
       "      <td id=\"T_60c24_row0_col3\" class=\"data row0 col3\" >0.004225</td>\n",
       "      <td id=\"T_60c24_row0_col4\" class=\"data row0 col4\" >0.835004</td>\n",
       "      <td id=\"T_60c24_row0_col5\" class=\"data row0 col5\" >0.019387</td>\n",
       "      <td id=\"T_60c24_row0_col6\" class=\"data row0 col6\" >-0.007158</td>\n",
       "      <td id=\"T_60c24_row0_col7\" class=\"data row0 col7\" >0.010732</td>\n",
       "      <td id=\"T_60c24_row0_col8\" class=\"data row0 col8\" >0.098551</td>\n",
       "      <td id=\"T_60c24_row0_col9\" class=\"data row0 col9\" >-0.002756</td>\n",
       "      <td id=\"T_60c24_row0_col10\" class=\"data row0 col10\" >0.078305</td>\n",
       "      <td id=\"T_60c24_row0_col11\" class=\"data row0 col11\" >0.220152</td>\n",
       "      <td id=\"T_60c24_row0_col12\" class=\"data row0 col12\" >-0.142961</td>\n",
       "      <td id=\"T_60c24_row0_col13\" class=\"data row0 col13\" >0.017088</td>\n",
       "      <td id=\"T_60c24_row0_col14\" class=\"data row0 col14\" >-0.194017</td>\n",
       "      <td id=\"T_60c24_row0_col15\" class=\"data row0 col15\" >0.007465</td>\n",
       "    </tr>\n",
       "    <tr>\n",
       "      <th id=\"T_60c24_level0_row1\" class=\"row_heading level0 row1\" >basis_0_1</th>\n",
       "      <td id=\"T_60c24_row1_col0\" class=\"data row1 col0\" >-0.003985</td>\n",
       "      <td id=\"T_60c24_row1_col1\" class=\"data row1 col1\" >1.000000</td>\n",
       "      <td id=\"T_60c24_row1_col2\" class=\"data row1 col2\" >0.002514</td>\n",
       "      <td id=\"T_60c24_row1_col3\" class=\"data row1 col3\" >-0.803774</td>\n",
       "      <td id=\"T_60c24_row1_col4\" class=\"data row1 col4\" >-0.004008</td>\n",
       "      <td id=\"T_60c24_row1_col5\" class=\"data row1 col5\" >0.012231</td>\n",
       "      <td id=\"T_60c24_row1_col6\" class=\"data row1 col6\" >-0.014286</td>\n",
       "      <td id=\"T_60c24_row1_col7\" class=\"data row1 col7\" >-0.000028</td>\n",
       "      <td id=\"T_60c24_row1_col8\" class=\"data row1 col8\" >0.008997</td>\n",
       "      <td id=\"T_60c24_row1_col9\" class=\"data row1 col9\" >-0.081739</td>\n",
       "      <td id=\"T_60c24_row1_col10\" class=\"data row1 col10\" >-0.000679</td>\n",
       "      <td id=\"T_60c24_row1_col11\" class=\"data row1 col11\" >0.004592</td>\n",
       "      <td id=\"T_60c24_row1_col12\" class=\"data row1 col12\" >-0.006799</td>\n",
       "      <td id=\"T_60c24_row1_col13\" class=\"data row1 col13\" >0.000269</td>\n",
       "      <td id=\"T_60c24_row1_col14\" class=\"data row1 col14\" >-0.010976</td>\n",
       "      <td id=\"T_60c24_row1_col15\" class=\"data row1 col15\" >0.001286</td>\n",
       "    </tr>\n",
       "    <tr>\n",
       "      <th id=\"T_60c24_level0_row2\" class=\"row_heading level0 row2\" >basis_0_2</th>\n",
       "      <td id=\"T_60c24_row2_col0\" class=\"data row2 col0\" >0.091271</td>\n",
       "      <td id=\"T_60c24_row2_col1\" class=\"data row2 col1\" >0.002514</td>\n",
       "      <td id=\"T_60c24_row2_col2\" class=\"data row2 col2\" >1.000000</td>\n",
       "      <td id=\"T_60c24_row2_col3\" class=\"data row2 col3\" >0.001270</td>\n",
       "      <td id=\"T_60c24_row2_col4\" class=\"data row2 col4\" >0.073450</td>\n",
       "      <td id=\"T_60c24_row2_col5\" class=\"data row2 col5\" >-0.012298</td>\n",
       "      <td id=\"T_60c24_row2_col6\" class=\"data row2 col6\" >-0.067731</td>\n",
       "      <td id=\"T_60c24_row2_col7\" class=\"data row2 col7\" >-0.013191</td>\n",
       "      <td id=\"T_60c24_row2_col8\" class=\"data row2 col8\" >0.806898</td>\n",
       "      <td id=\"T_60c24_row2_col9\" class=\"data row2 col9\" >0.002470</td>\n",
       "      <td id=\"T_60c24_row2_col10\" class=\"data row2 col10\" >-0.008573</td>\n",
       "      <td id=\"T_60c24_row2_col11\" class=\"data row2 col11\" >0.019450</td>\n",
       "      <td id=\"T_60c24_row2_col12\" class=\"data row2 col12\" >0.195050</td>\n",
       "      <td id=\"T_60c24_row2_col13\" class=\"data row2 col13\" >0.142421</td>\n",
       "      <td id=\"T_60c24_row2_col14\" class=\"data row2 col14\" >0.222433</td>\n",
       "      <td id=\"T_60c24_row2_col15\" class=\"data row2 col15\" >0.003222</td>\n",
       "    </tr>\n",
       "    <tr>\n",
       "      <th id=\"T_60c24_level0_row3\" class=\"row_heading level0 row3\" >basis_1_0</th>\n",
       "      <td id=\"T_60c24_row3_col0\" class=\"data row3 col0\" >0.004225</td>\n",
       "      <td id=\"T_60c24_row3_col1\" class=\"data row3 col1\" >-0.803774</td>\n",
       "      <td id=\"T_60c24_row3_col2\" class=\"data row3 col2\" >0.001270</td>\n",
       "      <td id=\"T_60c24_row3_col3\" class=\"data row3 col3\" >1.000000</td>\n",
       "      <td id=\"T_60c24_row3_col4\" class=\"data row3 col4\" >0.004209</td>\n",
       "      <td id=\"T_60c24_row3_col5\" class=\"data row3 col5\" >-0.000506</td>\n",
       "      <td id=\"T_60c24_row3_col6\" class=\"data row3 col6\" >0.000170</td>\n",
       "      <td id=\"T_60c24_row3_col7\" class=\"data row3 col7\" >-0.264976</td>\n",
       "      <td id=\"T_60c24_row3_col8\" class=\"data row3 col8\" >0.006918</td>\n",
       "      <td id=\"T_60c24_row3_col9\" class=\"data row3 col9\" >0.105433</td>\n",
       "      <td id=\"T_60c24_row3_col10\" class=\"data row3 col10\" >0.000669</td>\n",
       "      <td id=\"T_60c24_row3_col11\" class=\"data row3 col11\" >-0.003905</td>\n",
       "      <td id=\"T_60c24_row3_col12\" class=\"data row3 col12\" >0.010449</td>\n",
       "      <td id=\"T_60c24_row3_col13\" class=\"data row3 col13\" >0.002354</td>\n",
       "      <td id=\"T_60c24_row3_col14\" class=\"data row3 col14\" >0.014973</td>\n",
       "      <td id=\"T_60c24_row3_col15\" class=\"data row3 col15\" >-0.002628</td>\n",
       "    </tr>\n",
       "    <tr>\n",
       "      <th id=\"T_60c24_level0_row4\" class=\"row_heading level0 row4\" >basis_1_1</th>\n",
       "      <td id=\"T_60c24_row4_col0\" class=\"data row4 col0\" >0.835004</td>\n",
       "      <td id=\"T_60c24_row4_col1\" class=\"data row4 col1\" >-0.004008</td>\n",
       "      <td id=\"T_60c24_row4_col2\" class=\"data row4 col2\" >0.073450</td>\n",
       "      <td id=\"T_60c24_row4_col3\" class=\"data row4 col3\" >0.004209</td>\n",
       "      <td id=\"T_60c24_row4_col4\" class=\"data row4 col4\" >1.000000</td>\n",
       "      <td id=\"T_60c24_row4_col5\" class=\"data row4 col5\" >0.017279</td>\n",
       "      <td id=\"T_60c24_row4_col6\" class=\"data row4 col6\" >0.227793</td>\n",
       "      <td id=\"T_60c24_row4_col7\" class=\"data row4 col7\" >-0.000970</td>\n",
       "      <td id=\"T_60c24_row4_col8\" class=\"data row4 col8\" >0.077883</td>\n",
       "      <td id=\"T_60c24_row4_col9\" class=\"data row4 col9\" >-0.002209</td>\n",
       "      <td id=\"T_60c24_row4_col10\" class=\"data row4 col10\" >0.112260</td>\n",
       "      <td id=\"T_60c24_row4_col11\" class=\"data row4 col11\" >0.214535</td>\n",
       "      <td id=\"T_60c24_row4_col12\" class=\"data row4 col12\" >-0.144747</td>\n",
       "      <td id=\"T_60c24_row4_col13\" class=\"data row4 col13\" >0.013086</td>\n",
       "      <td id=\"T_60c24_row4_col14\" class=\"data row4 col14\" >-0.194862</td>\n",
       "      <td id=\"T_60c24_row4_col15\" class=\"data row4 col15\" >0.011342</td>\n",
       "    </tr>\n",
       "    <tr>\n",
       "      <th id=\"T_60c24_level0_row5\" class=\"row_heading level0 row5\" >basis_1_2</th>\n",
       "      <td id=\"T_60c24_row5_col0\" class=\"data row5 col0\" >0.019387</td>\n",
       "      <td id=\"T_60c24_row5_col1\" class=\"data row5 col1\" >0.012231</td>\n",
       "      <td id=\"T_60c24_row5_col2\" class=\"data row5 col2\" >-0.012298</td>\n",
       "      <td id=\"T_60c24_row5_col3\" class=\"data row5 col3\" >-0.000506</td>\n",
       "      <td id=\"T_60c24_row5_col4\" class=\"data row5 col4\" >0.017279</td>\n",
       "      <td id=\"T_60c24_row5_col5\" class=\"data row5 col5\" >1.000000</td>\n",
       "      <td id=\"T_60c24_row5_col6\" class=\"data row5 col6\" >-0.021663</td>\n",
       "      <td id=\"T_60c24_row5_col7\" class=\"data row5 col7\" >0.017685</td>\n",
       "      <td id=\"T_60c24_row5_col8\" class=\"data row5 col8\" >0.151858</td>\n",
       "      <td id=\"T_60c24_row5_col9\" class=\"data row5 col9\" >0.004685</td>\n",
       "      <td id=\"T_60c24_row5_col10\" class=\"data row5 col10\" >-0.003760</td>\n",
       "      <td id=\"T_60c24_row5_col11\" class=\"data row5 col11\" >0.046507</td>\n",
       "      <td id=\"T_60c24_row5_col12\" class=\"data row5 col12\" >0.036713</td>\n",
       "      <td id=\"T_60c24_row5_col13\" class=\"data row5 col13\" >0.029206</td>\n",
       "      <td id=\"T_60c24_row5_col14\" class=\"data row5 col14\" >0.041711</td>\n",
       "      <td id=\"T_60c24_row5_col15\" class=\"data row5 col15\" >0.003450</td>\n",
       "    </tr>\n",
       "    <tr>\n",
       "      <th id=\"T_60c24_level0_row6\" class=\"row_heading level0 row6\" >basis_2_0</th>\n",
       "      <td id=\"T_60c24_row6_col0\" class=\"data row6 col0\" >-0.007158</td>\n",
       "      <td id=\"T_60c24_row6_col1\" class=\"data row6 col1\" >-0.014286</td>\n",
       "      <td id=\"T_60c24_row6_col2\" class=\"data row6 col2\" >-0.067731</td>\n",
       "      <td id=\"T_60c24_row6_col3\" class=\"data row6 col3\" >0.000170</td>\n",
       "      <td id=\"T_60c24_row6_col4\" class=\"data row6 col4\" >0.227793</td>\n",
       "      <td id=\"T_60c24_row6_col5\" class=\"data row6 col5\" >-0.021663</td>\n",
       "      <td id=\"T_60c24_row6_col6\" class=\"data row6 col6\" >1.000000</td>\n",
       "      <td id=\"T_60c24_row6_col7\" class=\"data row6 col7\" >0.000087</td>\n",
       "      <td id=\"T_60c24_row6_col8\" class=\"data row6 col8\" >-0.063282</td>\n",
       "      <td id=\"T_60c24_row6_col9\" class=\"data row6 col9\" >-0.001130</td>\n",
       "      <td id=\"T_60c24_row6_col10\" class=\"data row6 col10\" >0.046708</td>\n",
       "      <td id=\"T_60c24_row6_col11\" class=\"data row6 col11\" >-0.005858</td>\n",
       "      <td id=\"T_60c24_row6_col12\" class=\"data row6 col12\" >-0.014780</td>\n",
       "      <td id=\"T_60c24_row6_col13\" class=\"data row6 col13\" >-0.011342</td>\n",
       "      <td id=\"T_60c24_row6_col14\" class=\"data row6 col14\" >-0.017284</td>\n",
       "      <td id=\"T_60c24_row6_col15\" class=\"data row6 col15\" >0.004453</td>\n",
       "    </tr>\n",
       "    <tr>\n",
       "      <th id=\"T_60c24_level0_row7\" class=\"row_heading level0 row7\" >basis_2_1</th>\n",
       "      <td id=\"T_60c24_row7_col0\" class=\"data row7 col0\" >0.010732</td>\n",
       "      <td id=\"T_60c24_row7_col1\" class=\"data row7 col1\" >-0.000028</td>\n",
       "      <td id=\"T_60c24_row7_col2\" class=\"data row7 col2\" >-0.013191</td>\n",
       "      <td id=\"T_60c24_row7_col3\" class=\"data row7 col3\" >-0.264976</td>\n",
       "      <td id=\"T_60c24_row7_col4\" class=\"data row7 col4\" >-0.000970</td>\n",
       "      <td id=\"T_60c24_row7_col5\" class=\"data row7 col5\" >0.017685</td>\n",
       "      <td id=\"T_60c24_row7_col6\" class=\"data row7 col6\" >0.000087</td>\n",
       "      <td id=\"T_60c24_row7_col7\" class=\"data row7 col7\" >1.000000</td>\n",
       "      <td id=\"T_60c24_row7_col8\" class=\"data row7 col8\" >-0.008901</td>\n",
       "      <td id=\"T_60c24_row7_col9\" class=\"data row7 col9\" >-0.033519</td>\n",
       "      <td id=\"T_60c24_row7_col10\" class=\"data row7 col10\" >-0.005216</td>\n",
       "      <td id=\"T_60c24_row7_col11\" class=\"data row7 col11\" >0.003105</td>\n",
       "      <td id=\"T_60c24_row7_col12\" class=\"data row7 col12\" >-0.001756</td>\n",
       "      <td id=\"T_60c24_row7_col13\" class=\"data row7 col13\" >-0.001489</td>\n",
       "      <td id=\"T_60c24_row7_col14\" class=\"data row7 col14\" >-0.002439</td>\n",
       "      <td id=\"T_60c24_row7_col15\" class=\"data row7 col15\" >0.002003</td>\n",
       "    </tr>\n",
       "    <tr>\n",
       "      <th id=\"T_60c24_level0_row8\" class=\"row_heading level0 row8\" >basis_2_2</th>\n",
       "      <td id=\"T_60c24_row8_col0\" class=\"data row8 col0\" >0.098551</td>\n",
       "      <td id=\"T_60c24_row8_col1\" class=\"data row8 col1\" >0.008997</td>\n",
       "      <td id=\"T_60c24_row8_col2\" class=\"data row8 col2\" >0.806898</td>\n",
       "      <td id=\"T_60c24_row8_col3\" class=\"data row8 col3\" >0.006918</td>\n",
       "      <td id=\"T_60c24_row8_col4\" class=\"data row8 col4\" >0.077883</td>\n",
       "      <td id=\"T_60c24_row8_col5\" class=\"data row8 col5\" >0.151858</td>\n",
       "      <td id=\"T_60c24_row8_col6\" class=\"data row8 col6\" >-0.063282</td>\n",
       "      <td id=\"T_60c24_row8_col7\" class=\"data row8 col7\" >-0.008901</td>\n",
       "      <td id=\"T_60c24_row8_col8\" class=\"data row8 col8\" >1.000000</td>\n",
       "      <td id=\"T_60c24_row8_col9\" class=\"data row8 col9\" >0.006372</td>\n",
       "      <td id=\"T_60c24_row8_col10\" class=\"data row8 col10\" >-0.009532</td>\n",
       "      <td id=\"T_60c24_row8_col11\" class=\"data row8 col11\" >0.049251</td>\n",
       "      <td id=\"T_60c24_row8_col12\" class=\"data row8 col12\" >0.188070</td>\n",
       "      <td id=\"T_60c24_row8_col13\" class=\"data row8 col13\" >0.151144</td>\n",
       "      <td id=\"T_60c24_row8_col14\" class=\"data row8 col14\" >0.232696</td>\n",
       "      <td id=\"T_60c24_row8_col15\" class=\"data row8 col15\" >0.000829</td>\n",
       "    </tr>\n",
       "    <tr>\n",
       "      <th id=\"T_60c24_level0_row9\" class=\"row_heading level0 row9\" >centroid_x</th>\n",
       "      <td id=\"T_60c24_row9_col0\" class=\"data row9 col0\" >-0.002756</td>\n",
       "      <td id=\"T_60c24_row9_col1\" class=\"data row9 col1\" >-0.081739</td>\n",
       "      <td id=\"T_60c24_row9_col2\" class=\"data row9 col2\" >0.002470</td>\n",
       "      <td id=\"T_60c24_row9_col3\" class=\"data row9 col3\" >0.105433</td>\n",
       "      <td id=\"T_60c24_row9_col4\" class=\"data row9 col4\" >-0.002209</td>\n",
       "      <td id=\"T_60c24_row9_col5\" class=\"data row9 col5\" >0.004685</td>\n",
       "      <td id=\"T_60c24_row9_col6\" class=\"data row9 col6\" >-0.001130</td>\n",
       "      <td id=\"T_60c24_row9_col7\" class=\"data row9 col7\" >-0.033519</td>\n",
       "      <td id=\"T_60c24_row9_col8\" class=\"data row9 col8\" >0.006372</td>\n",
       "      <td id=\"T_60c24_row9_col9\" class=\"data row9 col9\" >1.000000</td>\n",
       "      <td id=\"T_60c24_row9_col10\" class=\"data row9 col10\" >-0.121047</td>\n",
       "      <td id=\"T_60c24_row9_col11\" class=\"data row9 col11\" >0.001638</td>\n",
       "      <td id=\"T_60c24_row9_col12\" class=\"data row9 col12\" >0.000464</td>\n",
       "      <td id=\"T_60c24_row9_col13\" class=\"data row9 col13\" >0.005142</td>\n",
       "      <td id=\"T_60c24_row9_col14\" class=\"data row9 col14\" >0.000013</td>\n",
       "      <td id=\"T_60c24_row9_col15\" class=\"data row9 col15\" >-0.000245</td>\n",
       "    </tr>\n",
       "    <tr>\n",
       "      <th id=\"T_60c24_level0_row10\" class=\"row_heading level0 row10\" >centroid_y</th>\n",
       "      <td id=\"T_60c24_row10_col0\" class=\"data row10 col0\" >0.078305</td>\n",
       "      <td id=\"T_60c24_row10_col1\" class=\"data row10 col1\" >-0.000679</td>\n",
       "      <td id=\"T_60c24_row10_col2\" class=\"data row10 col2\" >-0.008573</td>\n",
       "      <td id=\"T_60c24_row10_col3\" class=\"data row10 col3\" >0.000669</td>\n",
       "      <td id=\"T_60c24_row10_col4\" class=\"data row10 col4\" >0.112260</td>\n",
       "      <td id=\"T_60c24_row10_col5\" class=\"data row10 col5\" >-0.003760</td>\n",
       "      <td id=\"T_60c24_row10_col6\" class=\"data row10 col6\" >0.046708</td>\n",
       "      <td id=\"T_60c24_row10_col7\" class=\"data row10 col7\" >-0.005216</td>\n",
       "      <td id=\"T_60c24_row10_col8\" class=\"data row10 col8\" >-0.009532</td>\n",
       "      <td id=\"T_60c24_row10_col9\" class=\"data row10 col9\" >-0.121047</td>\n",
       "      <td id=\"T_60c24_row10_col10\" class=\"data row10 col10\" >1.000000</td>\n",
       "      <td id=\"T_60c24_row10_col11\" class=\"data row10 col11\" >-0.011612</td>\n",
       "      <td id=\"T_60c24_row10_col12\" class=\"data row10 col12\" >-0.031719</td>\n",
       "      <td id=\"T_60c24_row10_col13\" class=\"data row10 col13\" >-0.019115</td>\n",
       "      <td id=\"T_60c24_row10_col14\" class=\"data row10 col14\" >-0.017507</td>\n",
       "      <td id=\"T_60c24_row10_col15\" class=\"data row10 col15\" >-0.001671</td>\n",
       "    </tr>\n",
       "    <tr>\n",
       "      <th id=\"T_60c24_level0_row11\" class=\"row_heading level0 row11\" >centroid_z</th>\n",
       "      <td id=\"T_60c24_row11_col0\" class=\"data row11 col0\" >0.220152</td>\n",
       "      <td id=\"T_60c24_row11_col1\" class=\"data row11 col1\" >0.004592</td>\n",
       "      <td id=\"T_60c24_row11_col2\" class=\"data row11 col2\" >0.019450</td>\n",
       "      <td id=\"T_60c24_row11_col3\" class=\"data row11 col3\" >-0.003905</td>\n",
       "      <td id=\"T_60c24_row11_col4\" class=\"data row11 col4\" >0.214535</td>\n",
       "      <td id=\"T_60c24_row11_col5\" class=\"data row11 col5\" >0.046507</td>\n",
       "      <td id=\"T_60c24_row11_col6\" class=\"data row11 col6\" >-0.005858</td>\n",
       "      <td id=\"T_60c24_row11_col7\" class=\"data row11 col7\" >0.003105</td>\n",
       "      <td id=\"T_60c24_row11_col8\" class=\"data row11 col8\" >0.049251</td>\n",
       "      <td id=\"T_60c24_row11_col9\" class=\"data row11 col9\" >0.001638</td>\n",
       "      <td id=\"T_60c24_row11_col10\" class=\"data row11 col10\" >-0.011612</td>\n",
       "      <td id=\"T_60c24_row11_col11\" class=\"data row11 col11\" >1.000000</td>\n",
       "      <td id=\"T_60c24_row11_col12\" class=\"data row11 col12\" >-0.093973</td>\n",
       "      <td id=\"T_60c24_row11_col13\" class=\"data row11 col13\" >-0.157244</td>\n",
       "      <td id=\"T_60c24_row11_col14\" class=\"data row11 col14\" >-0.124009</td>\n",
       "      <td id=\"T_60c24_row11_col15\" class=\"data row11 col15\" >-0.010901</td>\n",
       "    </tr>\n",
       "    <tr>\n",
       "      <th id=\"T_60c24_level0_row12\" class=\"row_heading level0 row12\" >coeffs_x</th>\n",
       "      <td id=\"T_60c24_row12_col0\" class=\"data row12 col0\" >-0.142961</td>\n",
       "      <td id=\"T_60c24_row12_col1\" class=\"data row12 col1\" >-0.006799</td>\n",
       "      <td id=\"T_60c24_row12_col2\" class=\"data row12 col2\" >0.195050</td>\n",
       "      <td id=\"T_60c24_row12_col3\" class=\"data row12 col3\" >0.010449</td>\n",
       "      <td id=\"T_60c24_row12_col4\" class=\"data row12 col4\" >-0.144747</td>\n",
       "      <td id=\"T_60c24_row12_col5\" class=\"data row12 col5\" >0.036713</td>\n",
       "      <td id=\"T_60c24_row12_col6\" class=\"data row12 col6\" >-0.014780</td>\n",
       "      <td id=\"T_60c24_row12_col7\" class=\"data row12 col7\" >-0.001756</td>\n",
       "      <td id=\"T_60c24_row12_col8\" class=\"data row12 col8\" >0.188070</td>\n",
       "      <td id=\"T_60c24_row12_col9\" class=\"data row12 col9\" >0.000464</td>\n",
       "      <td id=\"T_60c24_row12_col10\" class=\"data row12 col10\" >-0.031719</td>\n",
       "      <td id=\"T_60c24_row12_col11\" class=\"data row12 col11\" >-0.093973</td>\n",
       "      <td id=\"T_60c24_row12_col12\" class=\"data row12 col12\" >1.000000</td>\n",
       "      <td id=\"T_60c24_row12_col13\" class=\"data row12 col13\" >0.449183</td>\n",
       "      <td id=\"T_60c24_row12_col14\" class=\"data row12 col14\" >0.599631</td>\n",
       "      <td id=\"T_60c24_row12_col15\" class=\"data row12 col15\" >0.014578</td>\n",
       "    </tr>\n",
       "    <tr>\n",
       "      <th id=\"T_60c24_level0_row13\" class=\"row_heading level0 row13\" >coeffs_y</th>\n",
       "      <td id=\"T_60c24_row13_col0\" class=\"data row13 col0\" >0.017088</td>\n",
       "      <td id=\"T_60c24_row13_col1\" class=\"data row13 col1\" >0.000269</td>\n",
       "      <td id=\"T_60c24_row13_col2\" class=\"data row13 col2\" >0.142421</td>\n",
       "      <td id=\"T_60c24_row13_col3\" class=\"data row13 col3\" >0.002354</td>\n",
       "      <td id=\"T_60c24_row13_col4\" class=\"data row13 col4\" >0.013086</td>\n",
       "      <td id=\"T_60c24_row13_col5\" class=\"data row13 col5\" >0.029206</td>\n",
       "      <td id=\"T_60c24_row13_col6\" class=\"data row13 col6\" >-0.011342</td>\n",
       "      <td id=\"T_60c24_row13_col7\" class=\"data row13 col7\" >-0.001489</td>\n",
       "      <td id=\"T_60c24_row13_col8\" class=\"data row13 col8\" >0.151144</td>\n",
       "      <td id=\"T_60c24_row13_col9\" class=\"data row13 col9\" >0.005142</td>\n",
       "      <td id=\"T_60c24_row13_col10\" class=\"data row13 col10\" >-0.019115</td>\n",
       "      <td id=\"T_60c24_row13_col11\" class=\"data row13 col11\" >-0.157244</td>\n",
       "      <td id=\"T_60c24_row13_col12\" class=\"data row13 col12\" >0.449183</td>\n",
       "      <td id=\"T_60c24_row13_col13\" class=\"data row13 col13\" >1.000000</td>\n",
       "      <td id=\"T_60c24_row13_col14\" class=\"data row13 col14\" >0.173371</td>\n",
       "      <td id=\"T_60c24_row13_col15\" class=\"data row13 col15\" >0.005234</td>\n",
       "    </tr>\n",
       "    <tr>\n",
       "      <th id=\"T_60c24_level0_row14\" class=\"row_heading level0 row14\" >coeffs_z</th>\n",
       "      <td id=\"T_60c24_row14_col0\" class=\"data row14 col0\" >-0.194017</td>\n",
       "      <td id=\"T_60c24_row14_col1\" class=\"data row14 col1\" >-0.010976</td>\n",
       "      <td id=\"T_60c24_row14_col2\" class=\"data row14 col2\" >0.222433</td>\n",
       "      <td id=\"T_60c24_row14_col3\" class=\"data row14 col3\" >0.014973</td>\n",
       "      <td id=\"T_60c24_row14_col4\" class=\"data row14 col4\" >-0.194862</td>\n",
       "      <td id=\"T_60c24_row14_col5\" class=\"data row14 col5\" >0.041711</td>\n",
       "      <td id=\"T_60c24_row14_col6\" class=\"data row14 col6\" >-0.017284</td>\n",
       "      <td id=\"T_60c24_row14_col7\" class=\"data row14 col7\" >-0.002439</td>\n",
       "      <td id=\"T_60c24_row14_col8\" class=\"data row14 col8\" >0.232696</td>\n",
       "      <td id=\"T_60c24_row14_col9\" class=\"data row14 col9\" >0.000013</td>\n",
       "      <td id=\"T_60c24_row14_col10\" class=\"data row14 col10\" >-0.017507</td>\n",
       "      <td id=\"T_60c24_row14_col11\" class=\"data row14 col11\" >-0.124009</td>\n",
       "      <td id=\"T_60c24_row14_col12\" class=\"data row14 col12\" >0.599631</td>\n",
       "      <td id=\"T_60c24_row14_col13\" class=\"data row14 col13\" >0.173371</td>\n",
       "      <td id=\"T_60c24_row14_col14\" class=\"data row14 col14\" >1.000000</td>\n",
       "      <td id=\"T_60c24_row14_col15\" class=\"data row14 col15\" >0.019065</td>\n",
       "    </tr>\n",
       "    <tr>\n",
       "      <th id=\"T_60c24_level0_row15\" class=\"row_heading level0 row15\" >room_ID</th>\n",
       "      <td id=\"T_60c24_row15_col0\" class=\"data row15 col0\" >0.007465</td>\n",
       "      <td id=\"T_60c24_row15_col1\" class=\"data row15 col1\" >0.001286</td>\n",
       "      <td id=\"T_60c24_row15_col2\" class=\"data row15 col2\" >0.003222</td>\n",
       "      <td id=\"T_60c24_row15_col3\" class=\"data row15 col3\" >-0.002628</td>\n",
       "      <td id=\"T_60c24_row15_col4\" class=\"data row15 col4\" >0.011342</td>\n",
       "      <td id=\"T_60c24_row15_col5\" class=\"data row15 col5\" >0.003450</td>\n",
       "      <td id=\"T_60c24_row15_col6\" class=\"data row15 col6\" >0.004453</td>\n",
       "      <td id=\"T_60c24_row15_col7\" class=\"data row15 col7\" >0.002003</td>\n",
       "      <td id=\"T_60c24_row15_col8\" class=\"data row15 col8\" >0.000829</td>\n",
       "      <td id=\"T_60c24_row15_col9\" class=\"data row15 col9\" >-0.000245</td>\n",
       "      <td id=\"T_60c24_row15_col10\" class=\"data row15 col10\" >-0.001671</td>\n",
       "      <td id=\"T_60c24_row15_col11\" class=\"data row15 col11\" >-0.010901</td>\n",
       "      <td id=\"T_60c24_row15_col12\" class=\"data row15 col12\" >0.014578</td>\n",
       "      <td id=\"T_60c24_row15_col13\" class=\"data row15 col13\" >0.005234</td>\n",
       "      <td id=\"T_60c24_row15_col14\" class=\"data row15 col14\" >0.019065</td>\n",
       "      <td id=\"T_60c24_row15_col15\" class=\"data row15 col15\" >1.000000</td>\n",
       "    </tr>\n",
       "  </tbody>\n",
       "</table>\n"
      ],
      "text/plain": [
       "<pandas.io.formats.style.Styler at 0x1a68a00d7f0>"
      ]
     },
     "execution_count": 37,
     "metadata": {},
     "output_type": "execute_result"
    }
   ],
   "source": [
    "corr = numeric_data.corr()\n",
    "corr.style.background_gradient(cmap='coolwarm')"
   ]
  },
  {
   "cell_type": "markdown",
   "metadata": {
    "id": "d3ZFnLczJSvJ"
   },
   "source": [
    "## Modelling Time.\n",
    "Let's make some models to train on our cleaned and processed data."
   ]
  },
  {
   "cell_type": "markdown",
   "metadata": {},
   "source": [
    "## calculating nearest other bounding box"
   ]
  },
  {
   "cell_type": "code",
   "execution_count": null,
   "metadata": {},
   "outputs": [
    {
     "name": "stderr",
     "output_type": "stream",
     "text": [
      "Processing room_IDs: 100%|██████████| 3496/3496 [40:28<00:00,  1.44it/s]  \n"
     ]
    }
   ],
   "source": [
    "\n",
    "# import pandas as pd\n",
    "# import numpy as np\n",
    "# from tqdm import tqdm\n",
    "\n",
    "# # Assuming `data` is the DataFrame provided\n",
    "# data['dist_to_nearest'] = np.inf  # Initialize with infinity for all rows\n",
    "\n",
    "# # Function to calculate Euclidean distance between two bounding boxes\n",
    "# def compute_distance(row1, row2, dimensions=['x', 'y', 'z']):\n",
    "#     deltas = []\n",
    "#     for dim in dimensions:\n",
    "#         delta = (row1[f'centroid_{dim}'] - row2[f'centroid_{dim}']) ** 2\n",
    "#         deltas.append(delta)\n",
    "#     return np.sqrt(sum(deltas))\n",
    "\n",
    "# # Iterate over each unique room_ID\n",
    "# for room_id in tqdm(data['room_ID'].unique(), desc=\"Processing room_IDs\"):\n",
    "#     room_data = data[data['room_ID'] == room_id]\n",
    "    \n",
    "#     # Iterate over each bounding box in the room\n",
    "#     for i, row in room_data.iterrows():\n",
    "#         min_distance = np.inf\n",
    "#         for j, other_row in room_data.iterrows():\n",
    "#             if i != j:  # Skip the current box itself\n",
    "#                 dist = compute_distance(row, other_row, dimensions=['x', 'y', 'z'])\n",
    "#                 min_distance = min(min_distance, dist)\n",
    "        \n",
    "#         # Update the distance for this row in the main DataFrame\n",
    "#         data.at[i, 'dist_to_nearest'] = min_distance"
   ]
  },
  {
   "cell_type": "code",
   "execution_count": 56,
   "metadata": {},
   "outputs": [
    {
     "name": "stdout",
     "output_type": "stream",
     "text": [
      "<bound method NDFrame.head of         Unnamed: 0  basis_0_0  basis_0_1  basis_0_2  basis_1_0  basis_1_1  \\\n",
      "0                0        0.0        0.0         -1        1.0        0.0   \n",
      "1                1        0.0        0.0         -1        0.0       -1.0   \n",
      "2                2        0.0        0.0         -1        0.0       -1.0   \n",
      "3                3        0.0        0.0         -1        1.0        0.0   \n",
      "4                4        0.0        0.0         -1        0.0       -1.0   \n",
      "...            ...        ...        ...        ...        ...        ...   \n",
      "444544      444544        1.0        0.0          0        0.0        1.0   \n",
      "444545      444545        1.0        0.0          0        0.0        1.0   \n",
      "444546      444546        1.0        0.0          0        0.0        1.0   \n",
      "444547      444547        1.0        0.0          0        0.0        1.0   \n",
      "444548      444548        1.0        0.0          0        0.0        1.0   \n",
      "\n",
      "        basis_1_2  basis_2_0  basis_2_1  basis_2_2  centroid_x  centroid_y  \\\n",
      "0               0        0.0       -1.0        0.0  2115.80660  -403.07547   \n",
      "1               0       -1.0        0.0        0.0  1771.13650  -772.81445   \n",
      "2               0       -1.0        0.0        0.0  1660.37450  -769.39650   \n",
      "3               0        0.0       -1.0        0.0  2115.78540  -301.13824   \n",
      "4               0       -1.0        0.0        0.0  1364.53400  -774.27930   \n",
      "...           ...        ...        ...        ...         ...         ...   \n",
      "444544          0        0.0        0.0        1.0 -5402.56900  3672.63570   \n",
      "444545          0        0.0        0.0        1.0 -5636.68800  3672.63570   \n",
      "444546          0        0.0        0.0        1.0 -5886.55570  3672.63570   \n",
      "444547          0        0.0        0.0        1.0 -5156.19100  3672.63570   \n",
      "444548          0        0.0        0.0        1.0   435.54688 -2852.05080   \n",
      "\n",
      "        centroid_z  coeffs_x   coeffs_y  coeffs_z  room_ID  dist_to_nearest  \n",
      "0        1040.0000   18.9688   12.60355   18.9686        0       505.474422  \n",
      "1        1040.0000   18.9688   12.60355   18.9686        0       110.814724  \n",
      "2        1040.0000   18.9688   12.60355   18.9686        0       110.814724  \n",
      "3        2050.9688   18.9688   12.60355   18.9686        0       101.458181  \n",
      "4        2050.9688   18.9688   12.60355   18.9686        0        99.937200  \n",
      "...            ...       ...        ...       ...      ...              ...  \n",
      "444544   1486.5138  164.4310   55.83000  165.5260     3495       274.578318  \n",
      "444545   1343.0511  164.4310   55.83000  165.5260     3495       274.578318  \n",
      "444546   1489.5161  164.4310   55.83000  165.5260     3495       289.630564  \n",
      "444547   1358.7700  164.4310   55.83000  165.5260     3495       277.525850  \n",
      "444548   2598.1000  295.0495  145.04950    8.1000     3495      1339.629507  \n",
      "\n",
      "[444549 rows x 18 columns]>\n"
     ]
    }
   ],
   "source": [
    "print(data.head)\n",
    "\n",
    "data.to_csv('data_with_dist_to_near1.csv')"
   ]
  },
  {
   "cell_type": "markdown",
   "metadata": {},
   "source": [
    "### Adding fake data to the mix"
   ]
  },
  {
   "cell_type": "code",
   "execution_count": null,
   "metadata": {},
   "outputs": [
    {
     "name": "stdout",
     "output_type": "stream",
     "text": [
      "   basis_0_0  basis_0_1  basis_0_2  basis_1_0  basis_1_1  basis_1_2  \\\n",
      "0         -1         -1          0         -1          0          0   \n",
      "1          0          0          0          0         -1          0   \n",
      "2         -1          0          0          0          0         -1   \n",
      "3         -1          0         -1          0          0          0   \n",
      "4         -1          0         -1          0         -1         -1   \n",
      "\n",
      "   basis_2_0  basis_2_1  basis_2_2    centroid_x    centroid_y    centroid_z  \\\n",
      "0         -1          0          0 -46196.797960  -1426.188753  24106.959156   \n",
      "1         -1         -1         -1 -35430.153755 -41052.363085 -14181.839037   \n",
      "2          0          0         -1 -46220.497137 -25190.300496 -12450.129858   \n",
      "3          0          0          0 -46592.870297 -18138.643406  19448.650020   \n",
      "4         -1         -1          0 -40373.167855 -12781.024449  32236.899025   \n",
      "\n",
      "       coeffs_x      coeffs_y     coeffs_z  room_ID  is_real  \n",
      "0  17047.347207   5524.027764  7657.649789      908      0.0  \n",
      "1   9541.131447   9051.131776  4423.257955     2209      0.0  \n",
      "2  13433.171561  17093.600926  4757.219713      652      0.0  \n",
      "3   3473.089850   7270.472342  5065.518370     1406      0.0  \n",
      "4   3924.620416  16014.027515  7227.428596     1742      0.0  \n"
     ]
    }
   ],
   "source": [
    "# Define the number of rows\n",
    "num_rows = 100000\n",
    "\n",
    "# Generate random data based on the provided statistics\n",
    "np.random.seed(42)  # For reproducibility\n",
    "\n",
    "dummy_data = {\n",
    "    \"basis_0_0\": np.random.randint(-1, 1, size=num_rows),\n",
    "    \"basis_0_1\": np.random.randint(-1, 1, size=num_rows),\n",
    "    \"basis_0_2\": np.random.randint(-1, 1, size=num_rows),\n",
    "    \"basis_1_0\": np.random.randint(-1, 1, size=num_rows),\n",
    "    \"basis_1_1\": np.random.randint(-1, 1, size=num_rows),\n",
    "    \"basis_1_2\": np.random.randint(-1, 1, size=num_rows),\n",
    "    \"basis_2_0\": np.random.randint(-1, 1, size=num_rows),\n",
    "    \"basis_2_1\": np.random.randint(-1, 1, size=num_rows),\n",
    "    \"basis_2_2\": np.random.randint(-1, 1, size=num_rows),\n",
    "    \"centroid_x\": np.random.normal(-39345, 9316, size=num_rows),  # mean=39345, std=9316\n",
    "    \"centroid_y\": np.random.uniform(-44081, 1000, size=num_rows), # mean=-44081, std=6586\n",
    "    \"centroid_z\": np.random.normal(-3873, 22531, size=num_rows),\n",
    "    \"coeffs_x\": np.random.uniform(0, 19234, size=num_rows),\n",
    "    \"coeffs_y\": np.random.uniform(0, 17126, size=num_rows),\n",
    "    \"coeffs_z\": np.random.uniform(0, 7747, size=num_rows),\n",
    "    \"room_ID\": np.random.randint(0, 3496, size=num_rows),\n",
    "    \"is_real\": 0.0\n",
    "}\n",
    "\n",
    "# Convert to a pandas DataFrame\n",
    "dummy_data = pd.DataFrame(dummy_data)\n",
    "\n",
    "# Display the first few rows\n",
    "print(dummy_data.head())"
   ]
  },
  {
   "cell_type": "markdown",
   "metadata": {},
   "source": [
    "### add column to real data"
   ]
  },
  {
   "cell_type": "code",
   "execution_count": null,
   "metadata": {},
   "outputs": [],
   "source": [
    "data['is_real'] = 1"
   ]
  },
  {
   "cell_type": "code",
   "execution_count": null,
   "metadata": {},
   "outputs": [],
   "source": [
    "full_data = pd.concat([data, dummy_data], ignore_index=True)\n",
    "\n",
    "# print(full_data.head)\n",
    "\n"
   ]
  },
  {
   "cell_type": "markdown",
   "metadata": {
    "id": "LlO4WB3IJocQ"
   },
   "source": [
    "### splitting data\n",
    "We split the data into train and test sets."
   ]
  },
  {
   "cell_type": "code",
   "execution_count": null,
   "metadata": {
    "colab": {
     "base_uri": "https://localhost:8080/"
    },
    "id": "8u0EtYMsJseZ",
    "outputId": "d4134be2-3456-4fbb-8ee5-73e0e939a9a9"
   },
   "outputs": [
    {
     "name": "stdout",
     "output_type": "stream",
     "text": [
      "Shape of X_train: (435639, 16)\n",
      "Shape of X_test: (108910, 16)\n",
      "Shape of y_train: (435639,)\n",
      "Shape of y_test: (108910,)\n",
      "Number of NaN values in y_train: 0\n"
     ]
    }
   ],
   "source": [
    "\n",
    "\n",
    "X = full_data.drop(columns=['is_real'])\n",
    "y = full_data['is_real']\n",
    "\n",
    "X_train, X_test, y_train, y_test = train_test_split(X, y, test_size=0.2, random_state=42)\n",
    "\n",
    "# checking to see if it was split correctly\n",
    "print(\"Shape of X_train:\", X_train.shape)\n",
    "print(\"Shape of X_test:\", X_test.shape)\n",
    "print(\"Shape of y_train:\", y_train.shape)\n",
    "print(\"Shape of y_test:\", y_test.shape)\n",
    "\n",
    "print(\"Number of NaN values in y_train:\", y_train.isna().sum())\n",
    "\n"
   ]
  },
  {
   "cell_type": "markdown",
   "metadata": {
    "id": "Pdbx1EDNQhnR"
   },
   "source": [
    "### Decision Tree"
   ]
  },
  {
   "cell_type": "markdown",
   "metadata": {
    "id": "kRVeiQHYkAte"
   },
   "source": [
    "making tree classifier and using cross validation"
   ]
  },
  {
   "cell_type": "code",
   "execution_count": null,
   "metadata": {
    "colab": {
     "base_uri": "https://localhost:8080/"
    },
    "id": "d_7JPUUCQkg3",
    "outputId": "1cf96c33-db54-43d0-afc9-5922d4856cc0"
   },
   "outputs": [
    {
     "name": "stderr",
     "output_type": "stream",
     "text": [
      "Cross-Validation Progress: 100%|██████████| 5/5 [00:11<00:00,  2.25s/it]"
     ]
    },
    {
     "name": "stdout",
     "output_type": "stream",
     "text": [
      "Mean Accuracy (Decision Tree): 0.9999701587940615\n",
      "Standard Deviation Accuracy (Decision Tree): 1.3772813613718435e-05\n"
     ]
    },
    {
     "name": "stderr",
     "output_type": "stream",
     "text": [
      "\n"
     ]
    }
   ],
   "source": [
    "from sklearn.tree import DecisionTreeClassifier\n",
    "from sklearn.model_selection import cross_val_score\n",
    "from sklearn.model_selection import StratifiedKFold\n",
    "from tqdm import tqdm\n",
    "import numpy as np\n",
    "\n",
    "# Create Decision Tree classifier\n",
    "dt_classifier = DecisionTreeClassifier()\n",
    "\n",
    "# Define the cross-validation strategy\n",
    "cv = StratifiedKFold(n_splits=5)\n",
    "\n",
    "# Initialize progress bar\n",
    "progress_bar = tqdm(total=cv.get_n_splits(X_train, y_train), desc=\"Cross-Validation Progress\")\n",
    "\n",
    "# Perform cross-validation manually to show progress\n",
    "dt_scores = []\n",
    "for train_idx, test_idx in cv.split(X_train, y_train):\n",
    "    X_fold_train, X_fold_test = X_train.iloc[train_idx], X_train.iloc[test_idx]\n",
    "    y_fold_train, y_fold_test = y_train.iloc[train_idx], y_train.iloc[test_idx]\n",
    "    dt_classifier.fit(X_fold_train, y_fold_train)\n",
    "    dt_scores.append(dt_classifier.score(X_fold_test, y_fold_test))\n",
    "    progress_bar.update(1)\n",
    "\n",
    "progress_bar.close()\n",
    "\n",
    "# Convert scores to a NumPy array for mean and standard deviation calculations\n",
    "dt_scores = np.array(dt_scores)\n",
    "\n",
    "# Mean accuracy across folds\n",
    "print(\"Mean Accuracy (Decision Tree):\", dt_scores.mean())\n",
    "print(\"Standard Deviation Accuracy (Decision Tree):\", dt_scores.std())\n"
   ]
  },
  {
   "cell_type": "markdown",
   "metadata": {
    "id": "H6jsIh9ekgyJ"
   },
   "source": [
    "very low standard deviation above is encouraging."
   ]
  },
  {
   "cell_type": "markdown",
   "metadata": {
    "id": "0HwfUIV8lFG-"
   },
   "source": [
    "#### Finding Best Hyperparameters for DT"
   ]
  },
  {
   "cell_type": "code",
   "execution_count": null,
   "metadata": {
    "colab": {
     "base_uri": "https://localhost:8080/"
    },
    "id": "V9TsPSGbiSbJ",
    "outputId": "524e1b0c-4f0b-4c37-8dae-f8f1c2fe2bd9"
   },
   "outputs": [],
   "source": [
    "# from sklearn.model_selection import GridSearchCV\n",
    "\n",
    "# # Define hyperparameters grid for Decision Tree\n",
    "# dt_param_grid = {\n",
    "#     'max_depth': [None, 10, 20, 30],\n",
    "# }\n",
    "\n",
    "# # GridSearchCV for Decision Tree\n",
    "# dt_grid_search = GridSearchCV(DecisionTreeClassifier(), dt_param_grid, cv=5)\n",
    "# dt_grid_search.fit(X_train, y_train)\n",
    "\n",
    "# # Best parameters for Decision Tree\n",
    "# print(\"Best Parameters (Decision Tree):\", dt_grid_search.best_params_)\n",
    "# print(\"Best Score (Decision Tree):\", dt_grid_search.best_score_)"
   ]
  },
  {
   "cell_type": "markdown",
   "metadata": {
    "id": "l2TPn7hhibJo"
   },
   "source": [
    "we see that the best max_depth is 10. We will use that below."
   ]
  },
  {
   "cell_type": "markdown",
   "metadata": {
    "id": "5rLMDLJ_lPTY"
   },
   "source": [
    "#### making final (best) decision tree"
   ]
  },
  {
   "cell_type": "code",
   "execution_count": null,
   "metadata": {
    "colab": {
     "base_uri": "https://localhost:8080/"
    },
    "id": "zURlzBFajaK4",
    "outputId": "ecfbd135-46fc-4be1-8a1d-e05570ce95df"
   },
   "outputs": [
    {
     "name": "stdout",
     "output_type": "stream",
     "text": [
      "Test Accuracy (Decision Tree): 0.9999908181066935\n"
     ]
    }
   ],
   "source": [
    "from sklearn.tree import DecisionTreeClassifier\n",
    "\n",
    "# Define the Decision Tree classifier with the best parameters\n",
    "best_dt_classifier = DecisionTreeClassifier(max_depth=10)\n",
    "\n",
    "# Train the model on the full training set\n",
    "best_dt_classifier.fit(X_train, y_train)\n",
    "\n",
    "# Evaluate the model on the testing set\n",
    "dt_test_accuracy = best_dt_classifier.score(X_test, y_test)\n",
    "print(\"Test Accuracy (Decision Tree):\", dt_test_accuracy)"
   ]
  },
  {
   "cell_type": "markdown",
   "metadata": {
    "id": "hyBWLKuRQpiS"
   },
   "source": [
    "### Logistic Regression"
   ]
  },
  {
   "cell_type": "markdown",
   "metadata": {
    "id": "TFCuSrRPnC4f"
   },
   "source": [
    "#### making the model and using cross validation"
   ]
  },
  {
   "cell_type": "code",
   "execution_count": null,
   "metadata": {
    "colab": {
     "base_uri": "https://localhost:8080/"
    },
    "id": "MqWmLszqmUnL",
    "outputId": "3314f6c7-3d72-49df-e782-636737835e96"
   },
   "outputs": [
    {
     "name": "stdout",
     "output_type": "stream",
     "text": [
      "Cross-Validation Scores (Logistic Regression): [0.99977045 0.99982784 0.99982784 0.99983932 0.99975897]\n",
      "Mean Accuracy (Logistic Regression): 0.9998048842139668\n",
      "Standard Deviation of Accuracy (Logistic Regression): 3.3265332384301825e-05\n"
     ]
    }
   ],
   "source": [
    "# from sklearn.linear_model import LogisticRegression\n",
    "# from sklearn.model_selection import cross_val_score, StratifiedKFold\n",
    "# from sklearn.preprocessing import StandardScaler\n",
    "\n",
    "# # Scale the features\n",
    "# scaler = StandardScaler()\n",
    "# X_train_scaled = scaler.fit_transform(X_train)\n",
    "\n",
    "# # Create Logistic Regression classifier with adjusted parameters\n",
    "# logreg_classifier = LogisticRegression(max_iter=1000, class_weight='balanced')\n",
    "\n",
    "# # Use StratifiedKFold for cross-validation\n",
    "# stratified_cv = StratifiedKFold(n_splits=5)\n",
    "\n",
    "# # Perform cross-validation for Logistic Regression classifier\n",
    "# logreg_scores = cross_val_score(logreg_classifier, X_train_scaled, y_train, cv=stratified_cv)\n",
    "\n",
    "# # Print the cross-validation scores\n",
    "# print(\"Cross-Validation Scores (Logistic Regression):\", logreg_scores)\n",
    "\n",
    "# # Print the mean and standard deviation of the cross-validation scores\n",
    "# print(\"Mean Accuracy (Logistic Regression):\", logreg_scores.mean())\n",
    "# print(\"Standard Deviation of Accuracy (Logistic Regression):\", logreg_scores.std())\n"
   ]
  },
  {
   "cell_type": "code",
   "execution_count": null,
   "metadata": {
    "colab": {
     "base_uri": "https://localhost:8080/"
    },
    "id": "qse2-qWEmsP6",
    "outputId": "304af3f2-82bb-4451-b4e8-fb02232022f5"
   },
   "outputs": [
    {
     "name": "stdout",
     "output_type": "stream",
     "text": [
      "Fitting 5 folds for each of 24 candidates, totalling 120 fits\n",
      "Best Parameters (Logistic Regression): {'C': 0.001, 'class_weight': 'balanced', 'penalty': 'l2', 'solver': 'lbfgs'}\n",
      "Best Score (Logistic Regression): 0.9998576804429804\n"
     ]
    }
   ],
   "source": [
    "# from sklearn.model_selection import GridSearchCV\n",
    "# from sklearn.linear_model import LogisticRegression\n",
    "# from sklearn.preprocessing import StandardScaler\n",
    "\n",
    "# # Scale the features\n",
    "# scaler = StandardScaler()\n",
    "# X_train_scaled = scaler.fit_transform(X_train)\n",
    "\n",
    "# # Define the hyperparameters grid for Logistic Regression\n",
    "# param_grid = {\n",
    "#     'C': [0.001, 0.01, 0.1, 1, 10, 100],  # Regularization parameter\n",
    "#     'penalty': ['l2'],  # Penalty term ('l2' for L2 regularization)\n",
    "#     'solver': ['lbfgs', 'liblinear'],  # Solver ('lbfgs', 'liblinear') to avoid saga issues\n",
    "#     'class_weight': ['balanced', None]  # Handling class imbalance\n",
    "# }\n",
    "\n",
    "# # Use verbose mode to track progress\n",
    "# grid_search = GridSearchCV(\n",
    "#     LogisticRegression(max_iter=2000),\n",
    "#     param_grid,\n",
    "#     cv=5,\n",
    "#     verbose=3,  # Enables built-in progress output\n",
    "#     n_jobs=-1,  # Use all available CPU cores\n",
    "#     scoring=\"accuracy\"\n",
    "# )\n",
    "\n",
    "# grid_search.fit(X_train_scaled, y_train)\n",
    "\n",
    "# # Best parameters for Logistic Regression\n",
    "# print(\"Best Parameters (Logistic Regression):\", grid_search.best_params_)\n",
    "# print(\"Best Score (Logistic Regression):\", grid_search.best_score_)\n"
   ]
  },
  {
   "cell_type": "markdown",
   "metadata": {
    "id": "vlEfXamWqSnL"
   },
   "source": [
    "#### making final (best) Logistic Regression Model"
   ]
  },
  {
   "cell_type": "code",
   "execution_count": null,
   "metadata": {
    "colab": {
     "base_uri": "https://localhost:8080/"
    },
    "id": "PWlX-6qsqWqq",
    "outputId": "3ec058da-0539-4121-dd75-8fa08bac6f67"
   },
   "outputs": [
    {
     "name": "stdout",
     "output_type": "stream",
     "text": [
      "Accuracy: 0.9997429069874209\n",
      "F1 Score: 0.9998424168749015\n",
      "Recall: 0.9997861492228213\n"
     ]
    }
   ],
   "source": [
    "# best_logreg_classifier = LogisticRegression(C=0.1, penalty='l2', solver='lbfgs')\n",
    "\n",
    "# logreg_classifier.fit(X_train, y_train)\n",
    "\n",
    "# # Predict labels for the testing set\n",
    "# y_pred = logreg_classifier.predict(X_test)\n",
    "\n",
    "# # Calculate evaluation metrics\n",
    "# accuracy = accuracy_score(y_test, y_pred)\n",
    "# f1 = f1_score(y_test, y_pred)\n",
    "# recall = recall_score(y_test, y_pred)\n",
    "\n",
    "# # Print the evaluation metrics\n",
    "# print(\"Accuracy:\", accuracy)\n",
    "# print(\"F1 Score:\", f1)\n",
    "# print(\"Recall:\", recall)\n"
   ]
  },
  {
   "cell_type": "markdown",
   "metadata": {
    "id": "2rNk6PmHnlDK"
   },
   "source": [
    "## Prediction and Evaluation\n",
    "I'll start by copying the code for the best models, then printing and comparing the evaluation metrics for each model."
   ]
  },
  {
   "cell_type": "code",
   "execution_count": null,
   "metadata": {
    "colab": {
     "base_uri": "https://localhost:8080/"
    },
    "id": "etBmtu_QnkZr",
    "outputId": "85061393-e771-440b-ee69-ba53e0ee23f3"
   },
   "outputs": [
    {
     "name": "stdout",
     "output_type": "stream",
     "text": [
      "Accuracy: 0.9999816362133872\n",
      "F1 Score: 0.999988744695938\n",
      "Recall: 0.999988744695938\n"
     ]
    }
   ],
   "source": [
    "from sklearn.metrics import accuracy_score, f1_score, recall_score\n",
    "\n",
    "# Train the model on the full training set\n",
    "best_dt_classifier.fit(X_train, y_train)\n",
    "\n",
    "# Predict labels for the testing set\n",
    "y_pred = best_dt_classifier.predict(X_test)\n",
    "\n",
    "# Calculate accuracy\n",
    "accuracy = accuracy_score(y_test, y_pred)\n",
    "print(\"Accuracy:\", accuracy)\n",
    "\n",
    "# Calculate F1 score\n",
    "f1 = f1_score(y_test, y_pred)\n",
    "print(\"F1 Score:\", f1)\n",
    "\n",
    "# Calculate recall\n",
    "recall = recall_score(y_test, y_pred)\n",
    "print(\"Recall:\", recall)\n"
   ]
  },
  {
   "cell_type": "markdown",
   "metadata": {
    "id": "2FCzJg-cYWLu"
   },
   "source": [
    "### Comparison of Models\n",
    "\n",
    "\n",
    "#### Logistic Regression:\n",
    "Accuracy: 0.806  \n",
    "F1 Score: 0.2567049808429119  \n",
    "Recall: 0.16381418092909536  \n",
    "\n",
    "\n",
    "#### Decision Tree:\n",
    "Accuracy: 0.8345  \n",
    "F1 Score: 0.5153733528550514  \n",
    "Recall: 0.43031784841075793  \n",
    "\n",
    "\n",
    "We see that both models are fairly good atcrrectly identifying the positives and have corresponding accuracies. Both models however really struggle with high rates of false negatives. That is, both have poor recall scores; the logistic regression model's is dismal.\n",
    "\n",
    "The decision tree model out performs my linear regression model, but is by no means perfect, missing more than half of the positives.\n"
   ]
  },
  {
   "cell_type": "markdown",
   "metadata": {
    "id": "mlucQb0kaTVC"
   },
   "source": [
    "### Finding most important features in the decision tree classifier"
   ]
  },
  {
   "cell_type": "code",
   "execution_count": null,
   "metadata": {
    "colab": {
     "base_uri": "https://localhost:8080/",
     "height": 668
    },
    "id": "a_ok2musaSQn",
    "outputId": "67fec2a6-f6e7-4967-95e5-bb272d5dbc35"
   },
   "outputs": [
    {
     "name": "stdout",
     "output_type": "stream",
     "text": [
      "Top 5 Most Important Features:\n",
      "centroid_x: 0.973178089576927\n",
      "basis_2_2: 0.01766595544464557\n",
      "coeffs_y: 0.00643958234474886\n",
      "coeffs_x: 0.0011617370146176991\n",
      "centroid_z: 0.0006943674408122065\n"
     ]
    },
    {
     "data": {
      "image/png": "[encoded data removed]",
      "text/plain": [
       "<Figure size 1000x600 with 1 Axes>"
      ]
     },
     "metadata": {},
     "output_type": "display_data"
    }
   ],
   "source": [
    "feature_importances = best_dt_classifier.feature_importances_\n",
    "\n",
    "# Get feature names\n",
    "feature_names = X_train.columns\n",
    "\n",
    "# Create a dictionary mapping feature names to their importances\n",
    "feature_importance_dict = dict(zip(feature_names, feature_importances))\n",
    "\n",
    "# Sort features by their importances\n",
    "sorted_features = sorted(feature_importance_dict.items(), key=lambda x: x[1], reverse=True)\n",
    "\n",
    "# Print the most important features\n",
    "print(\"Top 5 Most Important Features:\")\n",
    "for feature, importance in sorted_features[:5]:\n",
    "    print(f\"{feature}: {importance}\")\n",
    "\n",
    "# Plot feature importances\n",
    "plt.figure(figsize=(10, 6))\n",
    "plt.barh(range(len(sorted_features[:10])), [imp for _, imp in sorted_features[:10]], align='center')\n",
    "plt.yticks(range(len(sorted_features[:10])), [feat for feat, _ in sorted_features[:10]])\n",
    "plt.xlabel('Feature Importance')\n",
    "plt.ylabel('Feature')\n",
    "plt.title('Top 10 Most Important Features')\n",
    "plt.show()"
   ]
  }
 ],
 "metadata": {
  "colab": {
   "provenance": [],
   "toc_visible": true
  },
  "kernelspec": {
   "display_name": "Python 3",
   "name": "python3"
  },
  "language_info": {
   "codemirror_mode": {
    "name": "ipython",
    "version": 3
   },
   "file_extension": ".py",
   "mimetype": "text/x-python",
   "name": "python",
   "nbconvert_exporter": "python",
   "pygments_lexer": "ipython3",
   "version": "3.12.4"
  }
 },
 "nbformat": 4,
 "nbformat_minor": 0
}
